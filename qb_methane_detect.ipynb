{
  "cells": [
    {
      "cell_type": "code",
      "execution_count": 1,
      "metadata": {
        "id": "cVyW-hLt_-No"
      },
      "outputs": [],
      "source": [
        "import tensorflow as tf\n",
        "import scipy.optimize\n",
        "import scipy\n",
        "import pandas as pd\n",
        "from tensorflow import keras\n",
        "import os\n",
        "import random\n",
        "from PIL import Image\n",
        "import numpy as np\n",
        "from sklearn.model_selection import train_test_split\n",
        "from tensorflow import keras\n",
        "from tensorflow.keras.preprocessing.image import ImageDataGenerator\n",
        "from tensorflow.keras import layers\n",
        "from tensorflow.keras.models import Sequential\n",
        "from tensorflow.keras.layers import Conv2D, MaxPooling2D, Flatten, Dense, Dropout\n",
        "from tensorflow.keras.preprocessing.image import ImageDataGenerator\n",
        "from tensorflow.keras.applications import VGG16\n",
        "from tensorflow.keras.applications import EfficientNetB0\n",
        "import matplotlib.pyplot as plt\n",
        "import torch\n",
        "from torchvision import transforms\n",
        "from torch.utils.data import DataLoader, Dataset,random_split\n",
        "from sklearn.metrics import classification_report, f1_score, roc_auc_score\n",
        "import torch.optim.lr_scheduler as lr_scheduler\n",
        "import torch.nn as nn\n",
        "import torchvision.models as models\n",
        "from tqdm import tqdm\n",
        "from torchvision import transforms"
      ]
    },
    {
      "cell_type": "code",
      "source": [
        "from google.colab import drive\n",
        "drive.mount('/content/drive')"
      ],
      "metadata": {
        "colab": {
          "base_uri": "https://localhost:8080/"
        },
        "id": "tEhk33oEA_kt",
        "outputId": "2b1db56d-145b-41b9-dbe8-2d3002a112df"
      },
      "execution_count": 2,
      "outputs": [
        {
          "output_type": "stream",
          "name": "stdout",
          "text": [
            "Drive already mounted at /content/drive; to attempt to forcibly remount, call drive.mount(\"/content/drive\", force_remount=True).\n"
          ]
        }
      ]
    },
    {
      "cell_type": "code",
      "execution_count": 3,
      "metadata": {
        "colab": {
          "base_uri": "https://localhost:8080/",
          "height": 206
        },
        "id": "CENeg6go_-Np",
        "outputId": "090f6be7-d2b8-4fe3-ec66-f9b6dd3b6684"
      },
      "outputs": [
        {
          "output_type": "execute_result",
          "data": {
            "text/plain": [
              "       date id_coord plume    set        lat         lon  coord_x  coord_y  \\\n",
              "0  20230223  id_6675   yes  train  31.528750   74.330625       24       47   \n",
              "1  20230103  id_2542   yes  train  35.538000  112.524000       42       37   \n",
              "2  20230301  id_6546   yes  train  21.060000   84.936667       58       15   \n",
              "3  20230225  id_6084   yes  train  26.756667   80.973333       28       62   \n",
              "4  20230105  id_2012   yes  train  34.800000   40.770000       59       44   \n",
              "\n",
              "                                                path  \n",
              "0  images/plume/20230223_methane_mixing_ratio_id_...  \n",
              "1  images/plume/20230103_methane_mixing_ratio_id_...  \n",
              "2  images/plume/20230301_methane_mixing_ratio_id_...  \n",
              "3  images/plume/20230225_methane_mixing_ratio_id_...  \n",
              "4  images/plume/20230105_methane_mixing_ratio_id_...  "
            ],
            "text/html": [
              "\n",
              "  <div id=\"df-f0768c9a-2d22-4080-8ec2-af80bd3c7549\" class=\"colab-df-container\">\n",
              "    <div>\n",
              "<style scoped>\n",
              "    .dataframe tbody tr th:only-of-type {\n",
              "        vertical-align: middle;\n",
              "    }\n",
              "\n",
              "    .dataframe tbody tr th {\n",
              "        vertical-align: top;\n",
              "    }\n",
              "\n",
              "    .dataframe thead th {\n",
              "        text-align: right;\n",
              "    }\n",
              "</style>\n",
              "<table border=\"1\" class=\"dataframe\">\n",
              "  <thead>\n",
              "    <tr style=\"text-align: right;\">\n",
              "      <th></th>\n",
              "      <th>date</th>\n",
              "      <th>id_coord</th>\n",
              "      <th>plume</th>\n",
              "      <th>set</th>\n",
              "      <th>lat</th>\n",
              "      <th>lon</th>\n",
              "      <th>coord_x</th>\n",
              "      <th>coord_y</th>\n",
              "      <th>path</th>\n",
              "    </tr>\n",
              "  </thead>\n",
              "  <tbody>\n",
              "    <tr>\n",
              "      <th>0</th>\n",
              "      <td>20230223</td>\n",
              "      <td>id_6675</td>\n",
              "      <td>yes</td>\n",
              "      <td>train</td>\n",
              "      <td>31.528750</td>\n",
              "      <td>74.330625</td>\n",
              "      <td>24</td>\n",
              "      <td>47</td>\n",
              "      <td>images/plume/20230223_methane_mixing_ratio_id_...</td>\n",
              "    </tr>\n",
              "    <tr>\n",
              "      <th>1</th>\n",
              "      <td>20230103</td>\n",
              "      <td>id_2542</td>\n",
              "      <td>yes</td>\n",
              "      <td>train</td>\n",
              "      <td>35.538000</td>\n",
              "      <td>112.524000</td>\n",
              "      <td>42</td>\n",
              "      <td>37</td>\n",
              "      <td>images/plume/20230103_methane_mixing_ratio_id_...</td>\n",
              "    </tr>\n",
              "    <tr>\n",
              "      <th>2</th>\n",
              "      <td>20230301</td>\n",
              "      <td>id_6546</td>\n",
              "      <td>yes</td>\n",
              "      <td>train</td>\n",
              "      <td>21.060000</td>\n",
              "      <td>84.936667</td>\n",
              "      <td>58</td>\n",
              "      <td>15</td>\n",
              "      <td>images/plume/20230301_methane_mixing_ratio_id_...</td>\n",
              "    </tr>\n",
              "    <tr>\n",
              "      <th>3</th>\n",
              "      <td>20230225</td>\n",
              "      <td>id_6084</td>\n",
              "      <td>yes</td>\n",
              "      <td>train</td>\n",
              "      <td>26.756667</td>\n",
              "      <td>80.973333</td>\n",
              "      <td>28</td>\n",
              "      <td>62</td>\n",
              "      <td>images/plume/20230225_methane_mixing_ratio_id_...</td>\n",
              "    </tr>\n",
              "    <tr>\n",
              "      <th>4</th>\n",
              "      <td>20230105</td>\n",
              "      <td>id_2012</td>\n",
              "      <td>yes</td>\n",
              "      <td>train</td>\n",
              "      <td>34.800000</td>\n",
              "      <td>40.770000</td>\n",
              "      <td>59</td>\n",
              "      <td>44</td>\n",
              "      <td>images/plume/20230105_methane_mixing_ratio_id_...</td>\n",
              "    </tr>\n",
              "  </tbody>\n",
              "</table>\n",
              "</div>\n",
              "    <div class=\"colab-df-buttons\">\n",
              "\n",
              "  <div class=\"colab-df-container\">\n",
              "    <button class=\"colab-df-convert\" onclick=\"convertToInteractive('df-f0768c9a-2d22-4080-8ec2-af80bd3c7549')\"\n",
              "            title=\"Convert this dataframe to an interactive table.\"\n",
              "            style=\"display:none;\">\n",
              "\n",
              "  <svg xmlns=\"http://www.w3.org/2000/svg\" height=\"24px\" viewBox=\"0 -960 960 960\">\n",
              "    <path d=\"M120-120v-720h720v720H120Zm60-500h600v-160H180v160Zm220 220h160v-160H400v160Zm0 220h160v-160H400v160ZM180-400h160v-160H180v160Zm440 0h160v-160H620v160ZM180-180h160v-160H180v160Zm440 0h160v-160H620v160Z\"/>\n",
              "  </svg>\n",
              "    </button>\n",
              "\n",
              "  <style>\n",
              "    .colab-df-container {\n",
              "      display:flex;\n",
              "      gap: 12px;\n",
              "    }\n",
              "\n",
              "    .colab-df-convert {\n",
              "      background-color: #E8F0FE;\n",
              "      border: none;\n",
              "      border-radius: 50%;\n",
              "      cursor: pointer;\n",
              "      display: none;\n",
              "      fill: #1967D2;\n",
              "      height: 32px;\n",
              "      padding: 0 0 0 0;\n",
              "      width: 32px;\n",
              "    }\n",
              "\n",
              "    .colab-df-convert:hover {\n",
              "      background-color: #E2EBFA;\n",
              "      box-shadow: 0px 1px 2px rgba(60, 64, 67, 0.3), 0px 1px 3px 1px rgba(60, 64, 67, 0.15);\n",
              "      fill: #174EA6;\n",
              "    }\n",
              "\n",
              "    .colab-df-buttons div {\n",
              "      margin-bottom: 4px;\n",
              "    }\n",
              "\n",
              "    [theme=dark] .colab-df-convert {\n",
              "      background-color: #3B4455;\n",
              "      fill: #D2E3FC;\n",
              "    }\n",
              "\n",
              "    [theme=dark] .colab-df-convert:hover {\n",
              "      background-color: #434B5C;\n",
              "      box-shadow: 0px 1px 3px 1px rgba(0, 0, 0, 0.15);\n",
              "      filter: drop-shadow(0px 1px 2px rgba(0, 0, 0, 0.3));\n",
              "      fill: #FFFFFF;\n",
              "    }\n",
              "  </style>\n",
              "\n",
              "    <script>\n",
              "      const buttonEl =\n",
              "        document.querySelector('#df-f0768c9a-2d22-4080-8ec2-af80bd3c7549 button.colab-df-convert');\n",
              "      buttonEl.style.display =\n",
              "        google.colab.kernel.accessAllowed ? 'block' : 'none';\n",
              "\n",
              "      async function convertToInteractive(key) {\n",
              "        const element = document.querySelector('#df-f0768c9a-2d22-4080-8ec2-af80bd3c7549');\n",
              "        const dataTable =\n",
              "          await google.colab.kernel.invokeFunction('convertToInteractive',\n",
              "                                                    [key], {});\n",
              "        if (!dataTable) return;\n",
              "\n",
              "        const docLinkHtml = 'Like what you see? Visit the ' +\n",
              "          '<a target=\"_blank\" href=https://colab.research.google.com/notebooks/data_table.ipynb>data table notebook</a>'\n",
              "          + ' to learn more about interactive tables.';\n",
              "        element.innerHTML = '';\n",
              "        dataTable['output_type'] = 'display_data';\n",
              "        await google.colab.output.renderOutput(dataTable, element);\n",
              "        const docLink = document.createElement('div');\n",
              "        docLink.innerHTML = docLinkHtml;\n",
              "        element.appendChild(docLink);\n",
              "      }\n",
              "    </script>\n",
              "  </div>\n",
              "\n",
              "\n",
              "<div id=\"df-b2a20c03-2c18-4f96-8386-5130022f8ab2\">\n",
              "  <button class=\"colab-df-quickchart\" onclick=\"quickchart('df-b2a20c03-2c18-4f96-8386-5130022f8ab2')\"\n",
              "            title=\"Suggest charts.\"\n",
              "            style=\"display:none;\">\n",
              "\n",
              "<svg xmlns=\"http://www.w3.org/2000/svg\" height=\"24px\"viewBox=\"0 0 24 24\"\n",
              "     width=\"24px\">\n",
              "    <g>\n",
              "        <path d=\"M19 3H5c-1.1 0-2 .9-2 2v14c0 1.1.9 2 2 2h14c1.1 0 2-.9 2-2V5c0-1.1-.9-2-2-2zM9 17H7v-7h2v7zm4 0h-2V7h2v10zm4 0h-2v-4h2v4z\"/>\n",
              "    </g>\n",
              "</svg>\n",
              "  </button>\n",
              "\n",
              "<style>\n",
              "  .colab-df-quickchart {\n",
              "      --bg-color: #E8F0FE;\n",
              "      --fill-color: #1967D2;\n",
              "      --hover-bg-color: #E2EBFA;\n",
              "      --hover-fill-color: #174EA6;\n",
              "      --disabled-fill-color: #AAA;\n",
              "      --disabled-bg-color: #DDD;\n",
              "  }\n",
              "\n",
              "  [theme=dark] .colab-df-quickchart {\n",
              "      --bg-color: #3B4455;\n",
              "      --fill-color: #D2E3FC;\n",
              "      --hover-bg-color: #434B5C;\n",
              "      --hover-fill-color: #FFFFFF;\n",
              "      --disabled-bg-color: #3B4455;\n",
              "      --disabled-fill-color: #666;\n",
              "  }\n",
              "\n",
              "  .colab-df-quickchart {\n",
              "    background-color: var(--bg-color);\n",
              "    border: none;\n",
              "    border-radius: 50%;\n",
              "    cursor: pointer;\n",
              "    display: none;\n",
              "    fill: var(--fill-color);\n",
              "    height: 32px;\n",
              "    padding: 0;\n",
              "    width: 32px;\n",
              "  }\n",
              "\n",
              "  .colab-df-quickchart:hover {\n",
              "    background-color: var(--hover-bg-color);\n",
              "    box-shadow: 0 1px 2px rgba(60, 64, 67, 0.3), 0 1px 3px 1px rgba(60, 64, 67, 0.15);\n",
              "    fill: var(--button-hover-fill-color);\n",
              "  }\n",
              "\n",
              "  .colab-df-quickchart-complete:disabled,\n",
              "  .colab-df-quickchart-complete:disabled:hover {\n",
              "    background-color: var(--disabled-bg-color);\n",
              "    fill: var(--disabled-fill-color);\n",
              "    box-shadow: none;\n",
              "  }\n",
              "\n",
              "  .colab-df-spinner {\n",
              "    border: 2px solid var(--fill-color);\n",
              "    border-color: transparent;\n",
              "    border-bottom-color: var(--fill-color);\n",
              "    animation:\n",
              "      spin 1s steps(1) infinite;\n",
              "  }\n",
              "\n",
              "  @keyframes spin {\n",
              "    0% {\n",
              "      border-color: transparent;\n",
              "      border-bottom-color: var(--fill-color);\n",
              "      border-left-color: var(--fill-color);\n",
              "    }\n",
              "    20% {\n",
              "      border-color: transparent;\n",
              "      border-left-color: var(--fill-color);\n",
              "      border-top-color: var(--fill-color);\n",
              "    }\n",
              "    30% {\n",
              "      border-color: transparent;\n",
              "      border-left-color: var(--fill-color);\n",
              "      border-top-color: var(--fill-color);\n",
              "      border-right-color: var(--fill-color);\n",
              "    }\n",
              "    40% {\n",
              "      border-color: transparent;\n",
              "      border-right-color: var(--fill-color);\n",
              "      border-top-color: var(--fill-color);\n",
              "    }\n",
              "    60% {\n",
              "      border-color: transparent;\n",
              "      border-right-color: var(--fill-color);\n",
              "    }\n",
              "    80% {\n",
              "      border-color: transparent;\n",
              "      border-right-color: var(--fill-color);\n",
              "      border-bottom-color: var(--fill-color);\n",
              "    }\n",
              "    90% {\n",
              "      border-color: transparent;\n",
              "      border-bottom-color: var(--fill-color);\n",
              "    }\n",
              "  }\n",
              "</style>\n",
              "\n",
              "  <script>\n",
              "    async function quickchart(key) {\n",
              "      const quickchartButtonEl =\n",
              "        document.querySelector('#' + key + ' button');\n",
              "      quickchartButtonEl.disabled = true;  // To prevent multiple clicks.\n",
              "      quickchartButtonEl.classList.add('colab-df-spinner');\n",
              "      try {\n",
              "        const charts = await google.colab.kernel.invokeFunction(\n",
              "            'suggestCharts', [key], {});\n",
              "      } catch (error) {\n",
              "        console.error('Error during call to suggestCharts:', error);\n",
              "      }\n",
              "      quickchartButtonEl.classList.remove('colab-df-spinner');\n",
              "      quickchartButtonEl.classList.add('colab-df-quickchart-complete');\n",
              "    }\n",
              "    (() => {\n",
              "      let quickchartButtonEl =\n",
              "        document.querySelector('#df-b2a20c03-2c18-4f96-8386-5130022f8ab2 button');\n",
              "      quickchartButtonEl.style.display =\n",
              "        google.colab.kernel.accessAllowed ? 'block' : 'none';\n",
              "    })();\n",
              "  </script>\n",
              "</div>\n",
              "    </div>\n",
              "  </div>\n"
            ]
          },
          "metadata": {},
          "execution_count": 3
        }
      ],
      "source": [
        "# Load the data\n",
        "df = pd.read_csv('/content/drive/My Drive/data/train data/metadata.csv')\n",
        "df.head()"
      ]
    },
    {
      "cell_type": "code",
      "execution_count": 4,
      "metadata": {
        "id": "1yIzDTUK_-Np"
      },
      "outputs": [],
      "source": [
        "# Split the data\n",
        "train_df, valid_df = train_test_split(df, train_size =0.7, test_size=0.3, random_state=42)"
      ]
    },
    {
      "cell_type": "code",
      "source": [
        "# extract file names from path\n",
        "train_df['new_path'] = train_df['path'].str.replace(r'images/(plume|no_plume)/', '', regex=True) + \".tif\"\n",
        "valid_df['new_path'] = valid_df['path'].str.replace(r'images/(plume|no_plume)/', '', regex=True) + \".tif\""
      ],
      "metadata": {
        "id": "6QkRB9hlsiZH"
      },
      "execution_count": 5,
      "outputs": []
    },
    {
      "cell_type": "code",
      "source": [
        "#For each train and validation datasets seggregate data into separate folders based on plume or no plume\n",
        "import os\n",
        "import random\n",
        "import shutil\n",
        "\n",
        "# Set up paths\n",
        "data_dir = '/content/drive/My Drive/data/train data/images'\n",
        "train_dir= 'train'\n",
        "val_dir = 'validation'\n",
        "\n",
        "plume_dir = 'plume'\n",
        "no_plume_dir = 'no_plume'\n",
        "\n",
        "# Create validation directories\n",
        "os.makedirs(os.path.join(train_dir, plume_dir), exist_ok=True)\n",
        "os.makedirs(os.path.join(train_dir, no_plume_dir), exist_ok=True)\n",
        "os.makedirs(os.path.join(val_dir, plume_dir), exist_ok=True)\n",
        "os.makedirs(os.path.join(val_dir, no_plume_dir), exist_ok=True)\n",
        "\n",
        "for index, row in train_df.iterrows():\n",
        "    image_file = row['new_path']\n",
        "    is_plume = row['plume']\n",
        "\n",
        "    if is_plume == 'yes':\n",
        "      if not os.path.exists(os.path.join(train_dir, plume_dir, image_file)):\n",
        "        shutil.move(os.path.join(data_dir, plume_dir, image_file),\n",
        "                os.path.join(train_dir, plume_dir))\n",
        "    else:\n",
        "      if not os.path.exists(os.path.join(train_dir, no_plume_dir, image_file)):\n",
        "        shutil.move(os.path.join(data_dir, no_plume_dir, image_file),\n",
        "                os.path.join(train_dir, no_plume_dir))\n",
        "\n",
        "for index, row in valid_df.iterrows():\n",
        "    image_file = row['new_path']\n",
        "    is_plume = row['plume']\n",
        "\n",
        "    if is_plume == 'yes':\n",
        "      if not os.path.exists(os.path.join(val_dir, plume_dir, image_file)):\n",
        "        shutil.move(os.path.join(data_dir, plume_dir, image_file),\n",
        "                os.path.join(val_dir, plume_dir))\n",
        "    else:\n",
        "      if not os.path.exists(os.path.join(val_dir, no_plume_dir, image_file)):\n",
        "        shutil.move(os.path.join(data_dir, no_plume_dir, image_file),\n",
        "                os.path.join(val_dir, no_plume_dir))\n"
      ],
      "metadata": {
        "id": "rKVB-yjtp8u3"
      },
      "execution_count": 6,
      "outputs": []
    },
    {
      "cell_type": "code",
      "source": [
        "class CustomDataset(Dataset):\n",
        "    def __init__(self, root_dir, augment=False):\n",
        "        self.root_dir = root_dir\n",
        "        self.augment = augment\n",
        "        self.image_list = []\n",
        "        self.labels = []\n",
        "        self.augmented_images = []\n",
        "\n",
        "        plume_images = []\n",
        "        no_plume_images = []\n",
        "\n",
        "        classes = os.listdir(root_dir)\n",
        "        for class_name in classes:\n",
        "            class_dir = os.path.join(root_dir, class_name)\n",
        "            if os.path.isdir(class_dir):\n",
        "                image_names = os.listdir(class_dir)\n",
        "                tiff_image_names = [img_name for img_name in image_names if img_name.lower().endswith('.tiff') or img_name.lower().endswith('.tif')]\n",
        "\n",
        "                if class_name == 'plume':\n",
        "                    plume_images.extend([os.path.join(class_dir, img_name) for img_name in tiff_image_names])\n",
        "                else:\n",
        "                    no_plume_images.extend([os.path.join(class_dir, img_name) for img_name in tiff_image_names])\n",
        "\n",
        "                self.labels.extend([1 if class_name == 'plume' else 0] * len(tiff_image_names))\n",
        "\n",
        "        # Calculate the number of images in each class\n",
        "        num_images = min(len(plume_images), len(no_plume_images))\n",
        "\n",
        "        if augment:\n",
        "            augmented_images = []\n",
        "            for _ in range(num_images):\n",
        "                # Randomly select plume and no plume images\n",
        "                plume_image_path = random.choice(plume_images)\n",
        "                no_plume_image_path = random.choice(no_plume_images)\n",
        "\n",
        "                # Load and augment plume image\n",
        "                plume_image = Image.open(plume_image_path)\n",
        "                plume_image = plume_image.resize((64, 64))  # Resize to 64x64\n",
        "                transform = transforms.Compose([\n",
        "                    transforms.RandomHorizontalFlip(),\n",
        "                    transforms.RandomRotation(10),\n",
        "                    transforms.ToTensor()\n",
        "                ])\n",
        "                augmented_plume_image = transform(plume_image)\n",
        "                augmented_images.append(augmented_plume_image)\n",
        "\n",
        "                # Load and augment no plume image\n",
        "                no_plume_image = Image.open(no_plume_image_path)\n",
        "                no_plume_image = no_plume_image.resize((64, 64))  # Resize to 64x64\n",
        "                augmented_no_plume_image = transform(no_plume_image)\n",
        "                augmented_images.append(augmented_no_plume_image)\n",
        "\n",
        "            self.augmented_images = augmented_images\n",
        "\n",
        "        self.image_list = plume_images[:num_images] + no_plume_images[:num_images]\n",
        "        self.labels = [1] * num_images + [0] * num_images\n",
        "\n",
        "        if augment:\n",
        "            num_augmented_images = len(self.augmented_images)\n",
        "            self.image_list.extend(self.augmented_images)\n",
        "            self.labels.extend(self.labels[:num_augmented_images])\n",
        "\n",
        "    def __len__(self):\n",
        "        return len(self.image_list)\n",
        "\n",
        "    def __getitem__(self, idx):\n",
        "        image = self.image_list[idx]\n",
        "        label = self.labels[idx]\n",
        "\n",
        "        if isinstance(image, str):\n",
        "            image = Image.open(image)\n",
        "            image = image.resize((64, 64))  # Resize to 64x64\n",
        "\n",
        "            transform = transforms.Compose([\n",
        "                transforms.ToTensor()\n",
        "            ])\n",
        "            image = transform(image)\n",
        "\n",
        "        return image, label"
      ],
      "metadata": {
        "id": "In1ohH-hyw6P"
      },
      "execution_count": 7,
      "outputs": []
    },
    {
      "cell_type": "code",
      "source": [
        "root_dir = \"train\"\n",
        "val_dir = \"validation\"\n",
        "\n",
        "train_dataset = CustomDataset(root_dir, augment=True)\n",
        "val_dataset = CustomDataset(val_dir, augment=False)\n",
        "\n",
        "\n",
        "# Define batch size for training and validation\n",
        "batch_size = 32\n",
        "\n",
        "# Create the train DataLoader\n",
        "train_loader = DataLoader(train_dataset, batch_size=batch_size, shuffle=True)\n",
        "\n",
        "# Create the validation DataLoader\n",
        "val_loader = DataLoader(val_dataset, batch_size=batch_size)\n",
        "\n",
        "# Verify the train and validation data loaders\n",
        "for images, labels in train_loader:\n",
        "    print(f\"Train batch - Images: {images.shape}, Labels: {labels.shape}\")\n",
        "    break\n",
        "\n",
        "for images, labels in val_loader:\n",
        "    print(f\"Validation batch - Images: {images.shape}, Labels: {labels.shape}\")\n",
        "    break"
      ],
      "metadata": {
        "colab": {
          "base_uri": "https://localhost:8080/"
        },
        "id": "e01KB22pyxLc",
        "outputId": "d6dab2b7-b165-4d15-a599-21e02f40f696"
      },
      "execution_count": 8,
      "outputs": [
        {
          "output_type": "stream",
          "name": "stdout",
          "text": [
            "Train batch - Images: torch.Size([32, 1, 64, 64]), Labels: torch.Size([32])\n",
            "Validation batch - Images: torch.Size([32, 1, 64, 64]), Labels: torch.Size([32])\n"
          ]
        }
      ]
    },
    {
      "cell_type": "code",
      "source": [
        "#We can check that our train dataset is balanced between plume and no plume\n",
        "num_plumes = sum(label == 1 for label in train_dataset.labels)\n",
        "num_no_plumes = sum(label == 0 for label in train_dataset.labels)\n",
        "\n",
        "print(\"Number of training samples:\", len(train_dataset))\n",
        "print(f\"Number of plumes: {num_plumes}\")\n",
        "print(f\"Number of no plumes: {num_no_plumes}\")"
      ],
      "metadata": {
        "colab": {
          "base_uri": "https://localhost:8080/"
        },
        "id": "Hhegsm4NzSjd",
        "outputId": "b59ae7bc-c39e-4797-c4cc-2ecf8225c9ab"
      },
      "execution_count": 13,
      "outputs": [
        {
          "output_type": "stream",
          "name": "stdout",
          "text": [
            "Number of training samples: 568\n",
            "Number of plumes: 284\n",
            "Number of no plumes: 284\n"
          ]
        }
      ]
    },
    {
      "cell_type": "markdown",
      "source": [
        "#WideResNet50"
      ],
      "metadata": {
        "id": "mqDHN24bbu8X"
      }
    },
    {
      "cell_type": "code",
      "source": [
        "# Define the device for training (CPU or GPU if available)\n",
        "device = torch.device(\"cuda\" if torch.cuda.is_available() else \"cpu\")\n",
        "\n",
        "# Load the pre-trained ResNet50 model\n",
        "resnet50 = models.wide_resnet50_2(weights='Wide_ResNet50_2_Weights.IMAGENET1K_V2')\n",
        "\n",
        "# Modify the first layer to accept single-channel grayscale images\n",
        "resnet50.conv1 = nn.Conv2d(1, 64, kernel_size=7, stride=2, padding=3, bias=False)\n",
        "\n",
        "# Modify the last fully connected layer for binary classification with softmax activation\n",
        "num_classes = 2  # 2 classes: 1 or 0\n",
        "resnet50.fc = nn.Sequential(\n",
        "    nn.Linear(resnet50.fc.in_features, num_classes)\n",
        ")"
      ],
      "metadata": {
        "colab": {
          "base_uri": "https://localhost:8080/"
        },
        "id": "xqkmXdkDbuts",
        "outputId": "82bfc651-c4c5-441c-fa75-683dcc82c402"
      },
      "execution_count": 10,
      "outputs": [
        {
          "output_type": "stream",
          "name": "stderr",
          "text": [
            "Downloading: \"https://download.pytorch.org/models/wide_resnet50_2-9ba9bcbe.pth\" to /root/.cache/torch/hub/checkpoints/wide_resnet50_2-9ba9bcbe.pth\n",
            "100%|██████████| 263M/263M [00:23<00:00, 11.7MB/s]\n"
          ]
        }
      ]
    },
    {
      "cell_type": "code",
      "source": [
        "# Move the model to the device\n",
        "resnet50 = resnet50.to(device)\n",
        "\n",
        "# Define the loss function (criterion)\n",
        "criterion = nn.CrossEntropyLoss()\n",
        "\n",
        "# Define the optimizer\n",
        "optimizer = torch.optim.Adam(resnet50.parameters(), lr=0.001)\n",
        "\n",
        "num_epochs = 40"
      ],
      "metadata": {
        "id": "K_GjwjV9bflN"
      },
      "execution_count": 11,
      "outputs": []
    },
    {
      "cell_type": "code",
      "source": [
        "from sklearn.metrics import classification_report, f1_score, roc_auc_score\n",
        "best_auc = 0.0\n",
        "# Training loop\n",
        "for epoch in tqdm(range(num_epochs), desc=\"Epochs\"):\n",
        "    resnet50.train()  # Set the model to training mode\n",
        "\n",
        "    epoch_loss = 0.0  # Accumulator for epoch loss\n",
        "    for images, labels in train_loader:\n",
        "        images = images.to(device, dtype=torch.float)\n",
        "        labels = labels.to(device)\n",
        "\n",
        "        # Forward pass\n",
        "        outputs = resnet50(images)\n",
        "        loss = criterion(outputs, labels)\n",
        "\n",
        "        # Backward pass and optimization\n",
        "        optimizer.zero_grad()\n",
        "        loss.backward()\n",
        "        optimizer.step()\n",
        "\n",
        "        # Accumulate the loss\n",
        "        epoch_loss += loss.item()\n",
        "\n",
        "    # Compute the average loss for the epoch\n",
        "    epoch_loss /= len(train_loader)\n",
        "    tqdm.write(f\"Epoch {epoch+1}/{num_epochs} - Average Loss: {epoch_loss}\")\n",
        "\n",
        "    # Validation loop\n",
        "    resnet50.eval()  # Set the model to evaluation mode\n",
        "\n",
        "    true_probabilities = []\n",
        "    predicted_probabilities = []\n",
        "\n",
        "    with torch.no_grad():\n",
        "        for images, labels in val_loader:\n",
        "            images = images.to(device, dtype=torch.float)\n",
        "            labels = labels.to(device)\n",
        "\n",
        "            # Forward pass\n",
        "            outputs = resnet50(images)\n",
        "            probabilities = torch.softmax(outputs, dim=1)\n",
        "\n",
        "            # Collect predicted probabilities and true labels\n",
        "            predicted_probabilities.extend(probabilities[:, 1].cpu().numpy())  # Assuming binary classification\n",
        "            true_probabilities.extend(labels.cpu().numpy())\n",
        "\n",
        "    # Compute the AUC\n",
        "    auc = roc_auc_score(true_probabilities, predicted_probabilities)\n",
        "    print(f\"Validation AUC: {auc}\")\n",
        "\n",
        "    # Check if current accuracy is better than the previous best accuracy\n",
        "    if auc > best_auc:\n",
        "        best_auc = auc\n",
        "        torch.save(resnet50.state_dict(), f\"resnet50_{best_auc:.4f}.pth\")  # Save the model with AUC in the filename\n",
        "        print(\"Saved\")"
      ],
      "metadata": {
        "id": "dimSscoubfoW",
        "colab": {
          "base_uri": "https://localhost:8080/"
        },
        "outputId": "b89e50f8-a907-48f5-c7b1-5bb790235122"
      },
      "execution_count": 12,
      "outputs": [
        {
          "output_type": "stream",
          "name": "stderr",
          "text": [
            "Epochs:   0%|          | 0/40 [00:09<?, ?it/s]"
          ]
        },
        {
          "output_type": "stream",
          "name": "stdout",
          "text": [
            "Epoch 1/40 - Average Loss: 0.7008037236001756\n",
            "Validation AUC: 0.7882653061224489\n"
          ]
        },
        {
          "output_type": "stream",
          "name": "stderr",
          "text": [
            "\rEpochs:   2%|▎         | 1/40 [00:10<07:00, 10.79s/it]"
          ]
        },
        {
          "output_type": "stream",
          "name": "stdout",
          "text": [
            "Saved\n"
          ]
        },
        {
          "output_type": "stream",
          "name": "stderr",
          "text": [
            "Epochs:   5%|▌         | 2/40 [00:12<03:33,  5.63s/it]"
          ]
        },
        {
          "output_type": "stream",
          "name": "stdout",
          "text": [
            "Epoch 2/40 - Average Loss: 0.6173184596829944\n",
            "Validation AUC: 0.6154336734693878\n"
          ]
        },
        {
          "output_type": "stream",
          "name": "stderr",
          "text": [
            "Epochs:   5%|▌         | 2/40 [00:14<03:33,  5.63s/it]"
          ]
        },
        {
          "output_type": "stream",
          "name": "stdout",
          "text": [
            "Epoch 3/40 - Average Loss: 0.4349158720837699\n",
            "Validation AUC: 0.8364158163265306\n"
          ]
        },
        {
          "output_type": "stream",
          "name": "stderr",
          "text": [
            "\rEpochs:   8%|▊         | 3/40 [00:15<02:35,  4.21s/it]"
          ]
        },
        {
          "output_type": "stream",
          "name": "stdout",
          "text": [
            "Saved\n"
          ]
        },
        {
          "output_type": "stream",
          "name": "stderr",
          "text": [
            "Epochs:  10%|█         | 4/40 [00:17<01:59,  3.33s/it]"
          ]
        },
        {
          "output_type": "stream",
          "name": "stdout",
          "text": [
            "Epoch 4/40 - Average Loss: 0.31937407039933735\n",
            "Validation AUC: 0.7385204081632654\n"
          ]
        },
        {
          "output_type": "stream",
          "name": "stderr",
          "text": [
            "Epochs:  12%|█▎        | 5/40 [00:19<01:40,  2.86s/it]"
          ]
        },
        {
          "output_type": "stream",
          "name": "stdout",
          "text": [
            "Epoch 5/40 - Average Loss: 0.34237472381856704\n",
            "Validation AUC: 0.7965561224489796\n"
          ]
        },
        {
          "output_type": "stream",
          "name": "stderr",
          "text": [
            "Epochs:  15%|█▌        | 6/40 [00:21<01:28,  2.59s/it]"
          ]
        },
        {
          "output_type": "stream",
          "name": "stdout",
          "text": [
            "Epoch 6/40 - Average Loss: 0.2711321682565742\n",
            "Validation AUC: 0.6463647959183674\n"
          ]
        },
        {
          "output_type": "stream",
          "name": "stderr",
          "text": [
            "Epochs:  18%|█▊        | 7/40 [00:23<01:19,  2.40s/it]"
          ]
        },
        {
          "output_type": "stream",
          "name": "stdout",
          "text": [
            "Epoch 7/40 - Average Loss: 0.1668978457649549\n",
            "Validation AUC: 0.7889030612244897\n"
          ]
        },
        {
          "output_type": "stream",
          "name": "stderr",
          "text": [
            "Epochs:  20%|██        | 8/40 [00:25<01:12,  2.26s/it]"
          ]
        },
        {
          "output_type": "stream",
          "name": "stdout",
          "text": [
            "Epoch 8/40 - Average Loss: 0.14379617577004764\n",
            "Validation AUC: 0.767219387755102\n"
          ]
        },
        {
          "output_type": "stream",
          "name": "stderr",
          "text": [
            "Epochs:  22%|██▎       | 9/40 [00:27<01:07,  2.18s/it]"
          ]
        },
        {
          "output_type": "stream",
          "name": "stdout",
          "text": [
            "Epoch 9/40 - Average Loss: 0.07712962074826162\n",
            "Validation AUC: 0.8026147959183674\n"
          ]
        },
        {
          "output_type": "stream",
          "name": "stderr",
          "text": [
            "Epochs:  25%|██▌       | 10/40 [00:29<01:03,  2.11s/it]"
          ]
        },
        {
          "output_type": "stream",
          "name": "stdout",
          "text": [
            "Epoch 10/40 - Average Loss: 0.11857124314539963\n",
            "Validation AUC: 0.5070153061224489\n"
          ]
        },
        {
          "output_type": "stream",
          "name": "stderr",
          "text": [
            "Epochs:  28%|██▊       | 11/40 [00:31<01:00,  2.07s/it]"
          ]
        },
        {
          "output_type": "stream",
          "name": "stdout",
          "text": [
            "Epoch 11/40 - Average Loss: 0.2507282081577513\n",
            "Validation AUC: 0.5012755102040817\n"
          ]
        },
        {
          "output_type": "stream",
          "name": "stderr",
          "text": [
            "Epochs:  30%|███       | 12/40 [00:33<00:57,  2.07s/it]"
          ]
        },
        {
          "output_type": "stream",
          "name": "stdout",
          "text": [
            "Epoch 12/40 - Average Loss: 0.21262330851621097\n",
            "Validation AUC: 0.6948341836734694\n"
          ]
        },
        {
          "output_type": "stream",
          "name": "stderr",
          "text": [
            "Epochs:  32%|███▎      | 13/40 [00:35<00:56,  2.07s/it]"
          ]
        },
        {
          "output_type": "stream",
          "name": "stdout",
          "text": [
            "Epoch 13/40 - Average Loss: 0.1689421675271458\n",
            "Validation AUC: 0.7244897959183674\n"
          ]
        },
        {
          "output_type": "stream",
          "name": "stderr",
          "text": [
            "Epochs:  35%|███▌      | 14/40 [00:37<00:53,  2.05s/it]"
          ]
        },
        {
          "output_type": "stream",
          "name": "stdout",
          "text": [
            "Epoch 14/40 - Average Loss: 0.11053391132089826\n",
            "Validation AUC: 0.6693239795918368\n"
          ]
        },
        {
          "output_type": "stream",
          "name": "stderr",
          "text": [
            "Epochs:  38%|███▊      | 15/40 [00:39<00:50,  2.02s/it]"
          ]
        },
        {
          "output_type": "stream",
          "name": "stdout",
          "text": [
            "Epoch 15/40 - Average Loss: 0.09326186703724994\n",
            "Validation AUC: 0.7949617346938775\n"
          ]
        },
        {
          "output_type": "stream",
          "name": "stderr",
          "text": [
            "Epochs:  40%|████      | 16/40 [00:41<00:48,  2.01s/it]"
          ]
        },
        {
          "output_type": "stream",
          "name": "stdout",
          "text": [
            "Epoch 16/40 - Average Loss: 0.13897912359486023\n",
            "Validation AUC: 0.764030612244898\n"
          ]
        },
        {
          "output_type": "stream",
          "name": "stderr",
          "text": [
            "Epochs:  42%|████▎     | 17/40 [00:43<00:46,  2.00s/it]"
          ]
        },
        {
          "output_type": "stream",
          "name": "stdout",
          "text": [
            "Epoch 17/40 - Average Loss: 0.10989986546337605\n",
            "Validation AUC: 0.7850765306122449\n"
          ]
        },
        {
          "output_type": "stream",
          "name": "stderr",
          "text": [
            "Epochs:  45%|████▌     | 18/40 [00:45<00:43,  2.00s/it]"
          ]
        },
        {
          "output_type": "stream",
          "name": "stdout",
          "text": [
            "Epoch 18/40 - Average Loss: 0.06401857159410913\n",
            "Validation AUC: 0.7866709183673469\n"
          ]
        },
        {
          "output_type": "stream",
          "name": "stderr",
          "text": [
            "Epochs:  48%|████▊     | 19/40 [00:47<00:42,  2.02s/it]"
          ]
        },
        {
          "output_type": "stream",
          "name": "stdout",
          "text": [
            "Epoch 19/40 - Average Loss: 0.06917118014664286\n",
            "Validation AUC: 0.8134566326530611\n"
          ]
        },
        {
          "output_type": "stream",
          "name": "stderr",
          "text": [
            "Epochs:  50%|█████     | 20/40 [00:49<00:40,  2.03s/it]"
          ]
        },
        {
          "output_type": "stream",
          "name": "stdout",
          "text": [
            "Epoch 20/40 - Average Loss: 0.09838763614081675\n",
            "Validation AUC: 0.7930484693877551\n"
          ]
        },
        {
          "output_type": "stream",
          "name": "stderr",
          "text": [
            "Epochs:  52%|█████▎    | 21/40 [00:51<00:38,  2.02s/it]"
          ]
        },
        {
          "output_type": "stream",
          "name": "stdout",
          "text": [
            "Epoch 21/40 - Average Loss: 0.08384091906353003\n",
            "Validation AUC: 0.7855548469387755\n"
          ]
        },
        {
          "output_type": "stream",
          "name": "stderr",
          "text": [
            "Epochs:  55%|█████▌    | 22/40 [00:53<00:36,  2.01s/it]"
          ]
        },
        {
          "output_type": "stream",
          "name": "stdout",
          "text": [
            "Epoch 22/40 - Average Loss: 0.07245785598125723\n",
            "Validation AUC: 0.7420280612244898\n"
          ]
        },
        {
          "output_type": "stream",
          "name": "stderr",
          "text": [
            "Epochs:  57%|█████▊    | 23/40 [00:55<00:34,  2.00s/it]"
          ]
        },
        {
          "output_type": "stream",
          "name": "stdout",
          "text": [
            "Epoch 23/40 - Average Loss: 0.07409490225836635\n",
            "Validation AUC: 0.7806122448979591\n"
          ]
        },
        {
          "output_type": "stream",
          "name": "stderr",
          "text": [
            "Epochs:  60%|██████    | 24/40 [00:57<00:31,  2.00s/it]"
          ]
        },
        {
          "output_type": "stream",
          "name": "stdout",
          "text": [
            "Epoch 24/40 - Average Loss: 0.05383376751302017\n",
            "Validation AUC: 0.8198341836734694\n"
          ]
        },
        {
          "output_type": "stream",
          "name": "stderr",
          "text": [
            "Epochs:  62%|██████▎   | 25/40 [00:59<00:30,  2.01s/it]"
          ]
        },
        {
          "output_type": "stream",
          "name": "stdout",
          "text": [
            "Epoch 25/40 - Average Loss: 0.10661433176654908\n",
            "Validation AUC: 0.7933673469387756\n"
          ]
        },
        {
          "output_type": "stream",
          "name": "stderr",
          "text": [
            "Epochs:  65%|██████▌   | 26/40 [01:01<00:28,  2.04s/it]"
          ]
        },
        {
          "output_type": "stream",
          "name": "stdout",
          "text": [
            "Epoch 26/40 - Average Loss: 0.060670214601688914\n",
            "Validation AUC: 0.7576530612244897\n"
          ]
        },
        {
          "output_type": "stream",
          "name": "stderr",
          "text": [
            "Epochs:  68%|██████▊   | 27/40 [01:03<00:26,  2.04s/it]"
          ]
        },
        {
          "output_type": "stream",
          "name": "stdout",
          "text": [
            "Epoch 27/40 - Average Loss: 0.061640865486373916\n",
            "Validation AUC: 0.7206632653061225\n"
          ]
        },
        {
          "output_type": "stream",
          "name": "stderr",
          "text": [
            "Epochs:  70%|███████   | 28/40 [01:05<00:24,  2.03s/it]"
          ]
        },
        {
          "output_type": "stream",
          "name": "stdout",
          "text": [
            "Epoch 28/40 - Average Loss: 0.046890373225323856\n",
            "Validation AUC: 0.7069515306122449\n"
          ]
        },
        {
          "output_type": "stream",
          "name": "stderr",
          "text": [
            "Epochs:  72%|███████▎  | 29/40 [01:07<00:22,  2.02s/it]"
          ]
        },
        {
          "output_type": "stream",
          "name": "stdout",
          "text": [
            "Epoch 29/40 - Average Loss: 0.10570986067048377\n",
            "Validation AUC: 0.7538265306122449\n"
          ]
        },
        {
          "output_type": "stream",
          "name": "stderr",
          "text": [
            "Epochs:  75%|███████▌  | 30/40 [01:09<00:20,  2.02s/it]"
          ]
        },
        {
          "output_type": "stream",
          "name": "stdout",
          "text": [
            "Epoch 30/40 - Average Loss: 0.10426322308679421\n",
            "Validation AUC: 0.7940051020408163\n"
          ]
        },
        {
          "output_type": "stream",
          "name": "stderr",
          "text": [
            "Epochs:  78%|███████▊  | 31/40 [01:11<00:18,  2.02s/it]"
          ]
        },
        {
          "output_type": "stream",
          "name": "stdout",
          "text": [
            "Epoch 31/40 - Average Loss: 0.0668113346522053\n",
            "Validation AUC: 0.7713647959183674\n"
          ]
        },
        {
          "output_type": "stream",
          "name": "stderr",
          "text": [
            "Epochs:  80%|████████  | 32/40 [01:13<00:16,  2.04s/it]"
          ]
        },
        {
          "output_type": "stream",
          "name": "stdout",
          "text": [
            "Epoch 32/40 - Average Loss: 0.05247772730783456\n",
            "Validation AUC: 0.8070790816326531\n"
          ]
        },
        {
          "output_type": "stream",
          "name": "stderr",
          "text": [
            "Epochs:  82%|████████▎ | 33/40 [01:15<00:14,  2.07s/it]"
          ]
        },
        {
          "output_type": "stream",
          "name": "stdout",
          "text": [
            "Epoch 33/40 - Average Loss: 0.046894665374161884\n",
            "Validation AUC: 0.7726403061224489\n"
          ]
        },
        {
          "output_type": "stream",
          "name": "stderr",
          "text": [
            "Epochs:  85%|████████▌ | 34/40 [01:17<00:12,  2.06s/it]"
          ]
        },
        {
          "output_type": "stream",
          "name": "stdout",
          "text": [
            "Epoch 34/40 - Average Loss: 0.03710214377173947\n",
            "Validation AUC: 0.8032525510204082\n"
          ]
        },
        {
          "output_type": "stream",
          "name": "stderr",
          "text": [
            "Epochs:  88%|████████▊ | 35/40 [01:19<00:10,  2.05s/it]"
          ]
        },
        {
          "output_type": "stream",
          "name": "stdout",
          "text": [
            "Epoch 35/40 - Average Loss: 0.0242405469083072\n",
            "Validation AUC: 0.7924107142857143\n"
          ]
        },
        {
          "output_type": "stream",
          "name": "stderr",
          "text": [
            "Epochs:  90%|█████████ | 36/40 [01:22<00:08,  2.05s/it]"
          ]
        },
        {
          "output_type": "stream",
          "name": "stdout",
          "text": [
            "Epoch 36/40 - Average Loss: 0.026113977657385275\n",
            "Validation AUC: 0.8105867346938777\n"
          ]
        },
        {
          "output_type": "stream",
          "name": "stderr",
          "text": [
            "Epochs:  92%|█████████▎| 37/40 [01:24<00:06,  2.04s/it]"
          ]
        },
        {
          "output_type": "stream",
          "name": "stdout",
          "text": [
            "Epoch 37/40 - Average Loss: 0.13039602006837311\n",
            "Validation AUC: 0.7123724489795918\n"
          ]
        },
        {
          "output_type": "stream",
          "name": "stderr",
          "text": [
            "Epochs:  95%|█████████▌| 38/40 [01:26<00:04,  2.04s/it]"
          ]
        },
        {
          "output_type": "stream",
          "name": "stdout",
          "text": [
            "Epoch 38/40 - Average Loss: 0.22460928559303284\n",
            "Validation AUC: 0.7302295918367347\n"
          ]
        },
        {
          "output_type": "stream",
          "name": "stderr",
          "text": [
            "Epochs:  98%|█████████▊| 39/40 [01:28<00:02,  2.07s/it]"
          ]
        },
        {
          "output_type": "stream",
          "name": "stdout",
          "text": [
            "Epoch 39/40 - Average Loss: 0.1745430175215006\n",
            "Validation AUC: 0.7563775510204082\n"
          ]
        },
        {
          "output_type": "stream",
          "name": "stderr",
          "text": [
            "Epochs:  98%|█████████▊| 39/40 [01:30<00:02,  2.07s/it]"
          ]
        },
        {
          "output_type": "stream",
          "name": "stdout",
          "text": [
            "Epoch 40/40 - Average Loss: 0.15734893093920416\n",
            "Validation AUC: 0.8517219387755103\n"
          ]
        },
        {
          "output_type": "stream",
          "name": "stderr",
          "text": [
            "Epochs: 100%|██████████| 40/40 [01:30<00:00,  2.27s/it]"
          ]
        },
        {
          "output_type": "stream",
          "name": "stdout",
          "text": [
            "Saved\n"
          ]
        },
        {
          "output_type": "stream",
          "name": "stderr",
          "text": [
            "\n"
          ]
        }
      ]
    }
  ],
  "metadata": {
    "kernelspec": {
      "display_name": "Python 3",
      "name": "python3"
    },
    "language_info": {
      "codemirror_mode": {
        "name": "ipython",
        "version": 3
      },
      "file_extension": ".py",
      "mimetype": "text/x-python",
      "name": "python",
      "nbconvert_exporter": "python",
      "pygments_lexer": "ipython3",
      "version": "3.9.12"
    },
    "vscode": {
      "interpreter": {
        "hash": "31f2aee4e71d21fbe5cf8b01ff0e069b9275f58929596ceb00d14d90e3e16cd6"
      }
    },
    "colab": {
      "provenance": [],
      "gpuType": "T4"
    },
    "accelerator": "GPU"
  },
  "nbformat": 4,
  "nbformat_minor": 0
}