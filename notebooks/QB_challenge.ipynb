{
  "nbformat": 4,
  "nbformat_minor": 0,
  "metadata": {
    "colab": {
      "provenance": [],
      "mount_file_id": "1AD0uE7YUgPl7fLUmj8upwzZEuSs6JnFY",
      "authorship_tag": "ABX9TyNGr72Z15NYeAhn3WltfbWW",
      "include_colab_link": true
    },
    "kernelspec": {
      "name": "python3",
      "display_name": "Python 3"
    },
    "language_info": {
      "name": "python"
    }
  },
  "cells": [
    {
      "cell_type": "markdown",
      "metadata": {
        "id": "view-in-github",
        "colab_type": "text"
      },
      "source": [
        "<a href=\"https://colab.research.google.com/github/mat10599/QB_hackaton/blob/main/notebooks/QB_challenge.ipynb\" target=\"_parent\"><img src=\"https://colab.research.google.com/assets/colab-badge.svg\" alt=\"Open In Colab\"/></a>"
      ]
    },
    {
      "cell_type": "code",
      "execution_count": 1,
      "metadata": {
        "id": "K8_VQN423hBr"
      },
      "outputs": [],
      "source": [
        "import tensorflow as tf\n",
        "import scipy.optimize\n",
        "import scipy\n",
        "import pandas as pd\n",
        "from tensorflow import keras\n",
        "import os\n",
        "import random\n",
        "from PIL import Image\n",
        "import numpy as np\n",
        "from sklearn.model_selection import train_test_split\n",
        "from tensorflow import keras\n",
        "from tensorflow.keras.preprocessing.image import ImageDataGenerator\n",
        "from tensorflow.keras import layers\n",
        "from tensorflow.keras.models import Sequential\n",
        "from tensorflow.keras.layers import Conv2D, MaxPooling2D, Flatten, Dense, Dropout\n",
        "from tensorflow.keras.preprocessing.image import ImageDataGenerator\n",
        "from tensorflow.keras.applications import VGG16\n",
        "from tensorflow.keras.applications import EfficientNetB0\n",
        "from tensorflow.keras.optimizers import Adam\n"
      ]
    },
    {
      "cell_type": "code",
      "source": [
        "from google.colab import drive\n",
        "drive.mount('/content/drive')"
      ],
      "metadata": {
        "colab": {
          "base_uri": "https://localhost:8080/"
        },
        "id": "SVCOt9kl3vHT",
        "outputId": "834766ad-b6d4-40bf-d0cb-6d87f2907b06"
      },
      "execution_count": 2,
      "outputs": [
        {
          "output_type": "stream",
          "name": "stdout",
          "text": [
            "Drive already mounted at /content/drive; to attempt to forcibly remount, call drive.mount(\"/content/drive\", force_remount=True).\n"
          ]
        }
      ]
    },
    {
      "cell_type": "code",
      "source": [
        "# Load the data\n",
        "df = pd.read_csv('drive/MyDrive/data_good/data/train data/metadata.csv')\n",
        "df[\"path\"] = \"drive/MyDrive/data_good/data/train data/\" + df[\"path\"] + \".tif\"\n",
        "df.head()"
      ],
      "metadata": {
        "colab": {
          "base_uri": "https://localhost:8080/",
          "height": 206
        },
        "id": "qolF1YnT5DV1",
        "outputId": "1525bf96-e387-42a8-9ae4-4ab49b9b3687"
      },
      "execution_count": 4,
      "outputs": [
        {
          "output_type": "execute_result",
          "data": {
            "text/plain": [
              "       date id_coord plume    set        lat         lon  coord_x  coord_y  \\\n",
              "0  20230223  id_6675   yes  train  31.528750   74.330625       24       47   \n",
              "1  20230103  id_2542   yes  train  35.538000  112.524000       42       37   \n",
              "2  20230301  id_6546   yes  train  21.060000   84.936667       58       15   \n",
              "3  20230225  id_6084   yes  train  26.756667   80.973333       28       62   \n",
              "4  20230105  id_2012   yes  train  34.800000   40.770000       59       44   \n",
              "\n",
              "                                                path  \n",
              "0  drive/MyDrive/data_good/data/train data/images...  \n",
              "1  drive/MyDrive/data_good/data/train data/images...  \n",
              "2  drive/MyDrive/data_good/data/train data/images...  \n",
              "3  drive/MyDrive/data_good/data/train data/images...  \n",
              "4  drive/MyDrive/data_good/data/train data/images...  "
            ],
            "text/html": [
              "\n",
              "  <div id=\"df-4e33d39f-4bb9-4e0f-9d9d-8df579921455\" class=\"colab-df-container\">\n",
              "    <div>\n",
              "<style scoped>\n",
              "    .dataframe tbody tr th:only-of-type {\n",
              "        vertical-align: middle;\n",
              "    }\n",
              "\n",
              "    .dataframe tbody tr th {\n",
              "        vertical-align: top;\n",
              "    }\n",
              "\n",
              "    .dataframe thead th {\n",
              "        text-align: right;\n",
              "    }\n",
              "</style>\n",
              "<table border=\"1\" class=\"dataframe\">\n",
              "  <thead>\n",
              "    <tr style=\"text-align: right;\">\n",
              "      <th></th>\n",
              "      <th>date</th>\n",
              "      <th>id_coord</th>\n",
              "      <th>plume</th>\n",
              "      <th>set</th>\n",
              "      <th>lat</th>\n",
              "      <th>lon</th>\n",
              "      <th>coord_x</th>\n",
              "      <th>coord_y</th>\n",
              "      <th>path</th>\n",
              "    </tr>\n",
              "  </thead>\n",
              "  <tbody>\n",
              "    <tr>\n",
              "      <th>0</th>\n",
              "      <td>20230223</td>\n",
              "      <td>id_6675</td>\n",
              "      <td>yes</td>\n",
              "      <td>train</td>\n",
              "      <td>31.528750</td>\n",
              "      <td>74.330625</td>\n",
              "      <td>24</td>\n",
              "      <td>47</td>\n",
              "      <td>drive/MyDrive/data_good/data/train data/images...</td>\n",
              "    </tr>\n",
              "    <tr>\n",
              "      <th>1</th>\n",
              "      <td>20230103</td>\n",
              "      <td>id_2542</td>\n",
              "      <td>yes</td>\n",
              "      <td>train</td>\n",
              "      <td>35.538000</td>\n",
              "      <td>112.524000</td>\n",
              "      <td>42</td>\n",
              "      <td>37</td>\n",
              "      <td>drive/MyDrive/data_good/data/train data/images...</td>\n",
              "    </tr>\n",
              "    <tr>\n",
              "      <th>2</th>\n",
              "      <td>20230301</td>\n",
              "      <td>id_6546</td>\n",
              "      <td>yes</td>\n",
              "      <td>train</td>\n",
              "      <td>21.060000</td>\n",
              "      <td>84.936667</td>\n",
              "      <td>58</td>\n",
              "      <td>15</td>\n",
              "      <td>drive/MyDrive/data_good/data/train data/images...</td>\n",
              "    </tr>\n",
              "    <tr>\n",
              "      <th>3</th>\n",
              "      <td>20230225</td>\n",
              "      <td>id_6084</td>\n",
              "      <td>yes</td>\n",
              "      <td>train</td>\n",
              "      <td>26.756667</td>\n",
              "      <td>80.973333</td>\n",
              "      <td>28</td>\n",
              "      <td>62</td>\n",
              "      <td>drive/MyDrive/data_good/data/train data/images...</td>\n",
              "    </tr>\n",
              "    <tr>\n",
              "      <th>4</th>\n",
              "      <td>20230105</td>\n",
              "      <td>id_2012</td>\n",
              "      <td>yes</td>\n",
              "      <td>train</td>\n",
              "      <td>34.800000</td>\n",
              "      <td>40.770000</td>\n",
              "      <td>59</td>\n",
              "      <td>44</td>\n",
              "      <td>drive/MyDrive/data_good/data/train data/images...</td>\n",
              "    </tr>\n",
              "  </tbody>\n",
              "</table>\n",
              "</div>\n",
              "    <div class=\"colab-df-buttons\">\n",
              "\n",
              "  <div class=\"colab-df-container\">\n",
              "    <button class=\"colab-df-convert\" onclick=\"convertToInteractive('df-4e33d39f-4bb9-4e0f-9d9d-8df579921455')\"\n",
              "            title=\"Convert this dataframe to an interactive table.\"\n",
              "            style=\"display:none;\">\n",
              "\n",
              "  <svg xmlns=\"http://www.w3.org/2000/svg\" height=\"24px\" viewBox=\"0 -960 960 960\">\n",
              "    <path d=\"M120-120v-720h720v720H120Zm60-500h600v-160H180v160Zm220 220h160v-160H400v160Zm0 220h160v-160H400v160ZM180-400h160v-160H180v160Zm440 0h160v-160H620v160ZM180-180h160v-160H180v160Zm440 0h160v-160H620v160Z\"/>\n",
              "  </svg>\n",
              "    </button>\n",
              "\n",
              "  <style>\n",
              "    .colab-df-container {\n",
              "      display:flex;\n",
              "      gap: 12px;\n",
              "    }\n",
              "\n",
              "    .colab-df-convert {\n",
              "      background-color: #E8F0FE;\n",
              "      border: none;\n",
              "      border-radius: 50%;\n",
              "      cursor: pointer;\n",
              "      display: none;\n",
              "      fill: #1967D2;\n",
              "      height: 32px;\n",
              "      padding: 0 0 0 0;\n",
              "      width: 32px;\n",
              "    }\n",
              "\n",
              "    .colab-df-convert:hover {\n",
              "      background-color: #E2EBFA;\n",
              "      box-shadow: 0px 1px 2px rgba(60, 64, 67, 0.3), 0px 1px 3px 1px rgba(60, 64, 67, 0.15);\n",
              "      fill: #174EA6;\n",
              "    }\n",
              "\n",
              "    .colab-df-buttons div {\n",
              "      margin-bottom: 4px;\n",
              "    }\n",
              "\n",
              "    [theme=dark] .colab-df-convert {\n",
              "      background-color: #3B4455;\n",
              "      fill: #D2E3FC;\n",
              "    }\n",
              "\n",
              "    [theme=dark] .colab-df-convert:hover {\n",
              "      background-color: #434B5C;\n",
              "      box-shadow: 0px 1px 3px 1px rgba(0, 0, 0, 0.15);\n",
              "      filter: drop-shadow(0px 1px 2px rgba(0, 0, 0, 0.3));\n",
              "      fill: #FFFFFF;\n",
              "    }\n",
              "  </style>\n",
              "\n",
              "    <script>\n",
              "      const buttonEl =\n",
              "        document.querySelector('#df-4e33d39f-4bb9-4e0f-9d9d-8df579921455 button.colab-df-convert');\n",
              "      buttonEl.style.display =\n",
              "        google.colab.kernel.accessAllowed ? 'block' : 'none';\n",
              "\n",
              "      async function convertToInteractive(key) {\n",
              "        const element = document.querySelector('#df-4e33d39f-4bb9-4e0f-9d9d-8df579921455');\n",
              "        const dataTable =\n",
              "          await google.colab.kernel.invokeFunction('convertToInteractive',\n",
              "                                                    [key], {});\n",
              "        if (!dataTable) return;\n",
              "\n",
              "        const docLinkHtml = 'Like what you see? Visit the ' +\n",
              "          '<a target=\"_blank\" href=https://colab.research.google.com/notebooks/data_table.ipynb>data table notebook</a>'\n",
              "          + ' to learn more about interactive tables.';\n",
              "        element.innerHTML = '';\n",
              "        dataTable['output_type'] = 'display_data';\n",
              "        await google.colab.output.renderOutput(dataTable, element);\n",
              "        const docLink = document.createElement('div');\n",
              "        docLink.innerHTML = docLinkHtml;\n",
              "        element.appendChild(docLink);\n",
              "      }\n",
              "    </script>\n",
              "  </div>\n",
              "\n",
              "\n",
              "<div id=\"df-9e016fc0-362b-4f5d-891a-b63f489bcce1\">\n",
              "  <button class=\"colab-df-quickchart\" onclick=\"quickchart('df-9e016fc0-362b-4f5d-891a-b63f489bcce1')\"\n",
              "            title=\"Suggest charts.\"\n",
              "            style=\"display:none;\">\n",
              "\n",
              "<svg xmlns=\"http://www.w3.org/2000/svg\" height=\"24px\"viewBox=\"0 0 24 24\"\n",
              "     width=\"24px\">\n",
              "    <g>\n",
              "        <path d=\"M19 3H5c-1.1 0-2 .9-2 2v14c0 1.1.9 2 2 2h14c1.1 0 2-.9 2-2V5c0-1.1-.9-2-2-2zM9 17H7v-7h2v7zm4 0h-2V7h2v10zm4 0h-2v-4h2v4z\"/>\n",
              "    </g>\n",
              "</svg>\n",
              "  </button>\n",
              "\n",
              "<style>\n",
              "  .colab-df-quickchart {\n",
              "      --bg-color: #E8F0FE;\n",
              "      --fill-color: #1967D2;\n",
              "      --hover-bg-color: #E2EBFA;\n",
              "      --hover-fill-color: #174EA6;\n",
              "      --disabled-fill-color: #AAA;\n",
              "      --disabled-bg-color: #DDD;\n",
              "  }\n",
              "\n",
              "  [theme=dark] .colab-df-quickchart {\n",
              "      --bg-color: #3B4455;\n",
              "      --fill-color: #D2E3FC;\n",
              "      --hover-bg-color: #434B5C;\n",
              "      --hover-fill-color: #FFFFFF;\n",
              "      --disabled-bg-color: #3B4455;\n",
              "      --disabled-fill-color: #666;\n",
              "  }\n",
              "\n",
              "  .colab-df-quickchart {\n",
              "    background-color: var(--bg-color);\n",
              "    border: none;\n",
              "    border-radius: 50%;\n",
              "    cursor: pointer;\n",
              "    display: none;\n",
              "    fill: var(--fill-color);\n",
              "    height: 32px;\n",
              "    padding: 0;\n",
              "    width: 32px;\n",
              "  }\n",
              "\n",
              "  .colab-df-quickchart:hover {\n",
              "    background-color: var(--hover-bg-color);\n",
              "    box-shadow: 0 1px 2px rgba(60, 64, 67, 0.3), 0 1px 3px 1px rgba(60, 64, 67, 0.15);\n",
              "    fill: var(--button-hover-fill-color);\n",
              "  }\n",
              "\n",
              "  .colab-df-quickchart-complete:disabled,\n",
              "  .colab-df-quickchart-complete:disabled:hover {\n",
              "    background-color: var(--disabled-bg-color);\n",
              "    fill: var(--disabled-fill-color);\n",
              "    box-shadow: none;\n",
              "  }\n",
              "\n",
              "  .colab-df-spinner {\n",
              "    border: 2px solid var(--fill-color);\n",
              "    border-color: transparent;\n",
              "    border-bottom-color: var(--fill-color);\n",
              "    animation:\n",
              "      spin 1s steps(1) infinite;\n",
              "  }\n",
              "\n",
              "  @keyframes spin {\n",
              "    0% {\n",
              "      border-color: transparent;\n",
              "      border-bottom-color: var(--fill-color);\n",
              "      border-left-color: var(--fill-color);\n",
              "    }\n",
              "    20% {\n",
              "      border-color: transparent;\n",
              "      border-left-color: var(--fill-color);\n",
              "      border-top-color: var(--fill-color);\n",
              "    }\n",
              "    30% {\n",
              "      border-color: transparent;\n",
              "      border-left-color: var(--fill-color);\n",
              "      border-top-color: var(--fill-color);\n",
              "      border-right-color: var(--fill-color);\n",
              "    }\n",
              "    40% {\n",
              "      border-color: transparent;\n",
              "      border-right-color: var(--fill-color);\n",
              "      border-top-color: var(--fill-color);\n",
              "    }\n",
              "    60% {\n",
              "      border-color: transparent;\n",
              "      border-right-color: var(--fill-color);\n",
              "    }\n",
              "    80% {\n",
              "      border-color: transparent;\n",
              "      border-right-color: var(--fill-color);\n",
              "      border-bottom-color: var(--fill-color);\n",
              "    }\n",
              "    90% {\n",
              "      border-color: transparent;\n",
              "      border-bottom-color: var(--fill-color);\n",
              "    }\n",
              "  }\n",
              "</style>\n",
              "\n",
              "  <script>\n",
              "    async function quickchart(key) {\n",
              "      const quickchartButtonEl =\n",
              "        document.querySelector('#' + key + ' button');\n",
              "      quickchartButtonEl.disabled = true;  // To prevent multiple clicks.\n",
              "      quickchartButtonEl.classList.add('colab-df-spinner');\n",
              "      try {\n",
              "        const charts = await google.colab.kernel.invokeFunction(\n",
              "            'suggestCharts', [key], {});\n",
              "      } catch (error) {\n",
              "        console.error('Error during call to suggestCharts:', error);\n",
              "      }\n",
              "      quickchartButtonEl.classList.remove('colab-df-spinner');\n",
              "      quickchartButtonEl.classList.add('colab-df-quickchart-complete');\n",
              "    }\n",
              "    (() => {\n",
              "      let quickchartButtonEl =\n",
              "        document.querySelector('#df-9e016fc0-362b-4f5d-891a-b63f489bcce1 button');\n",
              "      quickchartButtonEl.style.display =\n",
              "        google.colab.kernel.accessAllowed ? 'block' : 'none';\n",
              "    })();\n",
              "  </script>\n",
              "</div>\n",
              "    </div>\n",
              "  </div>\n"
            ]
          },
          "metadata": {},
          "execution_count": 4
        }
      ]
    },
    {
      "cell_type": "code",
      "source": [
        "# Split the data\n",
        "train_df, valid_df = train_test_split(df, test_size=0.3, random_state=42)\n",
        "val_df, test_df = train_test_split(valid_df, test_size=0.5, random_state=42)"
      ],
      "metadata": {
        "id": "G9UeITE85h-J"
      },
      "execution_count": 5,
      "outputs": []
    },
    {
      "cell_type": "markdown",
      "source": [
        "## CNN de Base"
      ],
      "metadata": {
        "id": "jyTMTnbUaBGy"
      }
    },
    {
      "cell_type": "markdown",
      "source": [
        "### preprocess"
      ],
      "metadata": {
        "id": "nScTeJ_naWmI"
      }
    },
    {
      "cell_type": "code",
      "source": [
        "image = Image.open(train_df.loc[4,'path'])\n",
        "# image = image.resize((image_height, image_width))\n",
        "image = np.array(image)\n",
        "np.max(image)"
      ],
      "metadata": {
        "colab": {
          "base_uri": "https://localhost:8080/"
        },
        "id": "-MXinjEMhYs-",
        "outputId": "bd633574-1290-42e9-cf98-1fd7e8fe7398"
      },
      "execution_count": 6,
      "outputs": [
        {
          "output_type": "execute_result",
          "data": {
            "text/plain": [
              "65535"
            ]
          },
          "metadata": {},
          "execution_count": 6
        }
      ]
    },
    {
      "cell_type": "code",
      "source": [
        "# Split the data\n",
        "image_height = 224\n",
        "image_width = 224\n",
        "batch_size = 32\n",
        "num_epochs = 15\n",
        "\n",
        "\n",
        "\n",
        "train_df, valid_df = train_test_split(df, test_size=0.3, random_state=42)\n",
        "val_df, test_df = train_test_split(valid_df, test_size=0.5, random_state=42)\n",
        "# Load and preprocess images\n",
        "train_images = []\n",
        "train_labels = []\n",
        "\n",
        "for index, row in train_df.iterrows():\n",
        "    image = Image.open(row['path'])\n",
        "    image = image.resize((image_height, image_width))\n",
        "    image = np.array(image) #/ 255.0  # Rescale pixel values to [0, 1]\n",
        "    train_images.append(image)\n",
        "    train_labels.append(row['plume'])\n",
        "\n",
        "train_images = np.array(train_images) / np.max(train_images)\n",
        "train_labels = np.array(train_labels)\n",
        "\n",
        "validation_images = []\n",
        "validation_labels = []\n",
        "\n",
        "for index, row in val_df.iterrows():\n",
        "    image = Image.open(row['path'])\n",
        "    image = image.resize((image_height, image_width))\n",
        "    image = np.array(image) #/ 255.0  # Rescale pixel values to [0, 1]\n",
        "    validation_images.append(image)\n",
        "    validation_labels.append(row['plume'])\n",
        "\n",
        "validation_images = np.array(validation_images) / np.max(validation_images)\n",
        "validation_labels = np.array(validation_labels)\n",
        "\n",
        "test_images = []  # Load and preprocess test images similarly\n",
        "test_labels = []\n",
        "\n",
        "for index, row in test_df.iterrows():\n",
        "    image = Image.open(row['path'])\n",
        "    image = image.resize((image_height, image_width))\n",
        "    image = np.array(image) #/ 255.0  # Rescale pixel values to [0, 1]\n",
        "    test_images.append(image)\n",
        "    test_labels.append(row['plume'])\n",
        "\n",
        "test_images = np.array(test_images) / np.max(test_images)\n",
        "test_labels = np.array(test_labels)\n",
        "\n",
        "# Convert string labels to numerical format in your data frames\n",
        "train_df['plume'] = train_df['plume'].map({'yes': 1, 'no': 0})\n",
        "val_df['plume'] = val_df['plume'].map({'yes': 1, 'no': 0})\n",
        "test_df['plume'] = test_df['plume'].map({'yes': 1, 'no': 0})\n",
        "\n",
        "# Now convert the labels to NumPy arrays\n",
        "train_labels = np.array(train_df['plume'])\n",
        "validation_labels = np.array(val_df['plume'])\n",
        "test_labels = np.array(test_df['plume'])\n",
        "\n",
        "# Create an instance of the ImageDataGenerator\n",
        "traindatagen = ImageDataGenerator(\n",
        "    rotation_range=20,\n",
        "    width_shift_range=0.2,\n",
        "    height_shift_range=0.2,\n",
        "    shear_range=0.2,\n",
        "    zoom_range=0.2,\n",
        "    horizontal_flip=True,\n",
        "    vertical_flip=True,\n",
        "    # preprocessing_function=upscale_image,\n",
        ")\n",
        "\n",
        "valdatagen = ImageDataGenerator(\n",
        ")\n",
        "\n",
        "train_images = train_images.reshape(train_images.shape + (1,))\n",
        "train_datagen = traindatagen.flow(\n",
        "    train_images, train_labels, batch_size=batch_size)\n",
        "\n",
        "validation_images = validation_images.reshape(validation_images.shape + (1,))\n",
        "validation_datagen = valdatagen.flow(\n",
        "    validation_images, validation_labels, batch_size=batch_size)\n",
        "\n",
        "test_images = test_images.reshape(test_images.shape + (1,))\n",
        "test_datagen = valdatagen.flow(\n",
        "    test_images, test_labels, batch_size=batch_size)"
      ],
      "metadata": {
        "id": "gKcy9axstIra"
      },
      "execution_count": 47,
      "outputs": []
    },
    {
      "cell_type": "code",
      "source": [
        "np.max(train_images)"
      ],
      "metadata": {
        "colab": {
          "base_uri": "https://localhost:8080/"
        },
        "id": "KrYIV_BUe9lm",
        "outputId": "dc845e42-342b-4537-b139-76da7cd586d7"
      },
      "execution_count": 48,
      "outputs": [
        {
          "output_type": "execute_result",
          "data": {
            "text/plain": [
              "1.0"
            ]
          },
          "metadata": {},
          "execution_count": 48
        }
      ]
    },
    {
      "cell_type": "markdown",
      "source": [
        "### model"
      ],
      "metadata": {
        "id": "2Vy_cJ95aM-h"
      }
    },
    {
      "cell_type": "code",
      "source": [
        "# Define the CNN model\n",
        "model = Sequential()\n",
        "\n",
        "# Convolutional layers\n",
        "model.add(Conv2D(32, (3, 3),\n",
        "                 activation='relu',\n",
        "                 input_shape=(image_height, image_width, 1)\n",
        "                 ))\n",
        "model.add(MaxPooling2D(2, 2))\n",
        "\n",
        "model.add(Conv2D(64, (3, 3), activation='relu'))\n",
        "model.add(MaxPooling2D(2, 2))\n",
        "\n",
        "model.add(Conv2D(128, (3, 3), activation='relu'))\n",
        "model.add(MaxPooling2D(2, 2))\n",
        "\n",
        "# Flatten the feature maps\n",
        "model.add(Flatten())\n",
        "\n",
        "# Dense layers\n",
        "model.add(Dense(128, activation='relu'))\n",
        "model.add(Dropout(0.5))\n",
        "\n",
        "# Output layer\n",
        "model.add(Dense(1, activation='sigmoid'))\n",
        "\n",
        "# Compile the model\n",
        "model.compile(\n",
        "    optimizer=Adam(learning_rate=0.0008),\n",
        "    # optimizer='adam',\n",
        "    loss='binary_crossentropy',\n",
        "    metrics=['AUC'])\n",
        "\n",
        "# Train the model\n",
        "epochs = 15  # Adjust the number of training epochs as needed\n",
        "model.fit(train_datagen, validation_data=validation_datagen, epochs=epochs)\n",
        "\n"
      ],
      "metadata": {
        "colab": {
          "base_uri": "https://localhost:8080/"
        },
        "id": "uDdKdt-274iV",
        "outputId": "97a0587a-d730-4cc0-dff4-189c5812fb0a"
      },
      "execution_count": 50,
      "outputs": [
        {
          "output_type": "stream",
          "name": "stdout",
          "text": [
            "Epoch 1/15\n",
            "10/10 [==============================] - 39s 4s/step - loss: 0.7474 - auc: 0.5720 - val_loss: 0.6897 - val_auc: 0.9062\n",
            "Epoch 2/15\n",
            "10/10 [==============================] - 35s 3s/step - loss: 0.6584 - auc: 0.7235 - val_loss: 0.6436 - val_auc: 0.9190\n",
            "Epoch 3/15\n",
            "10/10 [==============================] - 32s 3s/step - loss: 0.6274 - auc: 0.8022 - val_loss: 0.6438 - val_auc: 0.9174\n",
            "Epoch 4/15\n",
            "10/10 [==============================] - 33s 3s/step - loss: 0.5907 - auc: 0.8230 - val_loss: 0.5329 - val_auc: 0.9185\n",
            "Epoch 5/15\n",
            "10/10 [==============================] - 31s 3s/step - loss: 0.5758 - auc: 0.7869 - val_loss: 0.5103 - val_auc: 0.9215\n",
            "Epoch 6/15\n",
            "10/10 [==============================] - 32s 3s/step - loss: 0.5285 - auc: 0.8282 - val_loss: 0.5905 - val_auc: 0.9333\n",
            "Epoch 7/15\n",
            "10/10 [==============================] - 34s 3s/step - loss: 0.5166 - auc: 0.8369 - val_loss: 0.5373 - val_auc: 0.9359\n",
            "Epoch 8/15\n",
            "10/10 [==============================] - 31s 3s/step - loss: 0.5377 - auc: 0.8151 - val_loss: 0.5720 - val_auc: 0.9349\n",
            "Epoch 9/15\n",
            "10/10 [==============================] - 32s 3s/step - loss: 0.5275 - auc: 0.8272 - val_loss: 0.5019 - val_auc: 0.9246\n",
            "Epoch 10/15\n",
            "10/10 [==============================] - 32s 3s/step - loss: 0.5210 - auc: 0.8309 - val_loss: 0.6486 - val_auc: 0.9236\n",
            "Epoch 11/15\n",
            "10/10 [==============================] - 34s 3s/step - loss: 0.5580 - auc: 0.7939 - val_loss: 0.7091 - val_auc: 0.9267\n",
            "Epoch 12/15\n",
            "10/10 [==============================] - 32s 3s/step - loss: 0.5249 - auc: 0.8211 - val_loss: 0.4335 - val_auc: 0.9251\n",
            "Epoch 13/15\n",
            "10/10 [==============================] - 32s 3s/step - loss: 0.4913 - auc: 0.8494 - val_loss: 0.6453 - val_auc: 0.9226\n",
            "Epoch 14/15\n",
            "10/10 [==============================] - 32s 3s/step - loss: 0.5019 - auc: 0.8406 - val_loss: 0.6540 - val_auc: 0.9205\n",
            "Epoch 15/15\n",
            "10/10 [==============================] - 32s 3s/step - loss: 0.4929 - auc: 0.8501 - val_loss: 0.4020 - val_auc: 0.9210\n"
          ]
        },
        {
          "output_type": "execute_result",
          "data": {
            "text/plain": [
              "<keras.src.callbacks.History at 0x7c6135062a10>"
            ]
          },
          "metadata": {},
          "execution_count": 50
        }
      ]
    },
    {
      "cell_type": "code",
      "source": [
        "# Evaluate the model\n",
        "test_loss, test_accuracy = model.evaluate(test_datagen)\n",
        "print(\"Test AUC:\", test_accuracy)"
      ],
      "metadata": {
        "colab": {
          "base_uri": "https://localhost:8080/"
        },
        "id": "GPM7-P3NoSLE",
        "outputId": "84d3db0a-155f-4bfc-f60d-9d22b2e8c422"
      },
      "execution_count": 55,
      "outputs": [
        {
          "output_type": "stream",
          "name": "stdout",
          "text": [
            "3/3 [==============================] - 2s 551ms/step - loss: 0.5664 - auc: 0.8302\n",
            "Test AUC: 0.830170750617981\n"
          ]
        }
      ]
    },
    {
      "cell_type": "code",
      "source": [
        "final_df = pd.read_csv('drive/MyDrive/data_good/data/test data/metadata.csv')"
      ],
      "metadata": {
        "id": "mpLvBwj5oqCO"
      },
      "execution_count": 56,
      "outputs": []
    },
    {
      "cell_type": "code",
      "source": [
        "final_images = []  # Load and preprocess test images similarly\n",
        "submission_df = pd.read_csv('drive/MyDrive/data_good/data/submission_test_file.csv')\n",
        "image_folder = 'drive/MyDrive/data_good/data/test data'\n",
        "for index, row in submission_df.iterrows():\n",
        "    image = Image.open('drive/MyDrive/data_good/data/test data/images/'+row[\"path\"])\n",
        "    image = image.resize((image_height, image_width))\n",
        "    image = np.array(image)\n",
        "    final_images.append(image)\n",
        "\n",
        "final_images = np.array(final_images) / np.max(final_images)\n",
        "print(final_images.shape)"
      ],
      "metadata": {
        "colab": {
          "base_uri": "https://localhost:8080/"
        },
        "id": "FzLZqywNlrHo",
        "outputId": "92fb708e-a494-443f-87d6-b3262af88181"
      },
      "execution_count": 57,
      "outputs": [
        {
          "output_type": "stream",
          "name": "stdout",
          "text": [
            "(108, 224, 224)\n"
          ]
        }
      ]
    },
    {
      "cell_type": "code",
      "source": [
        "predictions = model.predict(final_images)\n",
        "df_predictions= pd.DataFrame(predictions, columns=[\"plume?\"])"
      ],
      "metadata": {
        "colab": {
          "base_uri": "https://localhost:8080/"
        },
        "id": "aZEn3NRzpYib",
        "outputId": "998c9523-6e71-4c61-d660-31f3c6597d3f"
      },
      "execution_count": 58,
      "outputs": [
        {
          "output_type": "stream",
          "name": "stdout",
          "text": [
            "4/4 [==============================] - 3s 595ms/step\n"
          ]
        }
      ]
    },
    {
      "cell_type": "code",
      "source": [
        "submission_df['label'] = df_predictions['plume?']\n",
        "# submission_df\n",
        "submission_df.to_csv('submission8.csv', index=False)"
      ],
      "metadata": {
        "id": "1Gisaq9oj_Ym"
      },
      "execution_count": 59,
      "outputs": []
    },
    {
      "cell_type": "code",
      "source": [],
      "metadata": {
        "id": "o4U3K50tt4zo"
      },
      "execution_count": null,
      "outputs": []
    },
    {
      "cell_type": "code",
      "source": [
        "model.save('CNN5.h5')"
      ],
      "metadata": {
        "colab": {
          "base_uri": "https://localhost:8080/"
        },
        "id": "8JaPaw2o1l0K",
        "outputId": "ddcd20f4-e0c6-48bf-df99-7ba6cceb98b2"
      },
      "execution_count": 180,
      "outputs": [
        {
          "output_type": "stream",
          "name": "stderr",
          "text": [
            "/usr/local/lib/python3.10/dist-packages/keras/src/engine/training.py:3000: UserWarning: You are saving your model as an HDF5 file via `model.save()`. This file format is considered legacy. We recommend using instead the native Keras format, e.g. `model.save('my_model.keras')`.\n",
            "  saving_api.save_model(\n"
          ]
        }
      ]
    },
    {
      "cell_type": "markdown",
      "source": [
        "## EfficientNet"
      ],
      "metadata": {
        "id": "7Iy1exSKEa7m"
      }
    },
    {
      "cell_type": "code",
      "source": [
        "# Split the data\n",
        "image_height = 224\n",
        "image_width = 224\n",
        "batch_size = 32\n",
        "num_epochs = 10\n",
        "\n",
        "\n",
        "train_df, valid_df = train_test_split(df, test_size=0.3, random_state=42)\n",
        "val_df, test_df = train_test_split(valid_df, test_size=0.5, random_state=42)\n",
        "# Load and preprocess images\n",
        "train_images = []\n",
        "train_labels = []\n",
        "\n",
        "for index, row in train_df.iterrows():\n",
        "    image = Image.open(row['path'])\n",
        "    image = image.convert('RGB')\n",
        "    image = image.resize((image_height, image_width))\n",
        "    image = np.array(image) / 255.0\n",
        "    train_images.append(image)\n",
        "    train_labels.append(row['plume'])\n",
        "\n",
        "train_images = np.array(train_images)\n",
        "train_labels = np.array(train_labels)\n",
        "\n",
        "validation_images = []\n",
        "validation_labels = []\n",
        "\n",
        "for index, row in val_df.iterrows():\n",
        "    image = Image.open(row['path'])\n",
        "    image = image.convert('RGB')\n",
        "    image = image.resize((image_height, image_width))\n",
        "    image = np.array(image) / 255.0\n",
        "    validation_images.append(image)\n",
        "    validation_labels.append(row['plume'])\n",
        "\n",
        "validation_images = np.array(validation_images)\n",
        "validation_labels = np.array(validation_labels)\n",
        "\n",
        "test_images = []\n",
        "test_labels = []\n",
        "\n",
        "for index, row in test_df.iterrows():\n",
        "    image = Image.open(row['path'])\n",
        "    image = image.convert('RGB')\n",
        "    image = image.resize((image_height, image_width))\n",
        "    image = np.array(image) / 255.0\n",
        "    test_images.append(image)\n",
        "    test_labels.append(row['plume'])\n",
        "\n",
        "test_images = np.array(test_images)\n",
        "test_labels = np.array(test_labels)\n",
        "\n",
        "# Convert string labels to numerical format in your data frames\n",
        "train_df['plume'] = train_df['plume'].map({'yes': 1, 'no': 0})\n",
        "val_df['plume'] = val_df['plume'].map({'yes': 1, 'no': 0})\n",
        "test_df['plume'] = test_df['plume'].map({'yes': 1, 'no': 0})\n",
        "\n",
        "# Now convert the labels to NumPy arrays\n",
        "train_labels = np.array(train_df['plume'])\n",
        "validation_labels = np.array(val_df['plume'])\n",
        "test_labels = np.array(test_df['plume'])\n",
        "\n",
        "# Create an instance of the ImageDataGenerator\n",
        "traindatagen = ImageDataGenerator(\n",
        "    rotation_range=20,\n",
        "    width_shift_range=0.2,\n",
        "    height_shift_range=0.2,\n",
        "    shear_range=0.2,\n",
        "    zoom_range=0.2,\n",
        "    horizontal_flip=True,\n",
        "    vertical_flip=True,\n",
        ")\n",
        "\n",
        "valdatagen = ImageDataGenerator(\n",
        ")\n",
        "\n",
        "train_datagen = traindatagen.flow(\n",
        "    train_images, train_labels, batch_size=batch_size)\n",
        "\n",
        "validation_datagen = valdatagen.flow(\n",
        "    validation_images, validation_labels, batch_size=batch_size)\n",
        "\n",
        "test_datagen = valdatagen.flow(\n",
        "    test_images, test_labels, batch_size=batch_size)"
      ],
      "metadata": {
        "id": "ai0J0GrjEjja"
      },
      "execution_count": 157,
      "outputs": []
    },
    {
      "cell_type": "code",
      "source": [
        "def build_model():\n",
        "    inputs = layers.Input(shape=(224, 224, 3))\n",
        "    model = EfficientNetB0(include_top=False, input_tensor=inputs, weights=\"imagenet\")\n",
        "\n",
        "    # Freeze the pretrained weights\n",
        "    model.trainable = False\n",
        "\n",
        "    # Rebuild top\n",
        "    x = layers.GlobalAveragePooling2D(name=\"avg_pool\")(model.output)\n",
        "    # x = layers.BatchNormalization()(x)\n",
        "\n",
        "    top_dropout_rate = 0.2\n",
        "    x = layers.Dropout(top_dropout_rate, name=\"top_dropout\")(x)\n",
        "    outputs = layers.Dense(1, activation=\"sigmoid\", name=\"pred\")(x)\n",
        "\n",
        "    # Compile\n",
        "    model = tf.keras.Model(inputs, outputs, name=\"EfficientNet\")\n",
        "    optimizer = tf.keras.optimizers.Adam(learning_rate=1e-2)\n",
        "    model.compile(\n",
        "        optimizer=optimizer, loss=\"binary_crossentropy\", metrics=[\"AUC\"]\n",
        "    )\n",
        "    return model\n",
        "\n",
        "model = build_model()\n",
        "\n",
        "epochs = 10\n",
        "hist = model.fit(train_datagen, epochs=epochs, validation_data=validation_datagen, verbose=2)"
      ],
      "metadata": {
        "colab": {
          "base_uri": "https://localhost:8080/",
          "height": 616
        },
        "id": "brWVPHGQFOJD",
        "outputId": "180db454-9dc4-4361-b129-a376a3de1a41"
      },
      "execution_count": 161,
      "outputs": [
        {
          "output_type": "stream",
          "name": "stdout",
          "text": [
            "Epoch 1/10\n",
            "10/10 - 42s - loss: 0.7014 - auc: 0.4633 - val_loss: 0.6830 - val_auc: 0.5000 - 42s/epoch - 4s/step\n",
            "Epoch 2/10\n",
            "10/10 - 31s - loss: 0.7099 - auc: 0.4368 - val_loss: 0.7193 - val_auc: 0.5513 - 31s/epoch - 3s/step\n",
            "Epoch 3/10\n",
            "10/10 - 32s - loss: 0.6939 - auc: 0.5028 - val_loss: 0.6909 - val_auc: 0.5344 - 32s/epoch - 3s/step\n",
            "Epoch 4/10\n",
            "10/10 - 34s - loss: 0.6948 - auc: 0.5025 - val_loss: 0.7012 - val_auc: 0.5262 - 34s/epoch - 3s/step\n",
            "Epoch 5/10\n",
            "10/10 - 32s - loss: 0.6974 - auc: 0.4824 - val_loss: 0.7085 - val_auc: 0.4831 - 32s/epoch - 3s/step\n",
            "Epoch 6/10\n",
            "10/10 - 30s - loss: 0.6921 - auc: 0.5190 - val_loss: 0.6982 - val_auc: 0.4903 - 30s/epoch - 3s/step\n",
            "Epoch 7/10\n",
            "10/10 - 32s - loss: 0.6993 - auc: 0.4739 - val_loss: 0.7237 - val_auc: 0.5200 - 32s/epoch - 3s/step\n",
            "Epoch 8/10\n"
          ]
        },
        {
          "output_type": "error",
          "ename": "KeyboardInterrupt",
          "evalue": "ignored",
          "traceback": [
            "\u001b[0;31m---------------------------------------------------------------------------\u001b[0m",
            "\u001b[0;31mKeyboardInterrupt\u001b[0m                         Traceback (most recent call last)",
            "\u001b[0;32m<ipython-input-161-13a0da718b1e>\u001b[0m in \u001b[0;36m<cell line: 27>\u001b[0;34m()\u001b[0m\n\u001b[1;32m     25\u001b[0m \u001b[0;34m\u001b[0m\u001b[0m\n\u001b[1;32m     26\u001b[0m \u001b[0mepochs\u001b[0m \u001b[0;34m=\u001b[0m \u001b[0;36m10\u001b[0m\u001b[0;34m\u001b[0m\u001b[0;34m\u001b[0m\u001b[0m\n\u001b[0;32m---> 27\u001b[0;31m \u001b[0mhist\u001b[0m \u001b[0;34m=\u001b[0m \u001b[0mmodel\u001b[0m\u001b[0;34m.\u001b[0m\u001b[0mfit\u001b[0m\u001b[0;34m(\u001b[0m\u001b[0mtrain_datagen\u001b[0m\u001b[0;34m,\u001b[0m \u001b[0mepochs\u001b[0m\u001b[0;34m=\u001b[0m\u001b[0mepochs\u001b[0m\u001b[0;34m,\u001b[0m \u001b[0mvalidation_data\u001b[0m\u001b[0;34m=\u001b[0m\u001b[0mvalidation_datagen\u001b[0m\u001b[0;34m,\u001b[0m \u001b[0mverbose\u001b[0m\u001b[0;34m=\u001b[0m\u001b[0;36m2\u001b[0m\u001b[0;34m)\u001b[0m\u001b[0;34m\u001b[0m\u001b[0;34m\u001b[0m\u001b[0m\n\u001b[0m",
            "\u001b[0;32m/usr/local/lib/python3.10/dist-packages/keras/src/utils/traceback_utils.py\u001b[0m in \u001b[0;36merror_handler\u001b[0;34m(*args, **kwargs)\u001b[0m\n\u001b[1;32m     63\u001b[0m         \u001b[0mfiltered_tb\u001b[0m \u001b[0;34m=\u001b[0m \u001b[0;32mNone\u001b[0m\u001b[0;34m\u001b[0m\u001b[0;34m\u001b[0m\u001b[0m\n\u001b[1;32m     64\u001b[0m         \u001b[0;32mtry\u001b[0m\u001b[0;34m:\u001b[0m\u001b[0;34m\u001b[0m\u001b[0;34m\u001b[0m\u001b[0m\n\u001b[0;32m---> 65\u001b[0;31m             \u001b[0;32mreturn\u001b[0m \u001b[0mfn\u001b[0m\u001b[0;34m(\u001b[0m\u001b[0;34m*\u001b[0m\u001b[0margs\u001b[0m\u001b[0;34m,\u001b[0m \u001b[0;34m**\u001b[0m\u001b[0mkwargs\u001b[0m\u001b[0;34m)\u001b[0m\u001b[0;34m\u001b[0m\u001b[0;34m\u001b[0m\u001b[0m\n\u001b[0m\u001b[1;32m     66\u001b[0m         \u001b[0;32mexcept\u001b[0m \u001b[0mException\u001b[0m \u001b[0;32mas\u001b[0m \u001b[0me\u001b[0m\u001b[0;34m:\u001b[0m\u001b[0;34m\u001b[0m\u001b[0;34m\u001b[0m\u001b[0m\n\u001b[1;32m     67\u001b[0m             \u001b[0mfiltered_tb\u001b[0m \u001b[0;34m=\u001b[0m \u001b[0m_process_traceback_frames\u001b[0m\u001b[0;34m(\u001b[0m\u001b[0me\u001b[0m\u001b[0;34m.\u001b[0m\u001b[0m__traceback__\u001b[0m\u001b[0;34m)\u001b[0m\u001b[0;34m\u001b[0m\u001b[0;34m\u001b[0m\u001b[0m\n",
            "\u001b[0;32m/usr/local/lib/python3.10/dist-packages/keras/src/engine/training.py\u001b[0m in \u001b[0;36mfit\u001b[0;34m(self, x, y, batch_size, epochs, verbose, callbacks, validation_split, validation_data, shuffle, class_weight, sample_weight, initial_epoch, steps_per_epoch, validation_steps, validation_batch_size, validation_freq, max_queue_size, workers, use_multiprocessing)\u001b[0m\n\u001b[1;32m   1740\u001b[0m                         ):\n\u001b[1;32m   1741\u001b[0m                             \u001b[0mcallbacks\u001b[0m\u001b[0;34m.\u001b[0m\u001b[0mon_train_batch_begin\u001b[0m\u001b[0;34m(\u001b[0m\u001b[0mstep\u001b[0m\u001b[0;34m)\u001b[0m\u001b[0;34m\u001b[0m\u001b[0;34m\u001b[0m\u001b[0m\n\u001b[0;32m-> 1742\u001b[0;31m                             \u001b[0mtmp_logs\u001b[0m \u001b[0;34m=\u001b[0m \u001b[0mself\u001b[0m\u001b[0;34m.\u001b[0m\u001b[0mtrain_function\u001b[0m\u001b[0;34m(\u001b[0m\u001b[0miterator\u001b[0m\u001b[0;34m)\u001b[0m\u001b[0;34m\u001b[0m\u001b[0;34m\u001b[0m\u001b[0m\n\u001b[0m\u001b[1;32m   1743\u001b[0m                             \u001b[0;32mif\u001b[0m \u001b[0mdata_handler\u001b[0m\u001b[0;34m.\u001b[0m\u001b[0mshould_sync\u001b[0m\u001b[0;34m:\u001b[0m\u001b[0;34m\u001b[0m\u001b[0;34m\u001b[0m\u001b[0m\n\u001b[1;32m   1744\u001b[0m                                 \u001b[0mcontext\u001b[0m\u001b[0;34m.\u001b[0m\u001b[0masync_wait\u001b[0m\u001b[0;34m(\u001b[0m\u001b[0;34m)\u001b[0m\u001b[0;34m\u001b[0m\u001b[0;34m\u001b[0m\u001b[0m\n",
            "\u001b[0;32m/usr/local/lib/python3.10/dist-packages/tensorflow/python/util/traceback_utils.py\u001b[0m in \u001b[0;36merror_handler\u001b[0;34m(*args, **kwargs)\u001b[0m\n\u001b[1;32m    148\u001b[0m     \u001b[0mfiltered_tb\u001b[0m \u001b[0;34m=\u001b[0m \u001b[0;32mNone\u001b[0m\u001b[0;34m\u001b[0m\u001b[0;34m\u001b[0m\u001b[0m\n\u001b[1;32m    149\u001b[0m     \u001b[0;32mtry\u001b[0m\u001b[0;34m:\u001b[0m\u001b[0;34m\u001b[0m\u001b[0;34m\u001b[0m\u001b[0m\n\u001b[0;32m--> 150\u001b[0;31m       \u001b[0;32mreturn\u001b[0m \u001b[0mfn\u001b[0m\u001b[0;34m(\u001b[0m\u001b[0;34m*\u001b[0m\u001b[0margs\u001b[0m\u001b[0;34m,\u001b[0m \u001b[0;34m**\u001b[0m\u001b[0mkwargs\u001b[0m\u001b[0;34m)\u001b[0m\u001b[0;34m\u001b[0m\u001b[0;34m\u001b[0m\u001b[0m\n\u001b[0m\u001b[1;32m    151\u001b[0m     \u001b[0;32mexcept\u001b[0m \u001b[0mException\u001b[0m \u001b[0;32mas\u001b[0m \u001b[0me\u001b[0m\u001b[0;34m:\u001b[0m\u001b[0;34m\u001b[0m\u001b[0;34m\u001b[0m\u001b[0m\n\u001b[1;32m    152\u001b[0m       \u001b[0mfiltered_tb\u001b[0m \u001b[0;34m=\u001b[0m \u001b[0m_process_traceback_frames\u001b[0m\u001b[0;34m(\u001b[0m\u001b[0me\u001b[0m\u001b[0;34m.\u001b[0m\u001b[0m__traceback__\u001b[0m\u001b[0;34m)\u001b[0m\u001b[0;34m\u001b[0m\u001b[0;34m\u001b[0m\u001b[0m\n",
            "\u001b[0;32m/usr/local/lib/python3.10/dist-packages/tensorflow/python/eager/polymorphic_function/polymorphic_function.py\u001b[0m in \u001b[0;36m__call__\u001b[0;34m(self, *args, **kwds)\u001b[0m\n\u001b[1;32m    823\u001b[0m \u001b[0;34m\u001b[0m\u001b[0m\n\u001b[1;32m    824\u001b[0m       \u001b[0;32mwith\u001b[0m \u001b[0mOptionalXlaContext\u001b[0m\u001b[0;34m(\u001b[0m\u001b[0mself\u001b[0m\u001b[0;34m.\u001b[0m\u001b[0m_jit_compile\u001b[0m\u001b[0;34m)\u001b[0m\u001b[0;34m:\u001b[0m\u001b[0;34m\u001b[0m\u001b[0;34m\u001b[0m\u001b[0m\n\u001b[0;32m--> 825\u001b[0;31m         \u001b[0mresult\u001b[0m \u001b[0;34m=\u001b[0m \u001b[0mself\u001b[0m\u001b[0;34m.\u001b[0m\u001b[0m_call\u001b[0m\u001b[0;34m(\u001b[0m\u001b[0;34m*\u001b[0m\u001b[0margs\u001b[0m\u001b[0;34m,\u001b[0m \u001b[0;34m**\u001b[0m\u001b[0mkwds\u001b[0m\u001b[0;34m)\u001b[0m\u001b[0;34m\u001b[0m\u001b[0;34m\u001b[0m\u001b[0m\n\u001b[0m\u001b[1;32m    826\u001b[0m \u001b[0;34m\u001b[0m\u001b[0m\n\u001b[1;32m    827\u001b[0m       \u001b[0mnew_tracing_count\u001b[0m \u001b[0;34m=\u001b[0m \u001b[0mself\u001b[0m\u001b[0;34m.\u001b[0m\u001b[0mexperimental_get_tracing_count\u001b[0m\u001b[0;34m(\u001b[0m\u001b[0;34m)\u001b[0m\u001b[0;34m\u001b[0m\u001b[0;34m\u001b[0m\u001b[0m\n",
            "\u001b[0;32m/usr/local/lib/python3.10/dist-packages/tensorflow/python/eager/polymorphic_function/polymorphic_function.py\u001b[0m in \u001b[0;36m_call\u001b[0;34m(self, *args, **kwds)\u001b[0m\n\u001b[1;32m    855\u001b[0m       \u001b[0;31m# In this case we have created variables on the first call, so we run the\u001b[0m\u001b[0;34m\u001b[0m\u001b[0;34m\u001b[0m\u001b[0m\n\u001b[1;32m    856\u001b[0m       \u001b[0;31m# defunned version which is guaranteed to never create variables.\u001b[0m\u001b[0;34m\u001b[0m\u001b[0;34m\u001b[0m\u001b[0m\n\u001b[0;32m--> 857\u001b[0;31m       \u001b[0;32mreturn\u001b[0m \u001b[0mself\u001b[0m\u001b[0;34m.\u001b[0m\u001b[0m_no_variable_creation_fn\u001b[0m\u001b[0;34m(\u001b[0m\u001b[0;34m*\u001b[0m\u001b[0margs\u001b[0m\u001b[0;34m,\u001b[0m \u001b[0;34m**\u001b[0m\u001b[0mkwds\u001b[0m\u001b[0;34m)\u001b[0m  \u001b[0;31m# pylint: disable=not-callable\u001b[0m\u001b[0;34m\u001b[0m\u001b[0;34m\u001b[0m\u001b[0m\n\u001b[0m\u001b[1;32m    858\u001b[0m     \u001b[0;32melif\u001b[0m \u001b[0mself\u001b[0m\u001b[0;34m.\u001b[0m\u001b[0m_variable_creation_fn\u001b[0m \u001b[0;32mis\u001b[0m \u001b[0;32mnot\u001b[0m \u001b[0;32mNone\u001b[0m\u001b[0;34m:\u001b[0m\u001b[0;34m\u001b[0m\u001b[0;34m\u001b[0m\u001b[0m\n\u001b[1;32m    859\u001b[0m       \u001b[0;31m# Release the lock early so that multiple threads can perform the call\u001b[0m\u001b[0;34m\u001b[0m\u001b[0;34m\u001b[0m\u001b[0m\n",
            "\u001b[0;32m/usr/local/lib/python3.10/dist-packages/tensorflow/python/eager/polymorphic_function/tracing_compiler.py\u001b[0m in \u001b[0;36m__call__\u001b[0;34m(self, *args, **kwargs)\u001b[0m\n\u001b[1;32m    146\u001b[0m       (concrete_function,\n\u001b[1;32m    147\u001b[0m        filtered_flat_args) = self._maybe_define_function(args, kwargs)\n\u001b[0;32m--> 148\u001b[0;31m     return concrete_function._call_flat(\n\u001b[0m\u001b[1;32m    149\u001b[0m         filtered_flat_args, captured_inputs=concrete_function.captured_inputs)  # pylint: disable=protected-access\n\u001b[1;32m    150\u001b[0m \u001b[0;34m\u001b[0m\u001b[0m\n",
            "\u001b[0;32m/usr/local/lib/python3.10/dist-packages/tensorflow/python/eager/polymorphic_function/monomorphic_function.py\u001b[0m in \u001b[0;36m_call_flat\u001b[0;34m(self, args, captured_inputs)\u001b[0m\n\u001b[1;32m   1347\u001b[0m         and executing_eagerly):\n\u001b[1;32m   1348\u001b[0m       \u001b[0;31m# No tape is watching; skip to running the function.\u001b[0m\u001b[0;34m\u001b[0m\u001b[0;34m\u001b[0m\u001b[0m\n\u001b[0;32m-> 1349\u001b[0;31m       \u001b[0;32mreturn\u001b[0m \u001b[0mself\u001b[0m\u001b[0;34m.\u001b[0m\u001b[0m_build_call_outputs\u001b[0m\u001b[0;34m(\u001b[0m\u001b[0mself\u001b[0m\u001b[0;34m.\u001b[0m\u001b[0m_inference_function\u001b[0m\u001b[0;34m(\u001b[0m\u001b[0;34m*\u001b[0m\u001b[0margs\u001b[0m\u001b[0;34m)\u001b[0m\u001b[0;34m)\u001b[0m\u001b[0;34m\u001b[0m\u001b[0;34m\u001b[0m\u001b[0m\n\u001b[0m\u001b[1;32m   1350\u001b[0m     forward_backward = self._select_forward_and_backward_functions(\n\u001b[1;32m   1351\u001b[0m         \u001b[0margs\u001b[0m\u001b[0;34m,\u001b[0m\u001b[0;34m\u001b[0m\u001b[0;34m\u001b[0m\u001b[0m\n",
            "\u001b[0;32m/usr/local/lib/python3.10/dist-packages/tensorflow/python/eager/polymorphic_function/atomic_function.py\u001b[0m in \u001b[0;36m__call__\u001b[0;34m(self, *args)\u001b[0m\n\u001b[1;32m    194\u001b[0m         \u001b[0;32mwith\u001b[0m \u001b[0mrecord\u001b[0m\u001b[0;34m.\u001b[0m\u001b[0mstop_recording\u001b[0m\u001b[0;34m(\u001b[0m\u001b[0;34m)\u001b[0m\u001b[0;34m:\u001b[0m\u001b[0;34m\u001b[0m\u001b[0;34m\u001b[0m\u001b[0m\n\u001b[1;32m    195\u001b[0m           \u001b[0;32mif\u001b[0m \u001b[0mself\u001b[0m\u001b[0;34m.\u001b[0m\u001b[0m_bound_context\u001b[0m\u001b[0;34m.\u001b[0m\u001b[0mexecuting_eagerly\u001b[0m\u001b[0;34m(\u001b[0m\u001b[0;34m)\u001b[0m\u001b[0;34m:\u001b[0m\u001b[0;34m\u001b[0m\u001b[0;34m\u001b[0m\u001b[0m\n\u001b[0;32m--> 196\u001b[0;31m             outputs = self._bound_context.call_function(\n\u001b[0m\u001b[1;32m    197\u001b[0m                 \u001b[0mself\u001b[0m\u001b[0;34m.\u001b[0m\u001b[0mname\u001b[0m\u001b[0;34m,\u001b[0m\u001b[0;34m\u001b[0m\u001b[0;34m\u001b[0m\u001b[0m\n\u001b[1;32m    198\u001b[0m                 \u001b[0mlist\u001b[0m\u001b[0;34m(\u001b[0m\u001b[0margs\u001b[0m\u001b[0;34m)\u001b[0m\u001b[0;34m,\u001b[0m\u001b[0;34m\u001b[0m\u001b[0;34m\u001b[0m\u001b[0m\n",
            "\u001b[0;32m/usr/local/lib/python3.10/dist-packages/tensorflow/python/eager/context.py\u001b[0m in \u001b[0;36mcall_function\u001b[0;34m(self, name, tensor_inputs, num_outputs)\u001b[0m\n\u001b[1;32m   1455\u001b[0m     \u001b[0mcancellation_context\u001b[0m \u001b[0;34m=\u001b[0m \u001b[0mcancellation\u001b[0m\u001b[0;34m.\u001b[0m\u001b[0mcontext\u001b[0m\u001b[0;34m(\u001b[0m\u001b[0;34m)\u001b[0m\u001b[0;34m\u001b[0m\u001b[0;34m\u001b[0m\u001b[0m\n\u001b[1;32m   1456\u001b[0m     \u001b[0;32mif\u001b[0m \u001b[0mcancellation_context\u001b[0m \u001b[0;32mis\u001b[0m \u001b[0;32mNone\u001b[0m\u001b[0;34m:\u001b[0m\u001b[0;34m\u001b[0m\u001b[0;34m\u001b[0m\u001b[0m\n\u001b[0;32m-> 1457\u001b[0;31m       outputs = execute.execute(\n\u001b[0m\u001b[1;32m   1458\u001b[0m           \u001b[0mname\u001b[0m\u001b[0;34m.\u001b[0m\u001b[0mdecode\u001b[0m\u001b[0;34m(\u001b[0m\u001b[0;34m\"utf-8\"\u001b[0m\u001b[0;34m)\u001b[0m\u001b[0;34m,\u001b[0m\u001b[0;34m\u001b[0m\u001b[0;34m\u001b[0m\u001b[0m\n\u001b[1;32m   1459\u001b[0m           \u001b[0mnum_outputs\u001b[0m\u001b[0;34m=\u001b[0m\u001b[0mnum_outputs\u001b[0m\u001b[0;34m,\u001b[0m\u001b[0;34m\u001b[0m\u001b[0;34m\u001b[0m\u001b[0m\n",
            "\u001b[0;32m/usr/local/lib/python3.10/dist-packages/tensorflow/python/eager/execute.py\u001b[0m in \u001b[0;36mquick_execute\u001b[0;34m(op_name, num_outputs, inputs, attrs, ctx, name)\u001b[0m\n\u001b[1;32m     51\u001b[0m   \u001b[0;32mtry\u001b[0m\u001b[0;34m:\u001b[0m\u001b[0;34m\u001b[0m\u001b[0;34m\u001b[0m\u001b[0m\n\u001b[1;32m     52\u001b[0m     \u001b[0mctx\u001b[0m\u001b[0;34m.\u001b[0m\u001b[0mensure_initialized\u001b[0m\u001b[0;34m(\u001b[0m\u001b[0;34m)\u001b[0m\u001b[0;34m\u001b[0m\u001b[0;34m\u001b[0m\u001b[0m\n\u001b[0;32m---> 53\u001b[0;31m     tensors = pywrap_tfe.TFE_Py_Execute(ctx._handle, device_name, op_name,\n\u001b[0m\u001b[1;32m     54\u001b[0m                                         inputs, attrs, num_outputs)\n\u001b[1;32m     55\u001b[0m   \u001b[0;32mexcept\u001b[0m \u001b[0mcore\u001b[0m\u001b[0;34m.\u001b[0m\u001b[0m_NotOkStatusException\u001b[0m \u001b[0;32mas\u001b[0m \u001b[0me\u001b[0m\u001b[0;34m:\u001b[0m\u001b[0;34m\u001b[0m\u001b[0;34m\u001b[0m\u001b[0m\n",
            "\u001b[0;31mKeyboardInterrupt\u001b[0m: "
          ]
        }
      ]
    },
    {
      "cell_type": "code",
      "source": [
        "test_loss, test_accuracy = model.evaluate(test_images, test_labels)\n",
        "model.save('EfficientNet1.h5')"
      ],
      "metadata": {
        "id": "l4Qmgdn6GecW"
      },
      "execution_count": null,
      "outputs": []
    },
    {
      "cell_type": "markdown",
      "source": [
        "## VGG"
      ],
      "metadata": {
        "id": "Zv6WItLSA9DK"
      }
    },
    {
      "cell_type": "code",
      "source": [
        "# Split the data\n",
        "image_height = 224\n",
        "image_width = 224\n",
        "batch_size = 32\n",
        "num_epochs = 10\n",
        "\n",
        "\n",
        "train_df, valid_df = train_test_split(df, test_size=0.3, random_state=42)\n",
        "val_df, test_df = train_test_split(valid_df, test_size=0.5, random_state=42)\n",
        "# Load and preprocess images\n",
        "train_images = []\n",
        "train_labels = []\n",
        "\n",
        "for index, row in train_df.iterrows():\n",
        "    image = Image.open(row['path'])\n",
        "    image = image.convert('RGB')\n",
        "    image = image.resize((image_height, image_width))\n",
        "    image = np.array(image) / 255.0  # Rescale pixel values to [0, 1]\n",
        "    train_images.append(image)\n",
        "    train_labels.append(row['plume'])\n",
        "\n",
        "train_images = np.array(train_images)\n",
        "train_labels = np.array(train_labels)\n",
        "\n",
        "validation_images = []\n",
        "validation_labels = []\n",
        "\n",
        "for index, row in val_df.iterrows():\n",
        "    image = Image.open(row['path'])\n",
        "    image = image.convert('RGB')\n",
        "    image = image.resize((image_height, image_width))\n",
        "    image = np.array(image) / 255.0  # Rescale pixel values to [0, 1]\n",
        "    validation_images.append(image)\n",
        "    validation_labels.append(row['plume'])\n",
        "\n",
        "validation_images = np.array(validation_images)\n",
        "validation_labels = np.array(validation_labels)\n",
        "\n",
        "test_images = []  # Load and preprocess test images similarly\n",
        "test_labels = []\n",
        "\n",
        "for index, row in test_df.iterrows():\n",
        "    image = Image.open(row['path'])\n",
        "    image = image.convert('RGB')\n",
        "    image = image.resize((image_height, image_width))\n",
        "    image = np.array(image) / 255.0  # Rescale pixel values to [0, 1]\n",
        "    test_images.append(image)\n",
        "    test_labels.append(row['plume'])\n",
        "\n",
        "test_images = np.array(test_images)\n",
        "test_labels = np.array(test_labels)\n",
        "\n",
        "# Convert string labels to numerical format in your data frames\n",
        "train_df['plume'] = train_df['plume'].map({'yes': 1, 'no': 0})\n",
        "val_df['plume'] = val_df['plume'].map({'yes': 1, 'no': 0})\n",
        "test_df['plume'] = test_df['plume'].map({'yes': 1, 'no': 0})\n",
        "\n",
        "# Now convert the labels to NumPy arrays\n",
        "train_labels = np.array(train_df['plume'])\n",
        "validation_labels = np.array(val_df['plume'])\n",
        "test_labels = np.array(test_df['plume'])\n",
        "\n",
        "# Create an instance of the ImageDataGenerator\n",
        "traindatagen = ImageDataGenerator(\n",
        "    rotation_range=20,\n",
        "    width_shift_range=0.2,\n",
        "    height_shift_range=0.2,\n",
        "    shear_range=0.2,\n",
        "    zoom_range=0.2,\n",
        "    horizontal_flip=True,\n",
        "    vertical_flip=True,\n",
        "    # preprocessing_function=upscale_image,\n",
        ")\n",
        "\n",
        "valdatagen = ImageDataGenerator(\n",
        ")\n",
        "\n",
        "# train_images = train_images.reshape(train_images.shape + (1,))\n",
        "train_datagen = traindatagen.flow(train_images, train_labels, batch_size=batch_size)\n",
        "# validation_images = validation_images.reshape(validation_images.shape + (1,))\n",
        "validation_datagen = valdatagen.flow(validation_images, validation_labels, batch_size=batch_size)\n",
        "# test_images = test_images.reshape(test_images.shape + (1,))\n",
        "test_datagen = valdatagen.flow(test_images, test_labels, batch_size=batch_size)"
      ],
      "metadata": {
        "id": "87u5ZxMtYWbB"
      },
      "execution_count": 181,
      "outputs": []
    },
    {
      "cell_type": "code",
      "source": [
        "# Load the pre-trained EfficientNetB0 model\n",
        "pretrained_model = VGG16(weights='imagenet', include_top=False, input_shape=(224, 224, 3))\n",
        "\n",
        "model = Sequential()\n",
        "model.add(pretrained_model)\n",
        "model.add(Flatten())\n",
        "# model.add(Dense(256, activation='relu'))\n",
        "model.add(Dense(128, activation='relu'))\n",
        "model.add(Dense(1, activation='sigmoid'))\n",
        "\n",
        "# Freeze the pre-trained layers for fine-tuning\n",
        "for layer in pretrained_model.layers:\n",
        "    layer.trainable = False\n",
        "\n",
        "\n",
        "model.compile(optimizer=Adam(learning_rate=0.0008), loss='binary_crossentropy', metrics=['AUC'])\n",
        "\n",
        "history = model.fit(train_datagen,\n",
        "                    validation_data=validation_datagen,\n",
        "                    epochs=num_epochs)\n",
        "\n",
        "test_loss, test_accuracy = model.evaluate(test_images, test_labels)"
      ],
      "metadata": {
        "colab": {
          "base_uri": "https://localhost:8080/",
          "height": 460
        },
        "id": "CvtowogkYbWw",
        "outputId": "fb008cd1-104b-4911-a3e4-3e84d7d43df7"
      },
      "execution_count": 182,
      "outputs": [
        {
          "output_type": "stream",
          "name": "stdout",
          "text": [
            "Epoch 1/10\n",
            "10/10 [==============================] - 239s 24s/step - loss: 1.2552 - auc: 0.4854 - val_loss: 0.8209 - val_auc: 0.7738\n",
            "Epoch 2/10\n",
            " 9/10 [==========================>...] - ETA: 19s - loss: 0.7012 - auc: 0.6028"
          ]
        },
        {
          "output_type": "error",
          "ename": "KeyboardInterrupt",
          "evalue": "ignored",
          "traceback": [
            "\u001b[0;31m---------------------------------------------------------------------------\u001b[0m",
            "\u001b[0;31mKeyboardInterrupt\u001b[0m                         Traceback (most recent call last)",
            "\u001b[0;32m<ipython-input-182-e5ed4421bd54>\u001b[0m in \u001b[0;36m<cell line: 18>\u001b[0;34m()\u001b[0m\n\u001b[1;32m     16\u001b[0m \u001b[0mmodel\u001b[0m\u001b[0;34m.\u001b[0m\u001b[0mcompile\u001b[0m\u001b[0;34m(\u001b[0m\u001b[0moptimizer\u001b[0m\u001b[0;34m=\u001b[0m\u001b[0mAdam\u001b[0m\u001b[0;34m(\u001b[0m\u001b[0mlearning_rate\u001b[0m\u001b[0;34m=\u001b[0m\u001b[0;36m0.0008\u001b[0m\u001b[0;34m)\u001b[0m\u001b[0;34m,\u001b[0m \u001b[0mloss\u001b[0m\u001b[0;34m=\u001b[0m\u001b[0;34m'binary_crossentropy'\u001b[0m\u001b[0;34m,\u001b[0m \u001b[0mmetrics\u001b[0m\u001b[0;34m=\u001b[0m\u001b[0;34m[\u001b[0m\u001b[0;34m'AUC'\u001b[0m\u001b[0;34m]\u001b[0m\u001b[0;34m)\u001b[0m\u001b[0;34m\u001b[0m\u001b[0;34m\u001b[0m\u001b[0m\n\u001b[1;32m     17\u001b[0m \u001b[0;34m\u001b[0m\u001b[0m\n\u001b[0;32m---> 18\u001b[0;31m history = model.fit(train_datagen,\n\u001b[0m\u001b[1;32m     19\u001b[0m                     \u001b[0mvalidation_data\u001b[0m\u001b[0;34m=\u001b[0m\u001b[0mvalidation_datagen\u001b[0m\u001b[0;34m,\u001b[0m\u001b[0;34m\u001b[0m\u001b[0;34m\u001b[0m\u001b[0m\n\u001b[1;32m     20\u001b[0m                     epochs=num_epochs)\n",
            "\u001b[0;32m/usr/local/lib/python3.10/dist-packages/keras/src/utils/traceback_utils.py\u001b[0m in \u001b[0;36merror_handler\u001b[0;34m(*args, **kwargs)\u001b[0m\n\u001b[1;32m     63\u001b[0m         \u001b[0mfiltered_tb\u001b[0m \u001b[0;34m=\u001b[0m \u001b[0;32mNone\u001b[0m\u001b[0;34m\u001b[0m\u001b[0;34m\u001b[0m\u001b[0m\n\u001b[1;32m     64\u001b[0m         \u001b[0;32mtry\u001b[0m\u001b[0;34m:\u001b[0m\u001b[0;34m\u001b[0m\u001b[0;34m\u001b[0m\u001b[0m\n\u001b[0;32m---> 65\u001b[0;31m             \u001b[0;32mreturn\u001b[0m \u001b[0mfn\u001b[0m\u001b[0;34m(\u001b[0m\u001b[0;34m*\u001b[0m\u001b[0margs\u001b[0m\u001b[0;34m,\u001b[0m \u001b[0;34m**\u001b[0m\u001b[0mkwargs\u001b[0m\u001b[0;34m)\u001b[0m\u001b[0;34m\u001b[0m\u001b[0;34m\u001b[0m\u001b[0m\n\u001b[0m\u001b[1;32m     66\u001b[0m         \u001b[0;32mexcept\u001b[0m \u001b[0mException\u001b[0m \u001b[0;32mas\u001b[0m \u001b[0me\u001b[0m\u001b[0;34m:\u001b[0m\u001b[0;34m\u001b[0m\u001b[0;34m\u001b[0m\u001b[0m\n\u001b[1;32m     67\u001b[0m             \u001b[0mfiltered_tb\u001b[0m \u001b[0;34m=\u001b[0m \u001b[0m_process_traceback_frames\u001b[0m\u001b[0;34m(\u001b[0m\u001b[0me\u001b[0m\u001b[0;34m.\u001b[0m\u001b[0m__traceback__\u001b[0m\u001b[0;34m)\u001b[0m\u001b[0;34m\u001b[0m\u001b[0;34m\u001b[0m\u001b[0m\n",
            "\u001b[0;32m/usr/local/lib/python3.10/dist-packages/keras/src/engine/training.py\u001b[0m in \u001b[0;36mfit\u001b[0;34m(self, x, y, batch_size, epochs, verbose, callbacks, validation_split, validation_data, shuffle, class_weight, sample_weight, initial_epoch, steps_per_epoch, validation_steps, validation_batch_size, validation_freq, max_queue_size, workers, use_multiprocessing)\u001b[0m\n\u001b[1;32m   1740\u001b[0m                         ):\n\u001b[1;32m   1741\u001b[0m                             \u001b[0mcallbacks\u001b[0m\u001b[0;34m.\u001b[0m\u001b[0mon_train_batch_begin\u001b[0m\u001b[0;34m(\u001b[0m\u001b[0mstep\u001b[0m\u001b[0;34m)\u001b[0m\u001b[0;34m\u001b[0m\u001b[0;34m\u001b[0m\u001b[0m\n\u001b[0;32m-> 1742\u001b[0;31m                             \u001b[0mtmp_logs\u001b[0m \u001b[0;34m=\u001b[0m \u001b[0mself\u001b[0m\u001b[0;34m.\u001b[0m\u001b[0mtrain_function\u001b[0m\u001b[0;34m(\u001b[0m\u001b[0miterator\u001b[0m\u001b[0;34m)\u001b[0m\u001b[0;34m\u001b[0m\u001b[0;34m\u001b[0m\u001b[0m\n\u001b[0m\u001b[1;32m   1743\u001b[0m                             \u001b[0;32mif\u001b[0m \u001b[0mdata_handler\u001b[0m\u001b[0;34m.\u001b[0m\u001b[0mshould_sync\u001b[0m\u001b[0;34m:\u001b[0m\u001b[0;34m\u001b[0m\u001b[0;34m\u001b[0m\u001b[0m\n\u001b[1;32m   1744\u001b[0m                                 \u001b[0mcontext\u001b[0m\u001b[0;34m.\u001b[0m\u001b[0masync_wait\u001b[0m\u001b[0;34m(\u001b[0m\u001b[0;34m)\u001b[0m\u001b[0;34m\u001b[0m\u001b[0;34m\u001b[0m\u001b[0m\n",
            "\u001b[0;32m/usr/local/lib/python3.10/dist-packages/tensorflow/python/util/traceback_utils.py\u001b[0m in \u001b[0;36merror_handler\u001b[0;34m(*args, **kwargs)\u001b[0m\n\u001b[1;32m    148\u001b[0m     \u001b[0mfiltered_tb\u001b[0m \u001b[0;34m=\u001b[0m \u001b[0;32mNone\u001b[0m\u001b[0;34m\u001b[0m\u001b[0;34m\u001b[0m\u001b[0m\n\u001b[1;32m    149\u001b[0m     \u001b[0;32mtry\u001b[0m\u001b[0;34m:\u001b[0m\u001b[0;34m\u001b[0m\u001b[0;34m\u001b[0m\u001b[0m\n\u001b[0;32m--> 150\u001b[0;31m       \u001b[0;32mreturn\u001b[0m \u001b[0mfn\u001b[0m\u001b[0;34m(\u001b[0m\u001b[0;34m*\u001b[0m\u001b[0margs\u001b[0m\u001b[0;34m,\u001b[0m \u001b[0;34m**\u001b[0m\u001b[0mkwargs\u001b[0m\u001b[0;34m)\u001b[0m\u001b[0;34m\u001b[0m\u001b[0;34m\u001b[0m\u001b[0m\n\u001b[0m\u001b[1;32m    151\u001b[0m     \u001b[0;32mexcept\u001b[0m \u001b[0mException\u001b[0m \u001b[0;32mas\u001b[0m \u001b[0me\u001b[0m\u001b[0;34m:\u001b[0m\u001b[0;34m\u001b[0m\u001b[0;34m\u001b[0m\u001b[0m\n\u001b[1;32m    152\u001b[0m       \u001b[0mfiltered_tb\u001b[0m \u001b[0;34m=\u001b[0m \u001b[0m_process_traceback_frames\u001b[0m\u001b[0;34m(\u001b[0m\u001b[0me\u001b[0m\u001b[0;34m.\u001b[0m\u001b[0m__traceback__\u001b[0m\u001b[0;34m)\u001b[0m\u001b[0;34m\u001b[0m\u001b[0;34m\u001b[0m\u001b[0m\n",
            "\u001b[0;32m/usr/local/lib/python3.10/dist-packages/tensorflow/python/eager/polymorphic_function/polymorphic_function.py\u001b[0m in \u001b[0;36m__call__\u001b[0;34m(self, *args, **kwds)\u001b[0m\n\u001b[1;32m    823\u001b[0m \u001b[0;34m\u001b[0m\u001b[0m\n\u001b[1;32m    824\u001b[0m       \u001b[0;32mwith\u001b[0m \u001b[0mOptionalXlaContext\u001b[0m\u001b[0;34m(\u001b[0m\u001b[0mself\u001b[0m\u001b[0;34m.\u001b[0m\u001b[0m_jit_compile\u001b[0m\u001b[0;34m)\u001b[0m\u001b[0;34m:\u001b[0m\u001b[0;34m\u001b[0m\u001b[0;34m\u001b[0m\u001b[0m\n\u001b[0;32m--> 825\u001b[0;31m         \u001b[0mresult\u001b[0m \u001b[0;34m=\u001b[0m \u001b[0mself\u001b[0m\u001b[0;34m.\u001b[0m\u001b[0m_call\u001b[0m\u001b[0;34m(\u001b[0m\u001b[0;34m*\u001b[0m\u001b[0margs\u001b[0m\u001b[0;34m,\u001b[0m \u001b[0;34m**\u001b[0m\u001b[0mkwds\u001b[0m\u001b[0;34m)\u001b[0m\u001b[0;34m\u001b[0m\u001b[0;34m\u001b[0m\u001b[0m\n\u001b[0m\u001b[1;32m    826\u001b[0m \u001b[0;34m\u001b[0m\u001b[0m\n\u001b[1;32m    827\u001b[0m       \u001b[0mnew_tracing_count\u001b[0m \u001b[0;34m=\u001b[0m \u001b[0mself\u001b[0m\u001b[0;34m.\u001b[0m\u001b[0mexperimental_get_tracing_count\u001b[0m\u001b[0;34m(\u001b[0m\u001b[0;34m)\u001b[0m\u001b[0;34m\u001b[0m\u001b[0;34m\u001b[0m\u001b[0m\n",
            "\u001b[0;32m/usr/local/lib/python3.10/dist-packages/tensorflow/python/eager/polymorphic_function/polymorphic_function.py\u001b[0m in \u001b[0;36m_call\u001b[0;34m(self, *args, **kwds)\u001b[0m\n\u001b[1;32m    855\u001b[0m       \u001b[0;31m# In this case we have created variables on the first call, so we run the\u001b[0m\u001b[0;34m\u001b[0m\u001b[0;34m\u001b[0m\u001b[0m\n\u001b[1;32m    856\u001b[0m       \u001b[0;31m# defunned version which is guaranteed to never create variables.\u001b[0m\u001b[0;34m\u001b[0m\u001b[0;34m\u001b[0m\u001b[0m\n\u001b[0;32m--> 857\u001b[0;31m       \u001b[0;32mreturn\u001b[0m \u001b[0mself\u001b[0m\u001b[0;34m.\u001b[0m\u001b[0m_no_variable_creation_fn\u001b[0m\u001b[0;34m(\u001b[0m\u001b[0;34m*\u001b[0m\u001b[0margs\u001b[0m\u001b[0;34m,\u001b[0m \u001b[0;34m**\u001b[0m\u001b[0mkwds\u001b[0m\u001b[0;34m)\u001b[0m  \u001b[0;31m# pylint: disable=not-callable\u001b[0m\u001b[0;34m\u001b[0m\u001b[0;34m\u001b[0m\u001b[0m\n\u001b[0m\u001b[1;32m    858\u001b[0m     \u001b[0;32melif\u001b[0m \u001b[0mself\u001b[0m\u001b[0;34m.\u001b[0m\u001b[0m_variable_creation_fn\u001b[0m \u001b[0;32mis\u001b[0m \u001b[0;32mnot\u001b[0m \u001b[0;32mNone\u001b[0m\u001b[0;34m:\u001b[0m\u001b[0;34m\u001b[0m\u001b[0;34m\u001b[0m\u001b[0m\n\u001b[1;32m    859\u001b[0m       \u001b[0;31m# Release the lock early so that multiple threads can perform the call\u001b[0m\u001b[0;34m\u001b[0m\u001b[0;34m\u001b[0m\u001b[0m\n",
            "\u001b[0;32m/usr/local/lib/python3.10/dist-packages/tensorflow/python/eager/polymorphic_function/tracing_compiler.py\u001b[0m in \u001b[0;36m__call__\u001b[0;34m(self, *args, **kwargs)\u001b[0m\n\u001b[1;32m    146\u001b[0m       (concrete_function,\n\u001b[1;32m    147\u001b[0m        filtered_flat_args) = self._maybe_define_function(args, kwargs)\n\u001b[0;32m--> 148\u001b[0;31m     return concrete_function._call_flat(\n\u001b[0m\u001b[1;32m    149\u001b[0m         filtered_flat_args, captured_inputs=concrete_function.captured_inputs)  # pylint: disable=protected-access\n\u001b[1;32m    150\u001b[0m \u001b[0;34m\u001b[0m\u001b[0m\n",
            "\u001b[0;32m/usr/local/lib/python3.10/dist-packages/tensorflow/python/eager/polymorphic_function/monomorphic_function.py\u001b[0m in \u001b[0;36m_call_flat\u001b[0;34m(self, args, captured_inputs)\u001b[0m\n\u001b[1;32m   1347\u001b[0m         and executing_eagerly):\n\u001b[1;32m   1348\u001b[0m       \u001b[0;31m# No tape is watching; skip to running the function.\u001b[0m\u001b[0;34m\u001b[0m\u001b[0;34m\u001b[0m\u001b[0m\n\u001b[0;32m-> 1349\u001b[0;31m       \u001b[0;32mreturn\u001b[0m \u001b[0mself\u001b[0m\u001b[0;34m.\u001b[0m\u001b[0m_build_call_outputs\u001b[0m\u001b[0;34m(\u001b[0m\u001b[0mself\u001b[0m\u001b[0;34m.\u001b[0m\u001b[0m_inference_function\u001b[0m\u001b[0;34m(\u001b[0m\u001b[0;34m*\u001b[0m\u001b[0margs\u001b[0m\u001b[0;34m)\u001b[0m\u001b[0;34m)\u001b[0m\u001b[0;34m\u001b[0m\u001b[0;34m\u001b[0m\u001b[0m\n\u001b[0m\u001b[1;32m   1350\u001b[0m     forward_backward = self._select_forward_and_backward_functions(\n\u001b[1;32m   1351\u001b[0m         \u001b[0margs\u001b[0m\u001b[0;34m,\u001b[0m\u001b[0;34m\u001b[0m\u001b[0;34m\u001b[0m\u001b[0m\n",
            "\u001b[0;32m/usr/local/lib/python3.10/dist-packages/tensorflow/python/eager/polymorphic_function/atomic_function.py\u001b[0m in \u001b[0;36m__call__\u001b[0;34m(self, *args)\u001b[0m\n\u001b[1;32m    194\u001b[0m         \u001b[0;32mwith\u001b[0m \u001b[0mrecord\u001b[0m\u001b[0;34m.\u001b[0m\u001b[0mstop_recording\u001b[0m\u001b[0;34m(\u001b[0m\u001b[0;34m)\u001b[0m\u001b[0;34m:\u001b[0m\u001b[0;34m\u001b[0m\u001b[0;34m\u001b[0m\u001b[0m\n\u001b[1;32m    195\u001b[0m           \u001b[0;32mif\u001b[0m \u001b[0mself\u001b[0m\u001b[0;34m.\u001b[0m\u001b[0m_bound_context\u001b[0m\u001b[0;34m.\u001b[0m\u001b[0mexecuting_eagerly\u001b[0m\u001b[0;34m(\u001b[0m\u001b[0;34m)\u001b[0m\u001b[0;34m:\u001b[0m\u001b[0;34m\u001b[0m\u001b[0;34m\u001b[0m\u001b[0m\n\u001b[0;32m--> 196\u001b[0;31m             outputs = self._bound_context.call_function(\n\u001b[0m\u001b[1;32m    197\u001b[0m                 \u001b[0mself\u001b[0m\u001b[0;34m.\u001b[0m\u001b[0mname\u001b[0m\u001b[0;34m,\u001b[0m\u001b[0;34m\u001b[0m\u001b[0;34m\u001b[0m\u001b[0m\n\u001b[1;32m    198\u001b[0m                 \u001b[0mlist\u001b[0m\u001b[0;34m(\u001b[0m\u001b[0margs\u001b[0m\u001b[0;34m)\u001b[0m\u001b[0;34m,\u001b[0m\u001b[0;34m\u001b[0m\u001b[0;34m\u001b[0m\u001b[0m\n",
            "\u001b[0;32m/usr/local/lib/python3.10/dist-packages/tensorflow/python/eager/context.py\u001b[0m in \u001b[0;36mcall_function\u001b[0;34m(self, name, tensor_inputs, num_outputs)\u001b[0m\n\u001b[1;32m   1455\u001b[0m     \u001b[0mcancellation_context\u001b[0m \u001b[0;34m=\u001b[0m \u001b[0mcancellation\u001b[0m\u001b[0;34m.\u001b[0m\u001b[0mcontext\u001b[0m\u001b[0;34m(\u001b[0m\u001b[0;34m)\u001b[0m\u001b[0;34m\u001b[0m\u001b[0;34m\u001b[0m\u001b[0m\n\u001b[1;32m   1456\u001b[0m     \u001b[0;32mif\u001b[0m \u001b[0mcancellation_context\u001b[0m \u001b[0;32mis\u001b[0m \u001b[0;32mNone\u001b[0m\u001b[0;34m:\u001b[0m\u001b[0;34m\u001b[0m\u001b[0;34m\u001b[0m\u001b[0m\n\u001b[0;32m-> 1457\u001b[0;31m       outputs = execute.execute(\n\u001b[0m\u001b[1;32m   1458\u001b[0m           \u001b[0mname\u001b[0m\u001b[0;34m.\u001b[0m\u001b[0mdecode\u001b[0m\u001b[0;34m(\u001b[0m\u001b[0;34m\"utf-8\"\u001b[0m\u001b[0;34m)\u001b[0m\u001b[0;34m,\u001b[0m\u001b[0;34m\u001b[0m\u001b[0;34m\u001b[0m\u001b[0m\n\u001b[1;32m   1459\u001b[0m           \u001b[0mnum_outputs\u001b[0m\u001b[0;34m=\u001b[0m\u001b[0mnum_outputs\u001b[0m\u001b[0;34m,\u001b[0m\u001b[0;34m\u001b[0m\u001b[0;34m\u001b[0m\u001b[0m\n",
            "\u001b[0;32m/usr/local/lib/python3.10/dist-packages/tensorflow/python/eager/execute.py\u001b[0m in \u001b[0;36mquick_execute\u001b[0;34m(op_name, num_outputs, inputs, attrs, ctx, name)\u001b[0m\n\u001b[1;32m     51\u001b[0m   \u001b[0;32mtry\u001b[0m\u001b[0;34m:\u001b[0m\u001b[0;34m\u001b[0m\u001b[0;34m\u001b[0m\u001b[0m\n\u001b[1;32m     52\u001b[0m     \u001b[0mctx\u001b[0m\u001b[0;34m.\u001b[0m\u001b[0mensure_initialized\u001b[0m\u001b[0;34m(\u001b[0m\u001b[0;34m)\u001b[0m\u001b[0;34m\u001b[0m\u001b[0;34m\u001b[0m\u001b[0m\n\u001b[0;32m---> 53\u001b[0;31m     tensors = pywrap_tfe.TFE_Py_Execute(ctx._handle, device_name, op_name,\n\u001b[0m\u001b[1;32m     54\u001b[0m                                         inputs, attrs, num_outputs)\n\u001b[1;32m     55\u001b[0m   \u001b[0;32mexcept\u001b[0m \u001b[0mcore\u001b[0m\u001b[0;34m.\u001b[0m\u001b[0m_NotOkStatusException\u001b[0m \u001b[0;32mas\u001b[0m \u001b[0me\u001b[0m\u001b[0;34m:\u001b[0m\u001b[0;34m\u001b[0m\u001b[0;34m\u001b[0m\u001b[0m\n",
            "\u001b[0;31mKeyboardInterrupt\u001b[0m: "
          ]
        }
      ]
    },
    {
      "cell_type": "code",
      "source": [
        "model.save(\"VGG2.h5\")"
      ],
      "metadata": {
        "colab": {
          "base_uri": "https://localhost:8080/"
        },
        "id": "TA5d2INM9EKR",
        "outputId": "f2dc3b2e-77ea-4074-f8f7-a2177bfec3dd"
      },
      "execution_count": 177,
      "outputs": [
        {
          "output_type": "stream",
          "name": "stderr",
          "text": [
            "/usr/local/lib/python3.10/dist-packages/keras/src/engine/training.py:3000: UserWarning: You are saving your model as an HDF5 file via `model.save()`. This file format is considered legacy. We recommend using instead the native Keras format, e.g. `model.save('my_model.keras')`.\n",
            "  saving_api.save_model(\n"
          ]
        }
      ]
    },
    {
      "cell_type": "markdown",
      "source": [
        "## MobileNet\n"
      ],
      "metadata": {
        "id": "qneSQPaRXh3K"
      }
    },
    {
      "cell_type": "markdown",
      "source": [
        "### preprocess"
      ],
      "metadata": {
        "id": "t-ovvGlkaZiC"
      }
    },
    {
      "cell_type": "code",
      "source": [
        "# Split the data\n",
        "image_height = 224\n",
        "image_width = 224\n",
        "batch_size = 32\n",
        "num_epochs = 10\n",
        "\n",
        "\n",
        "train_df, valid_df = train_test_split(df, test_size=0.3, random_state=42)\n",
        "val_df, test_df = train_test_split(valid_df, test_size=0.5, random_state=42)\n",
        "# Load and preprocess images\n",
        "train_images = []\n",
        "train_labels = []\n",
        "\n",
        "for index, row in train_df.iterrows():\n",
        "    image = Image.open(row['path'])\n",
        "    image = image.convert('RGB')\n",
        "    image = image.resize((image_height, image_width))\n",
        "    image = np.array(image) / 255.0  # Rescale pixel values to [0, 1]\n",
        "    train_images.append(image)\n",
        "    train_labels.append(row['plume'])\n",
        "\n",
        "train_images = np.array(train_images)\n",
        "train_labels = np.array(train_labels)\n",
        "\n",
        "validation_images = []\n",
        "validation_labels = []\n",
        "\n",
        "for index, row in val_df.iterrows():\n",
        "    image = Image.open(row['path'])\n",
        "    image = image.convert('RGB')\n",
        "    image = image.resize((image_height, image_width))\n",
        "    image = np.array(image) / 255.0  # Rescale pixel values to [0, 1]\n",
        "    validation_images.append(image)\n",
        "    validation_labels.append(row['plume'])\n",
        "\n",
        "validation_images = np.array(validation_images)\n",
        "validation_labels = np.array(validation_labels)\n",
        "\n",
        "test_images = []  # Load and preprocess test images similarly\n",
        "test_labels = []\n",
        "\n",
        "for index, row in test_df.iterrows():\n",
        "    image = Image.open(row['path'])\n",
        "    image = image.convert('RGB')\n",
        "    image = image.resize((image_height, image_width))\n",
        "    image = np.array(image) / 255.0  # Rescale pixel values to [0, 1]\n",
        "    test_images.append(image)\n",
        "    test_labels.append(row['plume'])\n",
        "\n",
        "test_images = np.array(test_images)\n",
        "test_labels = np.array(test_labels)\n",
        "\n",
        "# Convert string labels to numerical format in your data frames\n",
        "train_df['plume'] = train_df['plume'].map({'yes': 1, 'no': 0})\n",
        "val_df['plume'] = val_df['plume'].map({'yes': 1, 'no': 0})\n",
        "test_df['plume'] = test_df['plume'].map({'yes': 1, 'no': 0})\n",
        "\n",
        "# Now convert the labels to NumPy arrays\n",
        "train_labels = np.array(train_df['plume'])\n",
        "validation_labels = np.array(val_df['plume'])\n",
        "test_labels = np.array(test_df['plume'])\n",
        "\n",
        "# Create an instance of the ImageDataGenerator\n",
        "traindatagen = ImageDataGenerator(\n",
        "    rotation_range=20,\n",
        "    width_shift_range=0.2,\n",
        "    height_shift_range=0.2,\n",
        "    shear_range=0.2,\n",
        "    zoom_range=0.2,\n",
        "    horizontal_flip=True,\n",
        "    vertical_flip=True,\n",
        "    # preprocessing_function=upscale_image,\n",
        ")\n",
        "\n",
        "valdatagen = ImageDataGenerator(\n",
        ")\n",
        "\n",
        "# train_images = train_images.reshape(train_images.shape + (1,))\n",
        "train_datagen = traindatagen.flow(train_images, train_labels, batch_size=batch_size)\n",
        "# validation_images = validation_images.reshape(validation_images.shape + (1,))\n",
        "validation_datagen = valdatagen.flow(validation_images, validation_labels, batch_size=batch_size)\n",
        "# test_images = test_images.reshape(test_images.shape + (1,))\n",
        "test_datagen = valdatagen.flow(test_images, test_labels, batch_size=batch_size)"
      ],
      "metadata": {
        "id": "Ssi-WiOiZ87M"
      },
      "execution_count": 162,
      "outputs": []
    },
    {
      "cell_type": "markdown",
      "source": [
        "### model"
      ],
      "metadata": {
        "id": "ljGgPhrLrC7Y"
      }
    },
    {
      "cell_type": "code",
      "source": [
        "from tensorflow.keras.applications import MobileNetV2\n",
        "from tensorflow.keras.losses import binary_crossentropy\n",
        "\n",
        "base_model = MobileNetV2(weights='imagenet', include_top=False, input_shape=(224, 224, 3))\n",
        "\n",
        "# x = base_model.output\n",
        "# x = GlobalAveragePooling2D()(x)\n",
        "# x = Dense(256, activation='relu')(x)\n",
        "# predictions = Dense(1, activation='sigmoid')(x)\n",
        "# model = Model(inputs=base_model.input, outputs=predictions)\n",
        "\n",
        "\n",
        "model = tf.keras.Sequential()\n",
        "model.add(base_model)\n",
        "model.add(tf.keras.layers.GlobalAveragePooling2D())\n",
        "model.add(tf.keras.layers.Dense(256, activation='relu'))\n",
        "model.add(tf.keras.layers.Dropout(0.2))\n",
        "model.add(tf.keras.layers.Dense(256, activation='relu'))\n",
        "model.add(tf.keras.layers.Dropout(0.2))\n",
        "model.add(tf.keras.layers.Dense(1, activation='sigmoid'))\n",
        "\n",
        "\n",
        "\n",
        "for layer in base_model.layers:\n",
        "    layer.trainable = False\n",
        "\n",
        "\n",
        "model.compile(optimizer=Adam(learning_rate=0.001), loss=binary_crossentropy, metrics=['AUC'])\n",
        "\n",
        "# for layer in base_model.layers:\n",
        "#     layer.trainable = True\n",
        "\n",
        "# # It's good to use a smaller learning rate for fine-tuning\n",
        "\n",
        "# model.compile(optimizer=Adam(lr=0.0001), loss='categorical_crossentropy', metrics=['accuracy'])\n",
        "\n",
        "early_stopper = tf.keras.callbacks.EarlyStopping(monitor = 'val_auc',\n",
        "                                                 mode = 'max',\n",
        "                                                 min_delta = 0.005,\n",
        "                                                 patience = 10,\n",
        "                                                 verbose = 1,\n",
        "                                                 restore_best_weights = True)\n",
        "\n",
        "model.fit(train_datagen, epochs=20, validation_data=validation_datagen, callbacks=[early_stopper])"
      ],
      "metadata": {
        "colab": {
          "base_uri": "https://localhost:8080/"
        },
        "id": "TOqeoudnVAKT",
        "outputId": "2ab1a595-9c8d-4ead-c025-2c2eba29ef72"
      },
      "execution_count": 165,
      "outputs": [
        {
          "output_type": "stream",
          "name": "stdout",
          "text": [
            "Epoch 1/20\n",
            "10/10 [==============================] - 26s 2s/step - loss: 0.9443 - auc: 0.4761 - val_loss: 0.6443 - val_auc: 0.6938\n",
            "Epoch 2/20\n",
            "10/10 [==============================] - 25s 2s/step - loss: 0.6364 - auc: 0.6758 - val_loss: 0.6688 - val_auc: 0.7728\n",
            "Epoch 3/20\n",
            "10/10 [==============================] - 17s 2s/step - loss: 0.6634 - auc: 0.6609 - val_loss: 0.5748 - val_auc: 0.7482\n",
            "Epoch 4/20\n",
            "10/10 [==============================] - 30s 3s/step - loss: 0.5835 - auc: 0.7592 - val_loss: 0.6173 - val_auc: 0.7826\n",
            "Epoch 5/20\n",
            "10/10 [==============================] - 26s 3s/step - loss: 0.5695 - auc: 0.7752 - val_loss: 0.7672 - val_auc: 0.7764\n",
            "Epoch 6/20\n",
            "10/10 [==============================] - 19s 2s/step - loss: 0.6174 - auc: 0.7239 - val_loss: 0.6392 - val_auc: 0.7651\n",
            "Epoch 7/20\n",
            "10/10 [==============================] - 20s 2s/step - loss: 0.6079 - auc: 0.7342 - val_loss: 0.5683 - val_auc: 0.7462\n",
            "Epoch 8/20\n",
            "10/10 [==============================] - 18s 2s/step - loss: 0.6062 - auc: 0.7404 - val_loss: 0.7449 - val_auc: 0.7938\n",
            "Epoch 9/20\n",
            "10/10 [==============================] - 17s 2s/step - loss: 0.5735 - auc: 0.7941 - val_loss: 0.6720 - val_auc: 0.7805\n",
            "Epoch 10/20\n",
            "10/10 [==============================] - 20s 2s/step - loss: 0.5843 - auc: 0.7709 - val_loss: 0.6106 - val_auc: 0.7867\n",
            "Epoch 11/20\n",
            "10/10 [==============================] - 17s 2s/step - loss: 0.5582 - auc: 0.7869 - val_loss: 0.6878 - val_auc: 0.7851\n",
            "Epoch 12/20\n",
            "10/10 [==============================] - 17s 2s/step - loss: 0.5754 - auc: 0.7686 - val_loss: 0.6586 - val_auc: 0.7923\n",
            "Epoch 13/20\n",
            "10/10 [==============================] - 18s 2s/step - loss: 0.5722 - auc: 0.7736 - val_loss: 0.5368 - val_auc: 0.7990\n",
            "Epoch 14/20\n",
            "10/10 [==============================] - 17s 2s/step - loss: 0.5453 - auc: 0.7965 - val_loss: 0.6103 - val_auc: 0.8103\n",
            "Epoch 15/20\n",
            "10/10 [==============================] - 18s 2s/step - loss: 0.5168 - auc: 0.8265 - val_loss: 0.5618 - val_auc: 0.7867\n",
            "Epoch 16/20\n",
            "10/10 [==============================] - 26s 3s/step - loss: 0.5156 - auc: 0.8183 - val_loss: 0.6312 - val_auc: 0.7974\n",
            "Epoch 17/20\n",
            "10/10 [==============================] - 26s 3s/step - loss: 0.5325 - auc: 0.8109 - val_loss: 0.6525 - val_auc: 0.7841\n",
            "Epoch 18/20\n",
            "10/10 [==============================] - 22s 2s/step - loss: 0.5196 - auc: 0.8208 - val_loss: 0.6738 - val_auc: 0.7887\n",
            "Epoch 19/20\n",
            "10/10 [==============================] - 18s 2s/step - loss: 0.4865 - auc: 0.8492 - val_loss: 0.6235 - val_auc: 0.8072\n",
            "Epoch 20/20\n",
            "10/10 [==============================] - 21s 2s/step - loss: 0.4993 - auc: 0.8380 - val_loss: 0.5451 - val_auc: 0.8015\n"
          ]
        },
        {
          "output_type": "execute_result",
          "data": {
            "text/plain": [
              "<keras.src.callbacks.History at 0x7d89b2ed8130>"
            ]
          },
          "metadata": {},
          "execution_count": 165
        }
      ]
    },
    {
      "cell_type": "code",
      "source": [
        "# model.save('MobileNet1.h5')\n",
        "test_loss, test_accuracy = model.evaluate(test_datagen)\n",
        "print(f\"Test accuracy: {test_accuracy:.2f}\")"
      ],
      "metadata": {
        "colab": {
          "base_uri": "https://localhost:8080/"
        },
        "id": "Qaq4CJlIrZLj",
        "outputId": "09b76abe-c0f0-4485-af8e-589e34755569"
      },
      "execution_count": 166,
      "outputs": [
        {
          "output_type": "stream",
          "name": "stdout",
          "text": [
            "3/3 [==============================] - 2s 529ms/step - loss: 0.5328 - auc: 0.8046\n",
            "Test accuracy: 0.80\n"
          ]
        }
      ]
    },
    {
      "cell_type": "code",
      "source": [
        "sample_batch, sample_labels = next(validation_datagen)\n",
        "sample_batch, sample_labels = next(train_datagen)\n",
        "\n",
        "data_type = sample_batch.dtype\n",
        "\n",
        "# Print the data type\n",
        "print(\"Data type of the batch:\", data_type)"
      ],
      "metadata": {
        "colab": {
          "base_uri": "https://localhost:8080/"
        },
        "id": "51Aq7TKqhIfA",
        "outputId": "1974ceeb-801e-4c32-a41c-0439eec3dda1"
      },
      "execution_count": 140,
      "outputs": [
        {
          "output_type": "stream",
          "name": "stdout",
          "text": [
            "Data type of the batch: float32\n"
          ]
        }
      ]
    },
    {
      "cell_type": "markdown",
      "source": [
        "## RESNET\n",
        "\n",
        "\n"
      ],
      "metadata": {
        "id": "V-oUV8UPOa6A"
      }
    },
    {
      "cell_type": "code",
      "source": [
        "train_labels.dtype"
      ],
      "metadata": {
        "colab": {
          "base_uri": "https://localhost:8080/"
        },
        "id": "0ETH1e28l83W",
        "outputId": "b302b7ec-b2e5-434f-91e0-0b3ddafdf006"
      },
      "execution_count": 141,
      "outputs": [
        {
          "output_type": "execute_result",
          "data": {
            "text/plain": [
              "dtype('int64')"
            ]
          },
          "metadata": {},
          "execution_count": 141
        }
      ]
    },
    {
      "cell_type": "code",
      "source": [
        "# Split the data\n",
        "image_height = 224\n",
        "image_width = 224\n",
        "batch_size = 32\n",
        "num_epochs = 10\n",
        "\n",
        "\n",
        "train_df, valid_df = train_test_split(df, test_size=0.3, random_state=42)\n",
        "val_df, test_df = train_test_split(valid_df, test_size=0.5, random_state=42)\n",
        "# Load and preprocess images\n",
        "train_images = []\n",
        "train_labels = []\n",
        "\n",
        "for index, row in train_df.iterrows():\n",
        "    image = Image.open(row['path'])\n",
        "    image = image.convert('RGB')\n",
        "    image = image.resize((image_height, image_width))\n",
        "    image = np.array(image) / 255.0  # Rescale pixel values to [0, 1]\n",
        "    train_images.append(image)\n",
        "    train_labels.append(row['plume'])\n",
        "\n",
        "train_images = np.array(train_images)\n",
        "train_labels = np.array(train_labels)\n",
        "\n",
        "validation_images = []\n",
        "validation_labels = []\n",
        "\n",
        "for index, row in val_df.iterrows():\n",
        "    image = Image.open(row['path'])\n",
        "    image = image.convert('RGB')\n",
        "    image = image.resize((image_height, image_width))\n",
        "    image = np.array(image) / 255.0  # Rescale pixel values to [0, 1]\n",
        "    validation_images.append(image)\n",
        "    validation_labels.append(row['plume'])\n",
        "\n",
        "validation_images = np.array(validation_images)\n",
        "validation_labels = np.array(validation_labels)\n",
        "\n",
        "test_images = []  # Load and preprocess test images similarly\n",
        "test_labels = []\n",
        "\n",
        "for index, row in test_df.iterrows():\n",
        "    image = Image.open(row['path'])\n",
        "    image = image.convert('RGB')\n",
        "    image = image.resize((image_height, image_width))\n",
        "    image = np.array(image) / 255.0  # Rescale pixel values to [0, 1]\n",
        "    test_images.append(image)\n",
        "    test_labels.append(row['plume'])\n",
        "\n",
        "test_images = np.array(test_images)\n",
        "test_labels = np.array(test_labels)\n",
        "\n",
        "# Convert string labels to numerical format in your data frames\n",
        "train_df['plume'] = train_df['plume'].map({'yes': 1, 'no': 0})\n",
        "val_df['plume'] = val_df['plume'].map({'yes': 1, 'no': 0})\n",
        "test_df['plume'] = test_df['plume'].map({'yes': 1, 'no': 0})\n",
        "\n",
        "# Now convert the labels to NumPy arrays\n",
        "train_labels = np.array(train_df['plume'])\n",
        "validation_labels = np.array(val_df['plume'])\n",
        "test_labels = np.array(test_df['plume'])\n",
        "\n",
        "# Create an instance of the ImageDataGenerator\n",
        "traindatagen = ImageDataGenerator(\n",
        "    rotation_range=20,\n",
        "    width_shift_range=0.2,\n",
        "    height_shift_range=0.2,\n",
        "    shear_range=0.2,\n",
        "    zoom_range=0.2,\n",
        "    horizontal_flip=True,\n",
        "    vertical_flip=True,\n",
        "    # preprocessing_function=upscale_image,\n",
        ")\n",
        "\n",
        "valdatagen = ImageDataGenerator(\n",
        ")\n",
        "\n",
        "# train_images = train_images.reshape(train_images.shape + (1,))\n",
        "train_datagen = traindatagen.flow(train_images, train_labels, batch_size=batch_size)\n",
        "# validation_images = validation_images.reshape(validation_images.shape + (1,))\n",
        "validation_datagen = valdatagen.flow(validation_images, validation_labels, batch_size=batch_size)\n",
        "# test_images = test_images.reshape(test_images.shape + (1,))\n",
        "test_datagen = valdatagen.flow(test_images, test_labels, batch_size=batch_size)"
      ],
      "metadata": {
        "id": "jwR2e_08OkUa"
      },
      "execution_count": 167,
      "outputs": []
    },
    {
      "cell_type": "code",
      "source": [
        "from tensorflow.keras.applications import ResNet50\n",
        "from tensorflow.keras.layers import GlobalAveragePooling2D, Dense\n",
        "from tensorflow.keras.models import Model\n",
        "\n",
        "# Load the pre-trained ResNet50 model\n",
        "base_model = ResNet50(weights='imagenet', include_top=False, input_shape=(224, 224, 3))\n",
        "\n",
        "# Freeze the layers of the base model\n",
        "for layer in base_model.layers:\n",
        "    layer.trainable = False\n",
        "\n",
        "x = base_model.output\n",
        "\n",
        "# Apply GlobalAveragePooling2D layer once\n",
        "x = GlobalAveragePooling2D()(x)\n",
        "\n",
        "# Add your fully connected layers\n",
        "# x = Dense(1024, activation='relu')(x)\n",
        "x = Dense(512, activation='relu')(x)\n",
        "\n",
        "# Create the output layer for binary classification (1 neuron, sigmoid activation)\n",
        "predictions = Dense(1, activation='sigmoid')(x)\n",
        "\n",
        "# Create the final model\n",
        "model = Model(inputs=base_model.input, outputs=predictions)\n",
        "\n",
        "model.compile(optimizer=Adam(learning_rate=0.001), loss=binary_crossentropy, metrics=['AUC'])\n",
        "\n",
        "\n",
        "early_stopper = tf.keras.callbacks.EarlyStopping(monitor = 'val_auc',\n",
        "                                                 mode = 'max',\n",
        "                                                 min_delta = 0.005,\n",
        "                                                 patience = 10,\n",
        "                                                 verbose = 1,\n",
        "                                                 restore_best_weights = True)\n",
        "\n",
        "model.fit(train_datagen, epochs=20, validation_data=validation_datagen, callbacks=[early_stopper])\n",
        "\n"
      ],
      "metadata": {
        "colab": {
          "base_uri": "https://localhost:8080/"
        },
        "id": "sahoHPjmOlow",
        "outputId": "ce1f4a5c-d921-45c9-e99a-bb86be9d214c"
      },
      "execution_count": 171,
      "outputs": [
        {
          "output_type": "stream",
          "name": "stdout",
          "text": [
            "Epoch 1/20\n"
          ]
        },
        {
          "output_type": "stream",
          "name": "stderr",
          "text": [
            "Exception ignored in: <function WeakKeyDictionary.__init__.<locals>.remove at 0x7d89d9facb80>\n",
            "Traceback (most recent call last):\n",
            "  File \"/usr/lib/python3.10/weakref.py\", line 370, in remove\n",
            "    def remove(k, selfref=ref(self)):\n",
            "KeyboardInterrupt: \n"
          ]
        },
        {
          "output_type": "stream",
          "name": "stdout",
          "text": [
            "10/10 [==============================] - 192s 9s/step - loss: 1.0047 - auc: 0.5456 - val_loss: 0.7121 - val_auc: 0.7000\n",
            "Epoch 2/20\n",
            "10/10 [==============================] - 88s 9s/step - loss: 0.7351 - auc: 0.5509 - val_loss: 0.8295 - val_auc: 0.6954\n",
            "Epoch 3/20\n",
            "10/10 [==============================] - 87s 9s/step - loss: 0.6948 - auc: 0.5497 - val_loss: 0.7262 - val_auc: 0.6744\n",
            "Epoch 4/20\n",
            "10/10 [==============================] - 88s 9s/step - loss: 0.6952 - auc: 0.5882 - val_loss: 0.6419 - val_auc: 0.6667\n",
            "Epoch 5/20\n",
            "10/10 [==============================] - 87s 9s/step - loss: 0.6894 - auc: 0.5575 - val_loss: 0.7069 - val_auc: 0.6713\n",
            "Epoch 6/20\n",
            "10/10 [==============================] - 85s 9s/step - loss: 0.6717 - auc: 0.6140 - val_loss: 0.6606 - val_auc: 0.6703\n",
            "Epoch 7/20\n",
            "10/10 [==============================] - 86s 9s/step - loss: 0.6332 - auc: 0.7090 - val_loss: 0.6610 - val_auc: 0.6764\n",
            "Epoch 8/20\n",
            "10/10 [==============================] - 87s 9s/step - loss: 0.6504 - auc: 0.6717 - val_loss: 0.6337 - val_auc: 0.6785\n",
            "Epoch 9/20\n",
            "10/10 [==============================] - 95s 10s/step - loss: 0.6745 - auc: 0.6334 - val_loss: 0.6130 - val_auc: 0.7026\n",
            "Epoch 10/20\n",
            "10/10 [==============================] - 87s 9s/step - loss: 0.6772 - auc: 0.6227 - val_loss: 0.6603 - val_auc: 0.7118\n",
            "Epoch 11/20\n",
            "10/10 [==============================] - 93s 9s/step - loss: 0.6908 - auc: 0.6005 - val_loss: 0.6714 - val_auc: 0.7062\n",
            "Epoch 12/20\n",
            "10/10 [==============================] - 79s 8s/step - loss: 0.6560 - auc: 0.6895 - val_loss: 0.6502 - val_auc: 0.7149\n",
            "Epoch 13/20\n",
            "10/10 [==============================] - 81s 8s/step - loss: 0.6463 - auc: 0.6852 - val_loss: 0.6034 - val_auc: 0.7123\n",
            "Epoch 14/20\n",
            "10/10 [==============================] - 86s 9s/step - loss: 0.6456 - auc: 0.6740 - val_loss: 0.6038 - val_auc: 0.7174\n",
            "Epoch 15/20\n",
            "10/10 [==============================] - 78s 8s/step - loss: 0.6665 - auc: 0.6327 - val_loss: 0.6632 - val_auc: 0.7221\n",
            "Epoch 16/20\n",
            "10/10 [==============================] - 86s 9s/step - loss: 0.6349 - auc: 0.7169 - val_loss: 0.6046 - val_auc: 0.7262\n",
            "Epoch 17/20\n",
            "10/10 [==============================] - 87s 9s/step - loss: 0.6347 - auc: 0.6910 - val_loss: 0.6597 - val_auc: 0.7292\n",
            "Epoch 18/20\n",
            "10/10 [==============================] - 85s 9s/step - loss: 0.6231 - auc: 0.7093 - val_loss: 0.6346 - val_auc: 0.7267\n",
            "Epoch 19/20\n",
            "10/10 [==============================] - 80s 8s/step - loss: 0.6536 - auc: 0.6636 - val_loss: 0.5920 - val_auc: 0.7374\n",
            "Epoch 20/20\n",
            "10/10 [==============================] - 85s 9s/step - loss: 0.6385 - auc: 0.6904 - val_loss: 0.5885 - val_auc: 0.7400\n"
          ]
        },
        {
          "output_type": "execute_result",
          "data": {
            "text/plain": [
              "<keras.src.callbacks.History at 0x7d89a14e24d0>"
            ]
          },
          "metadata": {},
          "execution_count": 171
        }
      ]
    },
    {
      "cell_type": "code",
      "source": [
        "test_loss, test_accuracy = model.evaluate(test_images, test_labels)\n",
        "model.save('resnet1.h5')"
      ],
      "metadata": {
        "colab": {
          "base_uri": "https://localhost:8080/"
        },
        "id": "1jyOGGwORiJZ",
        "outputId": "b580460a-374d-4e29-e571-8a5aa6b956fd"
      },
      "execution_count": 174,
      "outputs": [
        {
          "output_type": "stream",
          "name": "stdout",
          "text": [
            "3/3 [==============================] - 42s 11s/step - loss: 0.7250 - auc: 0.8017\n"
          ]
        },
        {
          "output_type": "stream",
          "name": "stderr",
          "text": [
            "/usr/local/lib/python3.10/dist-packages/keras/src/engine/training.py:3000: UserWarning: You are saving your model as an HDF5 file via `model.save()`. This file format is considered legacy. We recommend using instead the native Keras format, e.g. `model.save('my_model.keras')`.\n",
            "  saving_api.save_model(\n"
          ]
        }
      ]
    },
    {
      "cell_type": "markdown",
      "source": [
        "## Machine learning"
      ],
      "metadata": {
        "id": "onhoLhrm6uLS"
      }
    },
    {
      "cell_type": "code",
      "source": [
        "!pip install xgboost\n",
        "!pip install catboost"
      ],
      "metadata": {
        "colab": {
          "base_uri": "https://localhost:8080/"
        },
        "id": "TLoNDsqz8hl3",
        "outputId": "65276a9f-f542-44f3-8c66-eae0a6dbba44"
      },
      "execution_count": 233,
      "outputs": [
        {
          "output_type": "stream",
          "name": "stdout",
          "text": [
            "Requirement already satisfied: xgboost in /usr/local/lib/python3.10/dist-packages (2.0.0)\n",
            "Requirement already satisfied: numpy in /usr/local/lib/python3.10/dist-packages (from xgboost) (1.23.5)\n",
            "Requirement already satisfied: scipy in /usr/local/lib/python3.10/dist-packages (from xgboost) (1.11.3)\n",
            "Collecting catboost\n",
            "  Downloading catboost-1.2.2-cp310-cp310-manylinux2014_x86_64.whl (98.7 MB)\n",
            "\u001b[2K     \u001b[90m━━━━━━━━━━━━━━━━━━━━━━━━━━━━━━━━━━━━━━━━\u001b[0m \u001b[32m98.7/98.7 MB\u001b[0m \u001b[31m5.5 MB/s\u001b[0m eta \u001b[36m0:00:00\u001b[0m\n",
            "\u001b[?25hRequirement already satisfied: graphviz in /usr/local/lib/python3.10/dist-packages (from catboost) (0.20.1)\n",
            "Requirement already satisfied: matplotlib in /usr/local/lib/python3.10/dist-packages (from catboost) (3.7.1)\n",
            "Requirement already satisfied: numpy>=1.16.0 in /usr/local/lib/python3.10/dist-packages (from catboost) (1.23.5)\n",
            "Requirement already satisfied: pandas>=0.24 in /usr/local/lib/python3.10/dist-packages (from catboost) (1.5.3)\n",
            "Requirement already satisfied: scipy in /usr/local/lib/python3.10/dist-packages (from catboost) (1.11.3)\n",
            "Requirement already satisfied: plotly in /usr/local/lib/python3.10/dist-packages (from catboost) (5.15.0)\n",
            "Requirement already satisfied: six in /usr/local/lib/python3.10/dist-packages (from catboost) (1.16.0)\n",
            "Requirement already satisfied: python-dateutil>=2.8.1 in /usr/local/lib/python3.10/dist-packages (from pandas>=0.24->catboost) (2.8.2)\n",
            "Requirement already satisfied: pytz>=2020.1 in /usr/local/lib/python3.10/dist-packages (from pandas>=0.24->catboost) (2023.3.post1)\n",
            "Requirement already satisfied: contourpy>=1.0.1 in /usr/local/lib/python3.10/dist-packages (from matplotlib->catboost) (1.1.1)\n",
            "Requirement already satisfied: cycler>=0.10 in /usr/local/lib/python3.10/dist-packages (from matplotlib->catboost) (0.12.0)\n",
            "Requirement already satisfied: fonttools>=4.22.0 in /usr/local/lib/python3.10/dist-packages (from matplotlib->catboost) (4.43.1)\n",
            "Requirement already satisfied: kiwisolver>=1.0.1 in /usr/local/lib/python3.10/dist-packages (from matplotlib->catboost) (1.4.5)\n",
            "Requirement already satisfied: packaging>=20.0 in /usr/local/lib/python3.10/dist-packages (from matplotlib->catboost) (23.2)\n",
            "Requirement already satisfied: pillow>=6.2.0 in /usr/local/lib/python3.10/dist-packages (from matplotlib->catboost) (9.4.0)\n",
            "Requirement already satisfied: pyparsing>=2.3.1 in /usr/local/lib/python3.10/dist-packages (from matplotlib->catboost) (3.1.1)\n",
            "Requirement already satisfied: tenacity>=6.2.0 in /usr/local/lib/python3.10/dist-packages (from plotly->catboost) (8.2.3)\n",
            "Installing collected packages: catboost\n",
            "Successfully installed catboost-1.2.2\n"
          ]
        }
      ]
    },
    {
      "cell_type": "code",
      "source": [
        "train_df, test_df = train_test_split(df, test_size=0.2, random_state=42)\n",
        "\n",
        "train_images = []\n",
        "train_labels = []\n",
        "\n",
        "for index, row in train_df.iterrows():\n",
        "    image = Image.open(row['path'])\n",
        "    image = np.array(image) #/ 255.0  # Rescale pixel values to [0, 1]\n",
        "    train_images.append(image)\n",
        "    train_labels.append(row['plume'])\n",
        "\n",
        "train_images = np.array(train_images)\n",
        "data_train = train_images.reshape(train_images.shape[0], -1)\n",
        "\n",
        "train_labels = np.array(train_labels)\n",
        "label_mapping = {'yes': 1, 'no': 0}\n",
        "train_labels = np.vectorize(label_mapping.get)(train_labels)\n",
        "train_labels = train_labels.reshape(-1, 1)\n",
        "\n",
        "test_images = []  # Load and prdeprocess test images similarly\n",
        "test_labels = []\n",
        "\n",
        "for index, row in test_df.iterrows():\n",
        "    image = Image.open(row['path'])\n",
        "    image = np.array(image) #/ 255.0  # Rescale pixel values to [0, 1]\n",
        "    test_images.append(image)\n",
        "    test_labels.append(row['plume'])\n",
        "\n",
        "test_images = np.array(test_images)\n",
        "data_test = test_images.reshape(test_images.shape[0], -1)\n",
        "\n",
        "test_labels = np.array(test_labels)\n",
        "label_mapping = {'yes': 1, 'no': 0}\n",
        "test_labels = np.vectorize(label_mapping.get)(test_labels)\n",
        "test_labels = test_labels.reshape(-1, 1)\n",
        "\n",
        "# histograms_train = []\n",
        "\n",
        "# # Calculate histograms for each image\n",
        "# for image in data_train:\n",
        "#     hist, _ = np.histogram(image, bins=256, range=(0, 256))\n",
        "#     histograms_train.append(hist)\n",
        "\n",
        "# # Convert the list of histograms to a NumPy array\n",
        "# histograms_train = np.array(histograms_train)\n",
        "\n",
        "# histograms_test = []\n",
        "\n",
        "# # Calculate histograms for each image\n",
        "# for image in data_test:\n",
        "#     hist, _ = np.histogram(image, bins=256, range=(0, 256))\n",
        "#     histograms_test.append(hist)\n",
        "\n",
        "# # Convert the list of histograms to a NumPy array\n",
        "# histograms_test = np.array(histograms_test)"
      ],
      "metadata": {
        "id": "IheU5Dkt-ZmU"
      },
      "execution_count": 263,
      "outputs": []
    },
    {
      "cell_type": "code",
      "source": [
        "np.max(train_images)"
      ],
      "metadata": {
        "colab": {
          "base_uri": "https://localhost:8080/"
        },
        "id": "6MWXWK3DRYiQ",
        "outputId": "27c0a754-4282-45df-cc58-70ddf2a608de"
      },
      "execution_count": 286,
      "outputs": [
        {
          "output_type": "execute_result",
          "data": {
            "text/plain": [
              "array([76, 14, 17])"
            ]
          },
          "metadata": {},
          "execution_count": 286
        }
      ]
    },
    {
      "cell_type": "code",
      "source": [
        "which_one = -13\n",
        "print(test_labels[which_one])\n",
        "studied = test_images[which_one]\n",
        "print\n",
        "\n",
        "# Define the threshold\n",
        "threshold = 65000\n",
        "\n",
        "# Count the number of values above the threshold\n",
        "count = np.sum(studied > threshold)\n",
        "print(count)\n",
        "\n",
        "plt.imshow(test_images[which_one], cmap='gray', vmin=0, vmax=65535)\n",
        "plt.axis('off')  # Turn off axis labels\n",
        "plt.show()\n"
      ],
      "metadata": {
        "colab": {
          "base_uri": "https://localhost:8080/",
          "height": 406
        },
        "id": "xX6fFpdlS5y6",
        "outputId": "f01e93bb-624f-42f0-c8d7-9f37dad0250c"
      },
      "execution_count": 288,
      "outputs": [
        {
          "output_type": "display_data",
          "data": {
            "text/plain": [
              "<Figure size 640x480 with 1 Axes>"
            ],
            "image/png": "[encoded data removed]"
          },
          "metadata": {}
        }
      ]
    },
    {
      "cell_type": "code",
      "source": [],
      "metadata": {
        "colab": {
          "base_uri": "https://localhost:8080/"
        },
        "id": "vAdVGPDUTRs4",
        "outputId": "da1e836a-d4da-4a26-a1c5-f694d061748d"
      },
      "execution_count": 320,
      "outputs": [
        {
          "output_type": "stream",
          "name": "stdout",
          "text": [
            "[0]\n",
            "0\n"
          ]
        }
      ]
    },
    {
      "cell_type": "code",
      "source": [
        "import xgboost as xgb\n",
        "import catboost\n",
        "\n",
        "model = xgb.XGBClassifier()\n",
        "# model = catboost.CatBoostClassifier(verbose=False)\n",
        "\n",
        "# Train the model on the training data\n",
        "model.fit(histograms_train, train_labels)\n",
        "\n",
        "# Make predictions on the testing data\n",
        "y_pred = model.predict(histograms_test)\n",
        "\n",
        "# Evaluate the model's performance\n",
        "from sklearn.metrics import accuracy_score, classification_report, confusion_matrix\n",
        "\n",
        "accuracy = accuracy_score(test_labels, y_pred)\n",
        "report = classification_report(test_labels, y_pred)\n",
        "confusion = confusion_matrix(test_labels, y_pred)\n",
        "\n",
        "print(\"Accuracy:\", accuracy)\n",
        "\n"
      ],
      "metadata": {
        "colab": {
          "base_uri": "https://localhost:8080/"
        },
        "id": "wl2YMFHA7sOx",
        "outputId": "6c860508-0e8b-41f7-bd77-317b85fc1506"
      },
      "execution_count": 237,
      "outputs": [
        {
          "output_type": "stream",
          "name": "stdout",
          "text": [
            "Accuracy: 0.7441860465116279\n"
          ]
        }
      ]
    },
    {
      "cell_type": "code",
      "source": [
        "threshold = 65500\n",
        "\n",
        "def model_predict(data):\n",
        "  predictions = []\n",
        "  for i in data:\n",
        "    if np.max(i) > threshold:\n",
        "      count+=1\n",
        "      predictions.append(1)\n",
        "    else:\n",
        "      predictions.append(0)\n",
        "  return np.array(predictions), i\n",
        "\n",
        "y_pred, i = model_predict(data_test)"
      ],
      "metadata": {
        "id": "MH_ZqyZe-CpH"
      },
      "execution_count": 325,
      "outputs": []
    },
    {
      "cell_type": "code",
      "source": [
        "accuracy = accuracy_score(test_labels, y_pred)\n",
        "report = classification_report(test_labels, y_pred)\n",
        "confusion = confusion_matrix(test_labels, y_pred)\n",
        "\n",
        "print(\"Accuracy:\", accuracy)\n"
      ],
      "metadata": {
        "colab": {
          "base_uri": "https://localhost:8080/"
        },
        "id": "qimhGiMXPMPC",
        "outputId": "6088348b-fb99-48d2-88d0-1233e83baa0f"
      },
      "execution_count": 324,
      "outputs": [
        {
          "output_type": "stream",
          "name": "stdout",
          "text": [
            "Accuracy: 0.5930232558139535\n"
          ]
        },
        {
          "output_type": "stream",
          "name": "stderr",
          "text": [
            "/usr/local/lib/python3.10/dist-packages/sklearn/metrics/_classification.py:1344: UndefinedMetricWarning: Precision and F-score are ill-defined and being set to 0.0 in labels with no predicted samples. Use `zero_division` parameter to control this behavior.\n",
            "  _warn_prf(average, modifier, msg_start, len(result))\n",
            "/usr/local/lib/python3.10/dist-packages/sklearn/metrics/_classification.py:1344: UndefinedMetricWarning: Precision and F-score are ill-defined and being set to 0.0 in labels with no predicted samples. Use `zero_division` parameter to control this behavior.\n",
            "  _warn_prf(average, modifier, msg_start, len(result))\n",
            "/usr/local/lib/python3.10/dist-packages/sklearn/metrics/_classification.py:1344: UndefinedMetricWarning: Precision and F-score are ill-defined and being set to 0.0 in labels with no predicted samples. Use `zero_division` parameter to control this behavior.\n",
            "  _warn_prf(average, modifier, msg_start, len(result))\n"
          ]
        }
      ]
    },
    {
      "cell_type": "code",
      "source": [
        "import numpy as np\n",
        "\n",
        "# Sample 2D NumPy array\n",
        "data = np.array([[1, 2, 3],\n",
        "                 [4, 5, 6],\n",
        "                 [7, 8, 9],\n",
        "                 [76, 14, 17]])\n",
        "\n",
        "threshold = 6  # Define the threshold\n",
        "print(data.shape)\n",
        "\n",
        "# Initialize an empty list to store the results\n",
        "results = []\n",
        "\n",
        "# Iterate over the first dimension (rows) of the array\n",
        "for row in data:\n",
        "    # Check if the maximum value in the row is greater than the threshold\n",
        "    if np.max(row) > threshold:\n",
        "        results.append(True)\n",
        "    else:\n",
        "        results.append(False)\n",
        "\n",
        "# Convert the results list to a NumPy array\n",
        "results = np.array(results)\n",
        "\n",
        "print(\"Results:\", results)\n"
      ],
      "metadata": {
        "colab": {
          "base_uri": "https://localhost:8080/"
        },
        "id": "71kyB4dMSI0v",
        "outputId": "1b73e370-9807-4702-ed0c-de629870f1e9"
      },
      "execution_count": 284,
      "outputs": [
        {
          "output_type": "stream",
          "name": "stdout",
          "text": [
            "(4, 3)\n",
            "Results: [False False  True  True]\n"
          ]
        }
      ]
    },
    {
      "cell_type": "code",
      "source": [],
      "metadata": {
        "id": "o8j7o3CnPTKo"
      },
      "execution_count": null,
      "outputs": []
    }
  ]
}