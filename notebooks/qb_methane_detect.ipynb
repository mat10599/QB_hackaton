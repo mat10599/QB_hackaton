{
  "cells": [
    {
      "cell_type": "code",
      "execution_count": 1,
      "metadata": {
        "id": "cVyW-hLt_-No"
      },
      "outputs": [],
      "source": [
        "import pandas as pd\n",
        "from PIL import Image\n",
        "from sklearn.model_selection import train_test_split\n",
        "import torch\n",
        "from torchvision import transforms\n",
        "from torch.utils.data import DataLoader, Dataset\n",
        "import torch.nn as nn\n",
        "import torchvision.models as models\n",
        "from tqdm import tqdm\n",
        "from torchvision import transforms\n",
        "from sklearn.metrics import roc_auc_score"
      ]
    },
    {
      "cell_type": "code",
      "execution_count": 2,
      "metadata": {
        "colab": {
          "base_uri": "https://localhost:8080/"
        },
        "id": "tEhk33oEA_kt",
        "outputId": "2b1db56d-145b-41b9-dbe8-2d3002a112df"
      },
      "outputs": [
        {
          "name": "stdout",
          "output_type": "stream",
          "text": [
            "Drive already mounted at /content/drive; to attempt to forcibly remount, call drive.mount(\"/content/drive\", force_remount=True).\n"
          ]
        }
      ],
      "source": [
        "from google.colab import drive\n",
        "drive.mount('/content/drive')"
      ]
    },
    {
      "cell_type": "code",
      "execution_count": 34,
      "metadata": {
        "colab": {
          "base_uri": "https://localhost:8080/",
          "height": 206
        },
        "id": "CENeg6go_-Np",
        "outputId": "7d3418d5-58d9-46c8-c048-7618bfb4e823"
      },
      "outputs": [
        {
          "data": {
            "text/html": [
              "\n",
              "  <div id=\"df-90b66ecb-845c-4379-ace3-76bc147b6028\" class=\"colab-df-container\">\n",
              "    <div>\n",
              "<style scoped>\n",
              "    .dataframe tbody tr th:only-of-type {\n",
              "        vertical-align: middle;\n",
              "    }\n",
              "\n",
              "    .dataframe tbody tr th {\n",
              "        vertical-align: top;\n",
              "    }\n",
              "\n",
              "    .dataframe thead th {\n",
              "        text-align: right;\n",
              "    }\n",
              "</style>\n",
              "<table border=\"1\" class=\"dataframe\">\n",
              "  <thead>\n",
              "    <tr style=\"text-align: right;\">\n",
              "      <th></th>\n",
              "      <th>date</th>\n",
              "      <th>id_coord</th>\n",
              "      <th>plume</th>\n",
              "      <th>set</th>\n",
              "      <th>lat</th>\n",
              "      <th>lon</th>\n",
              "      <th>coord_x</th>\n",
              "      <th>coord_y</th>\n",
              "      <th>path</th>\n",
              "    </tr>\n",
              "  </thead>\n",
              "  <tbody>\n",
              "    <tr>\n",
              "      <th>0</th>\n",
              "      <td>20230223</td>\n",
              "      <td>id_6675</td>\n",
              "      <td>yes</td>\n",
              "      <td>train</td>\n",
              "      <td>31.528750</td>\n",
              "      <td>74.330625</td>\n",
              "      <td>24</td>\n",
              "      <td>47</td>\n",
              "      <td>images/plume/20230223_methane_mixing_ratio_id_...</td>\n",
              "    </tr>\n",
              "    <tr>\n",
              "      <th>1</th>\n",
              "      <td>20230103</td>\n",
              "      <td>id_2542</td>\n",
              "      <td>yes</td>\n",
              "      <td>train</td>\n",
              "      <td>35.538000</td>\n",
              "      <td>112.524000</td>\n",
              "      <td>42</td>\n",
              "      <td>37</td>\n",
              "      <td>images/plume/20230103_methane_mixing_ratio_id_...</td>\n",
              "    </tr>\n",
              "    <tr>\n",
              "      <th>2</th>\n",
              "      <td>20230301</td>\n",
              "      <td>id_6546</td>\n",
              "      <td>yes</td>\n",
              "      <td>train</td>\n",
              "      <td>21.060000</td>\n",
              "      <td>84.936667</td>\n",
              "      <td>58</td>\n",
              "      <td>15</td>\n",
              "      <td>images/plume/20230301_methane_mixing_ratio_id_...</td>\n",
              "    </tr>\n",
              "    <tr>\n",
              "      <th>3</th>\n",
              "      <td>20230225</td>\n",
              "      <td>id_6084</td>\n",
              "      <td>yes</td>\n",
              "      <td>train</td>\n",
              "      <td>26.756667</td>\n",
              "      <td>80.973333</td>\n",
              "      <td>28</td>\n",
              "      <td>62</td>\n",
              "      <td>images/plume/20230225_methane_mixing_ratio_id_...</td>\n",
              "    </tr>\n",
              "    <tr>\n",
              "      <th>4</th>\n",
              "      <td>20230105</td>\n",
              "      <td>id_2012</td>\n",
              "      <td>yes</td>\n",
              "      <td>train</td>\n",
              "      <td>34.800000</td>\n",
              "      <td>40.770000</td>\n",
              "      <td>59</td>\n",
              "      <td>44</td>\n",
              "      <td>images/plume/20230105_methane_mixing_ratio_id_...</td>\n",
              "    </tr>\n",
              "  </tbody>\n",
              "</table>\n",
              "</div>\n",
              "    <div class=\"colab-df-buttons\">\n",
              "\n",
              "  <div class=\"colab-df-container\">\n",
              "    <button class=\"colab-df-convert\" onclick=\"convertToInteractive('df-90b66ecb-845c-4379-ace3-76bc147b6028')\"\n",
              "            title=\"Convert this dataframe to an interactive table.\"\n",
              "            style=\"display:none;\">\n",
              "\n",
              "  <svg xmlns=\"http://www.w3.org/2000/svg\" height=\"24px\" viewBox=\"0 -960 960 960\">\n",
              "    <path d=\"M120-120v-720h720v720H120Zm60-500h600v-160H180v160Zm220 220h160v-160H400v160Zm0 220h160v-160H400v160ZM180-400h160v-160H180v160Zm440 0h160v-160H620v160ZM180-180h160v-160H180v160Zm440 0h160v-160H620v160Z\"/>\n",
              "  </svg>\n",
              "    </button>\n",
              "\n",
              "  <style>\n",
              "    .colab-df-container {\n",
              "      display:flex;\n",
              "      gap: 12px;\n",
              "    }\n",
              "\n",
              "    .colab-df-convert {\n",
              "      background-color: #E8F0FE;\n",
              "      border: none;\n",
              "      border-radius: 50%;\n",
              "      cursor: pointer;\n",
              "      display: none;\n",
              "      fill: #1967D2;\n",
              "      height: 32px;\n",
              "      padding: 0 0 0 0;\n",
              "      width: 32px;\n",
              "    }\n",
              "\n",
              "    .colab-df-convert:hover {\n",
              "      background-color: #E2EBFA;\n",
              "      box-shadow: 0px 1px 2px rgba(60, 64, 67, 0.3), 0px 1px 3px 1px rgba(60, 64, 67, 0.15);\n",
              "      fill: #174EA6;\n",
              "    }\n",
              "\n",
              "    .colab-df-buttons div {\n",
              "      margin-bottom: 4px;\n",
              "    }\n",
              "\n",
              "    [theme=dark] .colab-df-convert {\n",
              "      background-color: #3B4455;\n",
              "      fill: #D2E3FC;\n",
              "    }\n",
              "\n",
              "    [theme=dark] .colab-df-convert:hover {\n",
              "      background-color: #434B5C;\n",
              "      box-shadow: 0px 1px 3px 1px rgba(0, 0, 0, 0.15);\n",
              "      filter: drop-shadow(0px 1px 2px rgba(0, 0, 0, 0.3));\n",
              "      fill: #FFFFFF;\n",
              "    }\n",
              "  </style>\n",
              "\n",
              "    <script>\n",
              "      const buttonEl =\n",
              "        document.querySelector('#df-90b66ecb-845c-4379-ace3-76bc147b6028 button.colab-df-convert');\n",
              "      buttonEl.style.display =\n",
              "        google.colab.kernel.accessAllowed ? 'block' : 'none';\n",
              "\n",
              "      async function convertToInteractive(key) {\n",
              "        const element = document.querySelector('#df-90b66ecb-845c-4379-ace3-76bc147b6028');\n",
              "        const dataTable =\n",
              "          await google.colab.kernel.invokeFunction('convertToInteractive',\n",
              "                                                    [key], {});\n",
              "        if (!dataTable) return;\n",
              "\n",
              "        const docLinkHtml = 'Like what you see? Visit the ' +\n",
              "          '<a target=\"_blank\" href=https://colab.research.google.com/notebooks/data_table.ipynb>data table notebook</a>'\n",
              "          + ' to learn more about interactive tables.';\n",
              "        element.innerHTML = '';\n",
              "        dataTable['output_type'] = 'display_data';\n",
              "        await google.colab.output.renderOutput(dataTable, element);\n",
              "        const docLink = document.createElement('div');\n",
              "        docLink.innerHTML = docLinkHtml;\n",
              "        element.appendChild(docLink);\n",
              "      }\n",
              "    </script>\n",
              "  </div>\n",
              "\n",
              "\n",
              "<div id=\"df-10bde682-0103-4130-8311-6c7f837576d3\">\n",
              "  <button class=\"colab-df-quickchart\" onclick=\"quickchart('df-10bde682-0103-4130-8311-6c7f837576d3')\"\n",
              "            title=\"Suggest charts.\"\n",
              "            style=\"display:none;\">\n",
              "\n",
              "<svg xmlns=\"http://www.w3.org/2000/svg\" height=\"24px\"viewBox=\"0 0 24 24\"\n",
              "     width=\"24px\">\n",
              "    <g>\n",
              "        <path d=\"M19 3H5c-1.1 0-2 .9-2 2v14c0 1.1.9 2 2 2h14c1.1 0 2-.9 2-2V5c0-1.1-.9-2-2-2zM9 17H7v-7h2v7zm4 0h-2V7h2v10zm4 0h-2v-4h2v4z\"/>\n",
              "    </g>\n",
              "</svg>\n",
              "  </button>\n",
              "\n",
              "<style>\n",
              "  .colab-df-quickchart {\n",
              "      --bg-color: #E8F0FE;\n",
              "      --fill-color: #1967D2;\n",
              "      --hover-bg-color: #E2EBFA;\n",
              "      --hover-fill-color: #174EA6;\n",
              "      --disabled-fill-color: #AAA;\n",
              "      --disabled-bg-color: #DDD;\n",
              "  }\n",
              "\n",
              "  [theme=dark] .colab-df-quickchart {\n",
              "      --bg-color: #3B4455;\n",
              "      --fill-color: #D2E3FC;\n",
              "      --hover-bg-color: #434B5C;\n",
              "      --hover-fill-color: #FFFFFF;\n",
              "      --disabled-bg-color: #3B4455;\n",
              "      --disabled-fill-color: #666;\n",
              "  }\n",
              "\n",
              "  .colab-df-quickchart {\n",
              "    background-color: var(--bg-color);\n",
              "    border: none;\n",
              "    border-radius: 50%;\n",
              "    cursor: pointer;\n",
              "    display: none;\n",
              "    fill: var(--fill-color);\n",
              "    height: 32px;\n",
              "    padding: 0;\n",
              "    width: 32px;\n",
              "  }\n",
              "\n",
              "  .colab-df-quickchart:hover {\n",
              "    background-color: var(--hover-bg-color);\n",
              "    box-shadow: 0 1px 2px rgba(60, 64, 67, 0.3), 0 1px 3px 1px rgba(60, 64, 67, 0.15);\n",
              "    fill: var(--button-hover-fill-color);\n",
              "  }\n",
              "\n",
              "  .colab-df-quickchart-complete:disabled,\n",
              "  .colab-df-quickchart-complete:disabled:hover {\n",
              "    background-color: var(--disabled-bg-color);\n",
              "    fill: var(--disabled-fill-color);\n",
              "    box-shadow: none;\n",
              "  }\n",
              "\n",
              "  .colab-df-spinner {\n",
              "    border: 2px solid var(--fill-color);\n",
              "    border-color: transparent;\n",
              "    border-bottom-color: var(--fill-color);\n",
              "    animation:\n",
              "      spin 1s steps(1) infinite;\n",
              "  }\n",
              "\n",
              "  @keyframes spin {\n",
              "    0% {\n",
              "      border-color: transparent;\n",
              "      border-bottom-color: var(--fill-color);\n",
              "      border-left-color: var(--fill-color);\n",
              "    }\n",
              "    20% {\n",
              "      border-color: transparent;\n",
              "      border-left-color: var(--fill-color);\n",
              "      border-top-color: var(--fill-color);\n",
              "    }\n",
              "    30% {\n",
              "      border-color: transparent;\n",
              "      border-left-color: var(--fill-color);\n",
              "      border-top-color: var(--fill-color);\n",
              "      border-right-color: var(--fill-color);\n",
              "    }\n",
              "    40% {\n",
              "      border-color: transparent;\n",
              "      border-right-color: var(--fill-color);\n",
              "      border-top-color: var(--fill-color);\n",
              "    }\n",
              "    60% {\n",
              "      border-color: transparent;\n",
              "      border-right-color: var(--fill-color);\n",
              "    }\n",
              "    80% {\n",
              "      border-color: transparent;\n",
              "      border-right-color: var(--fill-color);\n",
              "      border-bottom-color: var(--fill-color);\n",
              "    }\n",
              "    90% {\n",
              "      border-color: transparent;\n",
              "      border-bottom-color: var(--fill-color);\n",
              "    }\n",
              "  }\n",
              "</style>\n",
              "\n",
              "  <script>\n",
              "    async function quickchart(key) {\n",
              "      const quickchartButtonEl =\n",
              "        document.querySelector('#' + key + ' button');\n",
              "      quickchartButtonEl.disabled = true;  // To prevent multiple clicks.\n",
              "      quickchartButtonEl.classList.add('colab-df-spinner');\n",
              "      try {\n",
              "        const charts = await google.colab.kernel.invokeFunction(\n",
              "            'suggestCharts', [key], {});\n",
              "      } catch (error) {\n",
              "        console.error('Error during call to suggestCharts:', error);\n",
              "      }\n",
              "      quickchartButtonEl.classList.remove('colab-df-spinner');\n",
              "      quickchartButtonEl.classList.add('colab-df-quickchart-complete');\n",
              "    }\n",
              "    (() => {\n",
              "      let quickchartButtonEl =\n",
              "        document.querySelector('#df-10bde682-0103-4130-8311-6c7f837576d3 button');\n",
              "      quickchartButtonEl.style.display =\n",
              "        google.colab.kernel.accessAllowed ? 'block' : 'none';\n",
              "    })();\n",
              "  </script>\n",
              "</div>\n",
              "    </div>\n",
              "  </div>\n"
            ],
            "text/plain": [
              "       date id_coord plume    set        lat         lon  coord_x  coord_y  \\\n",
              "0  20230223  id_6675   yes  train  31.528750   74.330625       24       47   \n",
              "1  20230103  id_2542   yes  train  35.538000  112.524000       42       37   \n",
              "2  20230301  id_6546   yes  train  21.060000   84.936667       58       15   \n",
              "3  20230225  id_6084   yes  train  26.756667   80.973333       28       62   \n",
              "4  20230105  id_2012   yes  train  34.800000   40.770000       59       44   \n",
              "\n",
              "                                                path  \n",
              "0  images/plume/20230223_methane_mixing_ratio_id_...  \n",
              "1  images/plume/20230103_methane_mixing_ratio_id_...  \n",
              "2  images/plume/20230301_methane_mixing_ratio_id_...  \n",
              "3  images/plume/20230225_methane_mixing_ratio_id_...  \n",
              "4  images/plume/20230105_methane_mixing_ratio_id_...  "
            ]
          },
          "execution_count": 34,
          "metadata": {},
          "output_type": "execute_result"
        }
      ],
      "source": [
        "# Load the data\n",
        "df = pd.read_csv('/content/drive/My Drive/data/train data/metadata.csv')\n",
        "df.head()"
      ]
    },
    {
      "cell_type": "code",
      "execution_count": 35,
      "metadata": {
        "id": "1yIzDTUK_-Np"
      },
      "outputs": [],
      "source": [
        "# Split the data\n",
        "train_df, valid_df = train_test_split(df, train_size =0.8, test_size=0.2, random_state=42)"
      ]
    },
    {
      "cell_type": "code",
      "execution_count": 36,
      "metadata": {
        "id": "6QkRB9hlsiZH"
      },
      "outputs": [],
      "source": [
        "# extract file names from path\n",
        "train_df['new_path'] = train_df['path'].str.replace(r'images/(plume|no_plume)/', '', regex=True) + \".tif\"\n",
        "valid_df['new_path'] = valid_df['path'].str.replace(r'images/(plume|no_plume)/', '', regex=True) + \".tif\""
      ]
    },
    {
      "cell_type": "code",
      "execution_count": 37,
      "metadata": {
        "id": "rKVB-yjtp8u3"
      },
      "outputs": [],
      "source": [
        "#For each train and validation datasets seggregate data into separate folders based on plume or no plume\n",
        "import os\n",
        "import random\n",
        "import shutil\n",
        "\n",
        "# Set up paths\n",
        "data_dir = '/content/drive/My Drive/data/train data/images'\n",
        "train_dir= 'train'\n",
        "val_dir = 'validation'\n",
        "\n",
        "plume_dir = 'plume'\n",
        "no_plume_dir = 'no_plume'\n",
        "\n",
        "# Create validation directories\n",
        "os.makedirs(os.path.join(train_dir, plume_dir), exist_ok=True)\n",
        "os.makedirs(os.path.join(train_dir, no_plume_dir), exist_ok=True)\n",
        "os.makedirs(os.path.join(val_dir, plume_dir), exist_ok=True)\n",
        "os.makedirs(os.path.join(val_dir, no_plume_dir), exist_ok=True)\n",
        "\n",
        "for index, row in train_df.iterrows():\n",
        "    image_file = row['new_path']\n",
        "    is_plume = row['plume']\n",
        "\n",
        "    if is_plume == 'yes':\n",
        "      if not os.path.exists(os.path.join(train_dir, plume_dir, image_file)):\n",
        "        shutil.move(os.path.join(data_dir, plume_dir, image_file),\n",
        "                os.path.join(train_dir, plume_dir))\n",
        "    else:\n",
        "      if not os.path.exists(os.path.join(train_dir, no_plume_dir, image_file)):\n",
        "        shutil.move(os.path.join(data_dir, no_plume_dir, image_file),\n",
        "                os.path.join(train_dir, no_plume_dir))\n",
        "\n",
        "for index, row in valid_df.iterrows():\n",
        "    image_file = row['new_path']\n",
        "    is_plume = row['plume']\n",
        "\n",
        "    if is_plume == 'yes':\n",
        "      if not os.path.exists(os.path.join(val_dir, plume_dir, image_file)):\n",
        "        shutil.move(os.path.join(data_dir, plume_dir, image_file),\n",
        "                os.path.join(val_dir, plume_dir))\n",
        "    else:\n",
        "      if not os.path.exists(os.path.join(val_dir, no_plume_dir, image_file)):\n",
        "        shutil.move(os.path.join(data_dir, no_plume_dir, image_file),\n",
        "                os.path.join(val_dir, no_plume_dir))\n"
      ]
    },
    {
      "cell_type": "code",
      "execution_count": 38,
      "metadata": {
        "id": "In1ohH-hyw6P"
      },
      "outputs": [],
      "source": [
        "class CustomDataset(Dataset):\n",
        "    def __init__(self, root_dir, augment=False):\n",
        "        self.root_dir = root_dir\n",
        "        self.augment = augment\n",
        "        self.image_list = []\n",
        "        self.labels = []\n",
        "        self.augmented_images = []\n",
        "\n",
        "        plume_images = []\n",
        "        no_plume_images = []\n",
        "\n",
        "        classes = os.listdir(root_dir)\n",
        "        for class_name in classes:\n",
        "            class_dir = os.path.join(root_dir, class_name)\n",
        "            if os.path.isdir(class_dir):\n",
        "                image_names = os.listdir(class_dir)\n",
        "                tiff_image_names = [img_name for img_name in image_names if img_name.lower().endswith('.tiff') or img_name.lower().endswith('.tif')]\n",
        "\n",
        "                if class_name == 'plume':\n",
        "                    plume_images.extend([os.path.join(class_dir, img_name) for img_name in tiff_image_names])\n",
        "                else:\n",
        "                    no_plume_images.extend([os.path.join(class_dir, img_name) for img_name in tiff_image_names])\n",
        "\n",
        "                self.labels.extend([1 if class_name == 'plume' else 0] * len(tiff_image_names))\n",
        "\n",
        "        # Calculate the number of images in each class\n",
        "        num_images = min(len(plume_images), len(no_plume_images))\n",
        "\n",
        "        if augment:\n",
        "            augmented_images = []\n",
        "            for _ in range(num_images):\n",
        "                # Randomly select plume and no plume images\n",
        "                plume_image_path = random.choice(plume_images)\n",
        "                no_plume_image_path = random.choice(no_plume_images)\n",
        "\n",
        "                # Load and augment plume image\n",
        "                plume_image = Image.open(plume_image_path)\n",
        "                plume_image = plume_image.resize((64, 64))  # Resize to 64x64\n",
        "                transform = transforms.Compose([\n",
        "                    transforms.RandomHorizontalFlip(),\n",
        "                    transforms.RandomRotation(10),\n",
        "                    transforms.ToTensor()\n",
        "                ])\n",
        "                augmented_plume_image = transform(plume_image)\n",
        "                augmented_images.append(augmented_plume_image)\n",
        "\n",
        "                # Load and augment no plume image\n",
        "                no_plume_image = Image.open(no_plume_image_path)\n",
        "                no_plume_image = no_plume_image.resize((64, 64))  # Resize to 64x64\n",
        "                augmented_no_plume_image = transform(no_plume_image)\n",
        "                augmented_images.append(augmented_no_plume_image)\n",
        "\n",
        "            self.augmented_images = augmented_images\n",
        "\n",
        "        self.image_list = plume_images[:num_images] + no_plume_images[:num_images]\n",
        "        self.labels = [1] * num_images + [0] * num_images\n",
        "\n",
        "        if augment:\n",
        "            num_augmented_images = len(self.augmented_images)\n",
        "            self.image_list.extend(self.augmented_images)\n",
        "            self.labels.extend(self.labels[:num_augmented_images])\n",
        "\n",
        "    def __len__(self):\n",
        "        return len(self.image_list)\n",
        "\n",
        "    def __getitem__(self, idx):\n",
        "        image = self.image_list[idx]\n",
        "        label = self.labels[idx]\n",
        "\n",
        "        if isinstance(image, str):\n",
        "            image = Image.open(image)\n",
        "            image = image.resize((64, 64))  # Resize to 64x64\n",
        "\n",
        "            transform = transforms.Compose([\n",
        "                transforms.ToTensor()\n",
        "            ])\n",
        "            image = transform(image)\n",
        "\n",
        "        return image, label"
      ]
    },
    {
      "cell_type": "code",
      "execution_count": 39,
      "metadata": {
        "colab": {
          "base_uri": "https://localhost:8080/"
        },
        "id": "e01KB22pyxLc",
        "outputId": "bcb8e987-bff6-4406-d4fa-83804a83a79c"
      },
      "outputs": [
        {
          "name": "stdout",
          "output_type": "stream",
          "text": [
            "Train batch - Images: torch.Size([32, 1, 64, 64]), Labels: torch.Size([32])\n",
            "Validation batch - Images: torch.Size([32, 1, 64, 64]), Labels: torch.Size([32])\n"
          ]
        }
      ],
      "source": [
        "root_dir = \"train\"\n",
        "val_dir = \"validation\"\n",
        "\n",
        "train_dataset = CustomDataset(root_dir, augment=True)\n",
        "val_dataset = CustomDataset(val_dir, augment=False)\n",
        "\n",
        "\n",
        "# Define batch size for training and validation\n",
        "batch_size = 32\n",
        "\n",
        "# Create the train DataLoader\n",
        "train_loader = DataLoader(train_dataset, batch_size=batch_size, shuffle=True)\n",
        "\n",
        "# Create the validation DataLoader\n",
        "val_loader = DataLoader(val_dataset, batch_size=batch_size)\n",
        "\n",
        "# Verify the train and validation data loaders\n",
        "for images, labels in train_loader:\n",
        "    print(f\"Train batch - Images: {images.shape}, Labels: {labels.shape}\")\n",
        "    break\n",
        "\n",
        "for images, labels in val_loader:\n",
        "    print(f\"Validation batch - Images: {images.shape}, Labels: {labels.shape}\")\n",
        "    break"
      ]
    },
    {
      "cell_type": "code",
      "execution_count": 40,
      "metadata": {
        "colab": {
          "base_uri": "https://localhost:8080/"
        },
        "id": "NMTKtI8zWmvi",
        "outputId": "fda25365-754f-46f9-b23a-dbc7ab82c869"
      },
      "outputs": [
        {
          "data": {
            "text/plain": [
              "<__main__.CustomDataset at 0x7c42792c39a0>"
            ]
          },
          "execution_count": 40,
          "metadata": {},
          "output_type": "execute_result"
        }
      ],
      "source": [
        "train_dataset"
      ]
    },
    {
      "cell_type": "code",
      "execution_count": 13,
      "metadata": {
        "colab": {
          "base_uri": "https://localhost:8080/"
        },
        "id": "Hhegsm4NzSjd",
        "outputId": "b59ae7bc-c39e-4797-c4cc-2ecf8225c9ab"
      },
      "outputs": [
        {
          "name": "stdout",
          "output_type": "stream",
          "text": [
            "Number of training samples: 568\n",
            "Number of plumes: 284\n",
            "Number of no plumes: 284\n"
          ]
        }
      ],
      "source": [
        "#We can check that our train dataset is balanced between plume and no plume\n",
        "num_plumes = sum(label == 1 for label in train_dataset.labels)\n",
        "num_no_plumes = sum(label == 0 for label in train_dataset.labels)\n",
        "\n",
        "print(\"Number of training samples:\", len(train_dataset))\n",
        "print(f\"Number of plumes: {num_plumes}\")\n",
        "print(f\"Number of no plumes: {num_no_plumes}\")"
      ]
    },
    {
      "cell_type": "markdown",
      "metadata": {
        "id": "mqDHN24bbu8X"
      },
      "source": [
        "#WideResNet50"
      ]
    },
    {
      "cell_type": "code",
      "execution_count": 10,
      "metadata": {
        "colab": {
          "base_uri": "https://localhost:8080/"
        },
        "id": "xqkmXdkDbuts",
        "outputId": "82bfc651-c4c5-441c-fa75-683dcc82c402"
      },
      "outputs": [
        {
          "name": "stderr",
          "output_type": "stream",
          "text": [
            "Downloading: \"https://download.pytorch.org/models/wide_resnet50_2-9ba9bcbe.pth\" to /root/.cache/torch/hub/checkpoints/wide_resnet50_2-9ba9bcbe.pth\n",
            "100%|██████████| 263M/263M [00:23<00:00, 11.7MB/s]\n"
          ]
        }
      ],
      "source": [
        "# Define the device for training (CPU or GPU if available)\n",
        "device = torch.device(\"cuda\" if torch.cuda.is_available() else \"cpu\")\n",
        "\n",
        "# Load the pre-trained ResNet50 model\n",
        "resnet50 = models.wide_resnet50_2(weights='Wide_ResNet50_2_Weights.IMAGENET1K_V2')\n",
        "\n",
        "# Modify the first layer to accept single-channel grayscale images\n",
        "resnet50.conv1 = nn.Conv2d(1, 64, kernel_size=7, stride=2, padding=3, bias=False)\n",
        "\n",
        "# Modify the last fully connected layer for binary classification with softmax activation\n",
        "num_classes = 2  # 2 classes: 1 or 0\n",
        "resnet50.fc = nn.Sequential(\n",
        "    nn.Linear(resnet50.fc.in_features, num_classes)\n",
        ")"
      ]
    },
    {
      "cell_type": "code",
      "execution_count": 14,
      "metadata": {
        "id": "K_GjwjV9bflN"
      },
      "outputs": [],
      "source": [
        "# Move the model to the device\n",
        "resnet50 = resnet50.to(device)\n",
        "\n",
        "# Define the loss function (criterion)\n",
        "criterion = nn.CrossEntropyLoss()\n",
        "\n",
        "# Define the optimizer\n",
        "optimizer = torch.optim.Adam(resnet50.parameters(), lr=0.001)\n",
        "\n",
        "num_epochs = 50"
      ]
    },
    {
      "cell_type": "code",
      "execution_count": 15,
      "metadata": {
        "colab": {
          "base_uri": "https://localhost:8080/"
        },
        "id": "dimSscoubfoW",
        "outputId": "852b2796-192b-44c3-fafb-3648f595dd90"
      },
      "outputs": [
        {
          "name": "stderr",
          "output_type": "stream",
          "text": [
            "Epochs:   0%|          | 0/50 [00:02<?, ?it/s]"
          ]
        },
        {
          "name": "stdout",
          "output_type": "stream",
          "text": [
            "Epoch 1/50 - Average Loss: 0.2112888248844279\n",
            "Validation AUC: 0.7691326530612245\n"
          ]
        },
        {
          "name": "stderr",
          "output_type": "stream",
          "text": [
            "\rEpochs:   2%|▏         | 1/50 [00:02<02:15,  2.77s/it]"
          ]
        },
        {
          "name": "stdout",
          "output_type": "stream",
          "text": [
            "Saved\n"
          ]
        },
        {
          "name": "stderr",
          "output_type": "stream",
          "text": [
            "Epochs:   4%|▍         | 2/50 [00:04<01:51,  2.33s/it]"
          ]
        },
        {
          "name": "stdout",
          "output_type": "stream",
          "text": [
            "Epoch 2/50 - Average Loss: 0.16391508684804043\n",
            "Validation AUC: 0.7461734693877552\n"
          ]
        },
        {
          "name": "stderr",
          "output_type": "stream",
          "text": [
            "Epochs:   4%|▍         | 2/50 [00:06<01:51,  2.33s/it]"
          ]
        },
        {
          "name": "stdout",
          "output_type": "stream",
          "text": [
            "Epoch 3/50 - Average Loss: 0.052294033747683794\n",
            "Validation AUC: 0.8134566326530612\n"
          ]
        },
        {
          "name": "stderr",
          "output_type": "stream",
          "text": [
            "\rEpochs:   6%|▌         | 3/50 [00:07<02:03,  2.63s/it]"
          ]
        },
        {
          "name": "stdout",
          "output_type": "stream",
          "text": [
            "Saved\n"
          ]
        },
        {
          "name": "stderr",
          "output_type": "stream",
          "text": [
            "Epochs:   8%|▊         | 4/50 [00:09<01:51,  2.42s/it]"
          ]
        },
        {
          "name": "stdout",
          "output_type": "stream",
          "text": [
            "Epoch 4/50 - Average Loss: 0.05298114856446369\n",
            "Validation AUC: 0.7699298469387755\n"
          ]
        },
        {
          "name": "stderr",
          "output_type": "stream",
          "text": [
            "Epochs:  10%|█         | 5/50 [00:11<01:42,  2.28s/it]"
          ]
        },
        {
          "name": "stdout",
          "output_type": "stream",
          "text": [
            "Epoch 5/50 - Average Loss: 0.03824260899434901\n",
            "Validation AUC: 0.7517538265306123\n"
          ]
        },
        {
          "name": "stderr",
          "output_type": "stream",
          "text": [
            "Epochs:  12%|█▏        | 6/50 [00:13<01:36,  2.20s/it]"
          ]
        },
        {
          "name": "stdout",
          "output_type": "stream",
          "text": [
            "Epoch 6/50 - Average Loss: 0.05090522672010896\n",
            "Validation AUC: 0.8102678571428571\n"
          ]
        },
        {
          "name": "stderr",
          "output_type": "stream",
          "text": [
            "Epochs:  14%|█▍        | 7/50 [00:15<01:32,  2.14s/it]"
          ]
        },
        {
          "name": "stdout",
          "output_type": "stream",
          "text": [
            "Epoch 7/50 - Average Loss: 0.16462485141689992\n",
            "Validation AUC: 0.7189094387755102\n"
          ]
        },
        {
          "name": "stderr",
          "output_type": "stream",
          "text": [
            "Epochs:  16%|█▌        | 8/50 [00:18<01:28,  2.11s/it]"
          ]
        },
        {
          "name": "stdout",
          "output_type": "stream",
          "text": [
            "Epoch 8/50 - Average Loss: 0.18545603131254515\n",
            "Validation AUC: 0.6954719387755102\n"
          ]
        },
        {
          "name": "stderr",
          "output_type": "stream",
          "text": [
            "Epochs:  18%|█▊        | 9/50 [00:20<01:26,  2.12s/it]"
          ]
        },
        {
          "name": "stdout",
          "output_type": "stream",
          "text": [
            "Epoch 9/50 - Average Loss: 0.15568828541371557\n",
            "Validation AUC: 0.7566964285714286\n"
          ]
        },
        {
          "name": "stderr",
          "output_type": "stream",
          "text": [
            "Epochs:  20%|██        | 10/50 [00:22<01:24,  2.12s/it]"
          ]
        },
        {
          "name": "stdout",
          "output_type": "stream",
          "text": [
            "Epoch 10/50 - Average Loss: 0.13939469028264284\n",
            "Validation AUC: 0.6455676020408163\n"
          ]
        },
        {
          "name": "stderr",
          "output_type": "stream",
          "text": [
            "Epochs:  22%|██▏       | 11/50 [00:24<01:22,  2.10s/it]"
          ]
        },
        {
          "name": "stdout",
          "output_type": "stream",
          "text": [
            "Epoch 11/50 - Average Loss: 0.11549520896126826\n",
            "Validation AUC: 0.7761479591836734\n"
          ]
        },
        {
          "name": "stderr",
          "output_type": "stream",
          "text": [
            "Epochs:  24%|██▍       | 12/50 [00:26<01:19,  2.09s/it]"
          ]
        },
        {
          "name": "stdout",
          "output_type": "stream",
          "text": [
            "Epoch 12/50 - Average Loss: 0.05553787750088506\n",
            "Validation AUC: 0.7917729591836735\n"
          ]
        },
        {
          "name": "stderr",
          "output_type": "stream",
          "text": [
            "Epochs:  26%|██▌       | 13/50 [00:28<01:17,  2.08s/it]"
          ]
        },
        {
          "name": "stdout",
          "output_type": "stream",
          "text": [
            "Epoch 13/50 - Average Loss: 0.030141308237539813\n",
            "Validation AUC: 0.7404336734693878\n"
          ]
        },
        {
          "name": "stderr",
          "output_type": "stream",
          "text": [
            "Epochs:  28%|██▊       | 14/50 [00:30<01:14,  2.08s/it]"
          ]
        },
        {
          "name": "stdout",
          "output_type": "stream",
          "text": [
            "Epoch 14/50 - Average Loss: 0.03154011699047664\n",
            "Validation AUC: 0.7578125\n"
          ]
        },
        {
          "name": "stderr",
          "output_type": "stream",
          "text": [
            "Epochs:  30%|███       | 15/50 [00:32<01:13,  2.09s/it]"
          ]
        },
        {
          "name": "stdout",
          "output_type": "stream",
          "text": [
            "Epoch 15/50 - Average Loss: 0.06033480777599228\n",
            "Validation AUC: 0.7241709183673469\n"
          ]
        },
        {
          "name": "stderr",
          "output_type": "stream",
          "text": [
            "Epochs:  32%|███▏      | 16/50 [00:34<01:11,  2.11s/it]"
          ]
        },
        {
          "name": "stdout",
          "output_type": "stream",
          "text": [
            "Epoch 16/50 - Average Loss: 0.0715346976260965\n",
            "Validation AUC: 0.7551020408163266\n"
          ]
        },
        {
          "name": "stderr",
          "output_type": "stream",
          "text": [
            "Epochs:  34%|███▍      | 17/50 [00:36<01:09,  2.11s/it]"
          ]
        },
        {
          "name": "stdout",
          "output_type": "stream",
          "text": [
            "Epoch 17/50 - Average Loss: 0.1339857484239878\n",
            "Validation AUC: 0.7653061224489796\n"
          ]
        },
        {
          "name": "stderr",
          "output_type": "stream",
          "text": [
            "Epochs:  36%|███▌      | 18/50 [00:38<01:06,  2.09s/it]"
          ]
        },
        {
          "name": "stdout",
          "output_type": "stream",
          "text": [
            "Epoch 18/50 - Average Loss: 0.24724194552335474\n",
            "Validation AUC: 0.7346938775510204\n"
          ]
        },
        {
          "name": "stderr",
          "output_type": "stream",
          "text": [
            "Epochs:  36%|███▌      | 18/50 [00:40<01:06,  2.09s/it]"
          ]
        },
        {
          "name": "stdout",
          "output_type": "stream",
          "text": [
            "Epoch 19/50 - Average Loss: 0.10314832317332427\n",
            "Validation AUC: 0.8163265306122449\n"
          ]
        },
        {
          "name": "stderr",
          "output_type": "stream",
          "text": [
            "\rEpochs:  38%|███▊      | 19/50 [00:41<01:09,  2.25s/it]"
          ]
        },
        {
          "name": "stdout",
          "output_type": "stream",
          "text": [
            "Saved\n"
          ]
        },
        {
          "name": "stderr",
          "output_type": "stream",
          "text": [
            "Epochs:  40%|████      | 20/50 [00:43<01:05,  2.19s/it]"
          ]
        },
        {
          "name": "stdout",
          "output_type": "stream",
          "text": [
            "Epoch 20/50 - Average Loss: 0.054339351164849684\n",
            "Validation AUC: 0.8061224489795918\n"
          ]
        },
        {
          "name": "stderr",
          "output_type": "stream",
          "text": [
            "Epochs:  40%|████      | 20/50 [00:45<01:05,  2.19s/it]"
          ]
        },
        {
          "name": "stdout",
          "output_type": "stream",
          "text": [
            "Epoch 21/50 - Average Loss: 0.05930237675784156\n",
            "Validation AUC: 0.8485331632653061\n"
          ]
        },
        {
          "name": "stderr",
          "output_type": "stream",
          "text": [
            "\rEpochs:  42%|████▏     | 21/50 [00:46<01:09,  2.38s/it]"
          ]
        },
        {
          "name": "stdout",
          "output_type": "stream",
          "text": [
            "Saved\n"
          ]
        },
        {
          "name": "stderr",
          "output_type": "stream",
          "text": [
            "Epochs:  44%|████▍     | 22/50 [00:49<01:12,  2.57s/it]"
          ]
        },
        {
          "name": "stdout",
          "output_type": "stream",
          "text": [
            "Epoch 22/50 - Average Loss: 0.04488101098427756\n",
            "Validation AUC: 0.8191964285714286\n"
          ]
        },
        {
          "name": "stderr",
          "output_type": "stream",
          "text": [
            "Epochs:  46%|████▌     | 23/50 [00:51<01:05,  2.42s/it]"
          ]
        },
        {
          "name": "stdout",
          "output_type": "stream",
          "text": [
            "Epoch 23/50 - Average Loss: 0.029096867599744454\n",
            "Validation AUC: 0.7863520408163266\n"
          ]
        },
        {
          "name": "stderr",
          "output_type": "stream",
          "text": [
            "Epochs:  48%|████▊     | 24/50 [00:53<00:59,  2.30s/it]"
          ]
        },
        {
          "name": "stdout",
          "output_type": "stream",
          "text": [
            "Epoch 24/50 - Average Loss: 0.03703818429817653\n",
            "Validation AUC: 0.7911352040816326\n"
          ]
        },
        {
          "name": "stderr",
          "output_type": "stream",
          "text": [
            "Epochs:  50%|█████     | 25/50 [00:55<00:55,  2.22s/it]"
          ]
        },
        {
          "name": "stdout",
          "output_type": "stream",
          "text": [
            "Epoch 25/50 - Average Loss: 0.02439997962857079\n",
            "Validation AUC: 0.7860331632653061\n"
          ]
        },
        {
          "name": "stderr",
          "output_type": "stream",
          "text": [
            "Epochs:  52%|█████▏    | 26/50 [00:57<00:52,  2.17s/it]"
          ]
        },
        {
          "name": "stdout",
          "output_type": "stream",
          "text": [
            "Epoch 26/50 - Average Loss: 0.018490212720482506\n",
            "Validation AUC: 0.7802933673469387\n"
          ]
        },
        {
          "name": "stderr",
          "output_type": "stream",
          "text": [
            "Epochs:  54%|█████▍    | 27/50 [00:59<00:48,  2.13s/it]"
          ]
        },
        {
          "name": "stdout",
          "output_type": "stream",
          "text": [
            "Epoch 27/50 - Average Loss: 0.02005995724013903\n",
            "Validation AUC: 0.7662627551020409\n"
          ]
        },
        {
          "name": "stderr",
          "output_type": "stream",
          "text": [
            "Epochs:  56%|█████▌    | 28/50 [01:01<00:46,  2.12s/it]"
          ]
        },
        {
          "name": "stdout",
          "output_type": "stream",
          "text": [
            "Epoch 28/50 - Average Loss: 0.016238772794571962\n",
            "Validation AUC: 0.7822066326530612\n"
          ]
        },
        {
          "name": "stderr",
          "output_type": "stream",
          "text": [
            "Epochs:  58%|█████▊    | 29/50 [01:03<00:44,  2.11s/it]"
          ]
        },
        {
          "name": "stdout",
          "output_type": "stream",
          "text": [
            "Epoch 29/50 - Average Loss: 0.020635346976632718\n",
            "Validation AUC: 0.7847576530612244\n"
          ]
        },
        {
          "name": "stderr",
          "output_type": "stream",
          "text": [
            "Epochs:  60%|██████    | 30/50 [01:05<00:41,  2.09s/it]"
          ]
        },
        {
          "name": "stdout",
          "output_type": "stream",
          "text": [
            "Epoch 30/50 - Average Loss: 0.017548926211828884\n",
            "Validation AUC: 0.7777423469387755\n"
          ]
        },
        {
          "name": "stderr",
          "output_type": "stream",
          "text": [
            "Epochs:  62%|██████▏   | 31/50 [01:07<00:39,  2.07s/it]"
          ]
        },
        {
          "name": "stdout",
          "output_type": "stream",
          "text": [
            "Epoch 31/50 - Average Loss: 0.01612096231787695\n",
            "Validation AUC: 0.7761479591836734\n"
          ]
        },
        {
          "name": "stderr",
          "output_type": "stream",
          "text": [
            "Epochs:  64%|██████▍   | 32/50 [01:09<00:37,  2.06s/it]"
          ]
        },
        {
          "name": "stdout",
          "output_type": "stream",
          "text": [
            "Epoch 32/50 - Average Loss: 0.017033371887616038\n",
            "Validation AUC: 0.779655612244898\n"
          ]
        },
        {
          "name": "stderr",
          "output_type": "stream",
          "text": [
            "Epochs:  66%|██████▌   | 33/50 [01:12<00:34,  2.05s/it]"
          ]
        },
        {
          "name": "stdout",
          "output_type": "stream",
          "text": [
            "Epoch 33/50 - Average Loss: 0.017418550696068753\n",
            "Validation AUC: 0.7691326530612245\n"
          ]
        },
        {
          "name": "stderr",
          "output_type": "stream",
          "text": [
            "Epochs:  68%|██████▊   | 34/50 [01:14<00:32,  2.06s/it]"
          ]
        },
        {
          "name": "stdout",
          "output_type": "stream",
          "text": [
            "Epoch 34/50 - Average Loss: 0.016598824533098702\n",
            "Validation AUC: 0.7697704081632654\n"
          ]
        },
        {
          "name": "stderr",
          "output_type": "stream",
          "text": [
            "Epochs:  70%|███████   | 35/50 [01:16<00:31,  2.08s/it]"
          ]
        },
        {
          "name": "stdout",
          "output_type": "stream",
          "text": [
            "Epoch 35/50 - Average Loss: 0.01661910585648406\n",
            "Validation AUC: 0.7904974489795918\n"
          ]
        },
        {
          "name": "stderr",
          "output_type": "stream",
          "text": [
            "Epochs:  72%|███████▏  | 36/50 [01:18<00:29,  2.08s/it]"
          ]
        },
        {
          "name": "stdout",
          "output_type": "stream",
          "text": [
            "Epoch 36/50 - Average Loss: 0.017149588477473623\n",
            "Validation AUC: 0.7936862244897959\n"
          ]
        },
        {
          "name": "stderr",
          "output_type": "stream",
          "text": [
            "Epochs:  74%|███████▍  | 37/50 [01:20<00:26,  2.06s/it]"
          ]
        },
        {
          "name": "stdout",
          "output_type": "stream",
          "text": [
            "Epoch 37/50 - Average Loss: 0.016518796980158693\n",
            "Validation AUC: 0.7876275510204083\n"
          ]
        },
        {
          "name": "stderr",
          "output_type": "stream",
          "text": [
            "Epochs:  76%|███████▌  | 38/50 [01:22<00:24,  2.06s/it]"
          ]
        },
        {
          "name": "stdout",
          "output_type": "stream",
          "text": [
            "Epoch 38/50 - Average Loss: 0.015926250788500813\n",
            "Validation AUC: 0.786670918367347\n"
          ]
        },
        {
          "name": "stderr",
          "output_type": "stream",
          "text": [
            "Epochs:  78%|███████▊  | 39/50 [01:24<00:22,  2.05s/it]"
          ]
        },
        {
          "name": "stdout",
          "output_type": "stream",
          "text": [
            "Epoch 39/50 - Average Loss: 0.016584965917192877\n",
            "Validation AUC: 0.7850765306122448\n"
          ]
        },
        {
          "name": "stderr",
          "output_type": "stream",
          "text": [
            "Epochs:  80%|████████  | 40/50 [01:26<00:20,  2.05s/it]"
          ]
        },
        {
          "name": "stdout",
          "output_type": "stream",
          "text": [
            "Epoch 40/50 - Average Loss: 0.016277100799874863\n",
            "Validation AUC: 0.7879464285714285\n"
          ]
        },
        {
          "name": "stderr",
          "output_type": "stream",
          "text": [
            "Epochs:  82%|████████▏ | 41/50 [01:28<00:18,  2.07s/it]"
          ]
        },
        {
          "name": "stdout",
          "output_type": "stream",
          "text": [
            "Epoch 41/50 - Average Loss: 0.016977840915792006\n",
            "Validation AUC: 0.7901785714285714\n"
          ]
        },
        {
          "name": "stderr",
          "output_type": "stream",
          "text": [
            "Epochs:  84%|████████▍ | 42/50 [01:30<00:16,  2.08s/it]"
          ]
        },
        {
          "name": "stdout",
          "output_type": "stream",
          "text": [
            "Epoch 42/50 - Average Loss: 0.016321240548980615\n",
            "Validation AUC: 0.7841198979591836\n"
          ]
        },
        {
          "name": "stderr",
          "output_type": "stream",
          "text": [
            "Epochs:  86%|████████▌ | 43/50 [01:32<00:14,  2.06s/it]"
          ]
        },
        {
          "name": "stdout",
          "output_type": "stream",
          "text": [
            "Epoch 43/50 - Average Loss: 0.01570254700651377\n",
            "Validation AUC: 0.7796556122448979\n"
          ]
        },
        {
          "name": "stderr",
          "output_type": "stream",
          "text": [
            "Epochs:  88%|████████▊ | 44/50 [01:34<00:12,  2.05s/it]"
          ]
        },
        {
          "name": "stdout",
          "output_type": "stream",
          "text": [
            "Epoch 44/50 - Average Loss: 0.015433444151666562\n",
            "Validation AUC: 0.7790178571428571\n"
          ]
        },
        {
          "name": "stderr",
          "output_type": "stream",
          "text": [
            "Epochs:  90%|█████████ | 45/50 [01:36<00:10,  2.05s/it]"
          ]
        },
        {
          "name": "stdout",
          "output_type": "stream",
          "text": [
            "Epoch 45/50 - Average Loss: 0.015508680593736952\n",
            "Validation AUC: 0.7815688775510204\n"
          ]
        },
        {
          "name": "stderr",
          "output_type": "stream",
          "text": [
            "Epochs:  92%|█████████▏| 46/50 [01:38<00:08,  2.04s/it]"
          ]
        },
        {
          "name": "stdout",
          "output_type": "stream",
          "text": [
            "Epoch 46/50 - Average Loss: 0.015575528000833097\n",
            "Validation AUC: 0.782844387755102\n"
          ]
        },
        {
          "name": "stderr",
          "output_type": "stream",
          "text": [
            "Epochs:  94%|█████████▍| 47/50 [01:40<00:06,  2.06s/it]"
          ]
        },
        {
          "name": "stdout",
          "output_type": "stream",
          "text": [
            "Epoch 47/50 - Average Loss: 0.015778762302817186\n",
            "Validation AUC: 0.7825255102040816\n"
          ]
        },
        {
          "name": "stderr",
          "output_type": "stream",
          "text": [
            "Epochs:  96%|█████████▌| 48/50 [01:43<00:04,  2.08s/it]"
          ]
        },
        {
          "name": "stdout",
          "output_type": "stream",
          "text": [
            "Epoch 48/50 - Average Loss: 0.01630731696801983\n",
            "Validation AUC: 0.7834821428571429\n"
          ]
        },
        {
          "name": "stderr",
          "output_type": "stream",
          "text": [
            "Epochs:  98%|█████████▊| 49/50 [01:45<00:02,  2.07s/it]"
          ]
        },
        {
          "name": "stdout",
          "output_type": "stream",
          "text": [
            "Epoch 49/50 - Average Loss: 0.015802534648527298\n",
            "Validation AUC: 0.78125\n"
          ]
        },
        {
          "name": "stderr",
          "output_type": "stream",
          "text": [
            "Epochs: 100%|██████████| 50/50 [01:47<00:00,  2.14s/it]"
          ]
        },
        {
          "name": "stdout",
          "output_type": "stream",
          "text": [
            "Epoch 50/50 - Average Loss: 0.016014952371885254\n",
            "Validation AUC: 0.7838010204081634\n"
          ]
        },
        {
          "name": "stderr",
          "output_type": "stream",
          "text": [
            "\n"
          ]
        }
      ],
      "source": [
        "best_auc = 0.0\n",
        "# Training loop\n",
        "for epoch in tqdm(range(num_epochs), desc=\"Epochs\"):\n",
        "    resnet50.train()  # Set the model to training mode\n",
        "\n",
        "    epoch_loss = 0.0  # Accumulator for epoch loss\n",
        "    for images, labels in train_loader:\n",
        "        images = images.to(device, dtype=torch.float)\n",
        "        labels = labels.to(device)\n",
        "\n",
        "        # Forward pass\n",
        "        outputs = resnet50(images)\n",
        "        loss = criterion(outputs, labels)\n",
        "\n",
        "        # Backward pass and optimization\n",
        "        optimizer.zero_grad()\n",
        "        loss.backward()\n",
        "        optimizer.step()\n",
        "\n",
        "        # Accumulate the loss\n",
        "        epoch_loss += loss.item()\n",
        "\n",
        "    # Compute the average loss for the epoch\n",
        "    epoch_loss /= len(train_loader)\n",
        "    tqdm.write(f\"Epoch {epoch+1}/{num_epochs} - Average Loss: {epoch_loss}\")\n",
        "\n",
        "    # Validation loop\n",
        "    resnet50.eval()  # Set the model to evaluation mode\n",
        "\n",
        "    true_probabilities = []\n",
        "    predicted_probabilities = []\n",
        "\n",
        "    with torch.no_grad():\n",
        "        for images, labels in val_loader:\n",
        "            images = images.to(device, dtype=torch.float)\n",
        "            labels = labels.to(device)\n",
        "\n",
        "            # Forward pass\n",
        "            outputs = resnet50(images)\n",
        "            probabilities = torch.softmax(outputs, dim=1)\n",
        "\n",
        "            # Collect predicted probabilities and true labels\n",
        "            predicted_probabilities.extend(probabilities[:, 1].cpu().numpy())  # Assuming binary classification\n",
        "            true_probabilities.extend(labels.cpu().numpy())\n",
        "\n",
        "    # Compute the AUC\n",
        "    auc = roc_auc_score(true_probabilities, predicted_probabilities)\n",
        "    print(f\"Validation AUC: {auc}\")\n",
        "\n",
        "    # Check if current accuracy is better than the previous best accuracy\n",
        "    if auc > best_auc:\n",
        "        best_auc = auc\n",
        "        torch.save(resnet50.state_dict(), f\"resnet50_{best_auc:.4f}.pth\")  # Save the model with AUC in the filename\n",
        "        print(\"Saved\")"
      ]
    },
    {
      "cell_type": "markdown",
      "metadata": {
        "id": "6j0InukGKxci"
      },
      "source": [
        "###SGD with momentum and LR scheduler - ❌"
      ]
    },
    {
      "cell_type": "code",
      "execution_count": 20,
      "metadata": {
        "id": "_2ZLcn4GBKH3"
      },
      "outputs": [],
      "source": [
        "from torch.optim import SGD\n",
        "from torch.optim.lr_scheduler import StepLR\n",
        "optimizer = SGD(resnet50.parameters(), lr=0.01, momentum=0.9)\n",
        "scheduler = StepLR(optimizer, step_size=5, gamma=0.5)"
      ]
    },
    {
      "cell_type": "code",
      "execution_count": 21,
      "metadata": {
        "colab": {
          "base_uri": "https://localhost:8080/"
        },
        "id": "FL_eBRhdLG64",
        "outputId": "eb9ad35c-2e7d-46e1-e49f-e5754c93f407"
      },
      "outputs": [
        {
          "name": "stderr",
          "output_type": "stream",
          "text": [
            "Epochs:   0%|          | 0/40 [00:01<?, ?it/s]"
          ]
        },
        {
          "name": "stdout",
          "output_type": "stream",
          "text": [
            "Epoch 1/40 - Average Loss: 0.015233904148582647\n",
            "Validation AUC: 0.7815688775510204\n"
          ]
        },
        {
          "name": "stderr",
          "output_type": "stream",
          "text": [
            "\rEpochs:   2%|▎         | 1/40 [00:02<01:40,  2.57s/it]"
          ]
        },
        {
          "name": "stdout",
          "output_type": "stream",
          "text": [
            "Saved\n"
          ]
        },
        {
          "name": "stderr",
          "output_type": "stream",
          "text": [
            "Epochs:   5%|▌         | 2/40 [00:04<01:21,  2.15s/it]"
          ]
        },
        {
          "name": "stdout",
          "output_type": "stream",
          "text": [
            "Epoch 2/40 - Average Loss: 0.015856379969288053\n",
            "Validation AUC: 0.7799744897959183\n"
          ]
        },
        {
          "name": "stderr",
          "output_type": "stream",
          "text": [
            "Epochs:   8%|▊         | 3/40 [00:06<01:14,  2.01s/it]"
          ]
        },
        {
          "name": "stdout",
          "output_type": "stream",
          "text": [
            "Epoch 3/40 - Average Loss: 0.015577323773666447\n",
            "Validation AUC: 0.7777423469387754\n"
          ]
        },
        {
          "name": "stderr",
          "output_type": "stream",
          "text": [
            "Epochs:   8%|▊         | 3/40 [00:07<01:14,  2.01s/it]"
          ]
        },
        {
          "name": "stdout",
          "output_type": "stream",
          "text": [
            "Epoch 4/40 - Average Loss: 0.015986206741824088\n",
            "Validation AUC: 0.7841198979591837\n"
          ]
        },
        {
          "name": "stderr",
          "output_type": "stream",
          "text": [
            "\rEpochs:  10%|█         | 4/40 [00:08<01:18,  2.18s/it]"
          ]
        },
        {
          "name": "stdout",
          "output_type": "stream",
          "text": [
            "Saved\n"
          ]
        },
        {
          "name": "stderr",
          "output_type": "stream",
          "text": [
            "Epochs:  12%|█▎        | 5/40 [00:10<01:12,  2.07s/it]"
          ]
        },
        {
          "name": "stdout",
          "output_type": "stream",
          "text": [
            "Epoch 5/40 - Average Loss: 0.015615227152920852\n",
            "Validation AUC: 0.7791772959183674\n"
          ]
        },
        {
          "name": "stderr",
          "output_type": "stream",
          "text": [
            "Epochs:  15%|█▌        | 6/40 [00:12<01:09,  2.03s/it]"
          ]
        },
        {
          "name": "stdout",
          "output_type": "stream",
          "text": [
            "Epoch 6/40 - Average Loss: 0.015498931793394554\n",
            "Validation AUC: 0.7777423469387755\n"
          ]
        },
        {
          "name": "stderr",
          "output_type": "stream",
          "text": [
            "Epochs:  18%|█▊        | 7/40 [00:14<01:06,  2.01s/it]"
          ]
        },
        {
          "name": "stdout",
          "output_type": "stream",
          "text": [
            "Epoch 7/40 - Average Loss: 0.015290515153386272\n",
            "Validation AUC: 0.7806122448979592\n"
          ]
        },
        {
          "name": "stderr",
          "output_type": "stream",
          "text": [
            "Epochs:  20%|██        | 8/40 [00:16<01:02,  1.96s/it]"
          ]
        },
        {
          "name": "stdout",
          "output_type": "stream",
          "text": [
            "Epoch 8/40 - Average Loss: 0.016058539702044072\n",
            "Validation AUC: 0.7815688775510203\n"
          ]
        },
        {
          "name": "stderr",
          "output_type": "stream",
          "text": [
            "Epochs:  22%|██▎       | 9/40 [00:18<00:59,  1.93s/it]"
          ]
        },
        {
          "name": "stdout",
          "output_type": "stream",
          "text": [
            "Epoch 9/40 - Average Loss: 0.015404441515430436\n",
            "Validation AUC: 0.7802933673469388\n"
          ]
        },
        {
          "name": "stderr",
          "output_type": "stream",
          "text": [
            "Epochs:  25%|██▌       | 10/40 [00:20<00:57,  1.91s/it]"
          ]
        },
        {
          "name": "stdout",
          "output_type": "stream",
          "text": [
            "Epoch 10/40 - Average Loss: 0.015450016248425728\n",
            "Validation AUC: 0.7751913265306122\n"
          ]
        },
        {
          "name": "stderr",
          "output_type": "stream",
          "text": [
            "Epochs:  28%|██▊       | 11/40 [00:21<00:54,  1.89s/it]"
          ]
        },
        {
          "name": "stdout",
          "output_type": "stream",
          "text": [
            "Epoch 11/40 - Average Loss: 0.015400607653444039\n",
            "Validation AUC: 0.7780612244897959\n"
          ]
        },
        {
          "name": "stderr",
          "output_type": "stream",
          "text": [
            "Epochs:  30%|███       | 12/40 [00:23<00:52,  1.88s/it]"
          ]
        },
        {
          "name": "stdout",
          "output_type": "stream",
          "text": [
            "Epoch 12/40 - Average Loss: 0.0164850149047753\n",
            "Validation AUC: 0.7806122448979592\n"
          ]
        },
        {
          "name": "stderr",
          "output_type": "stream",
          "text": [
            "Epochs:  32%|███▎      | 13/40 [00:25<00:51,  1.90s/it]"
          ]
        },
        {
          "name": "stdout",
          "output_type": "stream",
          "text": [
            "Epoch 13/40 - Average Loss: 0.015472065638884184\n",
            "Validation AUC: 0.7809311224489797\n"
          ]
        },
        {
          "name": "stderr",
          "output_type": "stream",
          "text": [
            "Epochs:  35%|███▌      | 14/40 [00:27<00:49,  1.91s/it]"
          ]
        },
        {
          "name": "stdout",
          "output_type": "stream",
          "text": [
            "Epoch 14/40 - Average Loss: 0.015821158120186536\n",
            "Validation AUC: 0.7802933673469388\n"
          ]
        },
        {
          "name": "stderr",
          "output_type": "stream",
          "text": [
            "Epochs:  38%|███▊      | 15/40 [00:29<00:47,  1.89s/it]"
          ]
        },
        {
          "name": "stdout",
          "output_type": "stream",
          "text": [
            "Epoch 15/40 - Average Loss: 0.015538067717879281\n",
            "Validation AUC: 0.7818877551020408\n"
          ]
        },
        {
          "name": "stderr",
          "output_type": "stream",
          "text": [
            "Epochs:  38%|███▊      | 15/40 [00:31<00:47,  1.89s/it]"
          ]
        },
        {
          "name": "stdout",
          "output_type": "stream",
          "text": [
            "Epoch 16/40 - Average Loss: 0.015401908254539699\n",
            "Validation AUC: 0.7844387755102041\n"
          ]
        },
        {
          "name": "stderr",
          "output_type": "stream",
          "text": [
            "\rEpochs:  40%|████      | 16/40 [00:31<00:49,  2.06s/it]"
          ]
        },
        {
          "name": "stdout",
          "output_type": "stream",
          "text": [
            "Saved\n"
          ]
        },
        {
          "name": "stderr",
          "output_type": "stream",
          "text": [
            "Epochs:  42%|████▎     | 17/40 [00:33<00:45,  1.99s/it]"
          ]
        },
        {
          "name": "stdout",
          "output_type": "stream",
          "text": [
            "Epoch 17/40 - Average Loss: 0.01621469552547852\n",
            "Validation AUC: 0.7793367346938775\n"
          ]
        },
        {
          "name": "stderr",
          "output_type": "stream",
          "text": [
            "Epochs:  45%|████▌     | 18/40 [00:35<00:42,  1.94s/it]"
          ]
        },
        {
          "name": "stdout",
          "output_type": "stream",
          "text": [
            "Epoch 18/40 - Average Loss: 0.01581512971718742\n",
            "Validation AUC: 0.7809311224489797\n"
          ]
        },
        {
          "name": "stderr",
          "output_type": "stream",
          "text": [
            "Epochs:  48%|████▊     | 19/40 [00:37<00:40,  1.91s/it]"
          ]
        },
        {
          "name": "stdout",
          "output_type": "stream",
          "text": [
            "Epoch 19/40 - Average Loss: 0.016689801867957814\n",
            "Validation AUC: 0.7815688775510204\n"
          ]
        },
        {
          "name": "stderr",
          "output_type": "stream",
          "text": [
            "Epochs:  48%|████▊     | 19/40 [00:39<00:40,  1.91s/it]"
          ]
        },
        {
          "name": "stdout",
          "output_type": "stream",
          "text": [
            "Epoch 20/40 - Average Loss: 0.015473098338652057\n"
          ]
        },
        {
          "name": "stderr",
          "output_type": "stream",
          "text": [
            "\rEpochs:  50%|█████     | 20/40 [00:39<00:39,  1.98s/it]"
          ]
        },
        {
          "name": "stdout",
          "output_type": "stream",
          "text": [
            "Validation AUC: 0.779655612244898\n"
          ]
        },
        {
          "name": "stderr",
          "output_type": "stream",
          "text": [
            "Epochs:  50%|█████     | 20/40 [00:42<00:39,  1.98s/it]"
          ]
        },
        {
          "name": "stdout",
          "output_type": "stream",
          "text": [
            "Epoch 21/40 - Average Loss: 0.015472363619374442\n",
            "Validation AUC: 0.7771045918367347"
          ]
        },
        {
          "name": "stderr",
          "output_type": "stream",
          "text": [
            "\rEpochs:  52%|█████▎    | 21/40 [00:42<00:42,  2.24s/it]"
          ]
        },
        {
          "name": "stdout",
          "output_type": "stream",
          "text": [
            "\n"
          ]
        },
        {
          "name": "stderr",
          "output_type": "stream",
          "text": [
            "Epochs:  55%|█████▌    | 22/40 [00:44<00:38,  2.14s/it]"
          ]
        },
        {
          "name": "stdout",
          "output_type": "stream",
          "text": [
            "Epoch 22/40 - Average Loss: 0.015547700046959613\n",
            "Validation AUC: 0.7801339285714285\n"
          ]
        },
        {
          "name": "stderr",
          "output_type": "stream",
          "text": [
            "Epochs:  57%|█████▊    | 23/40 [00:46<00:35,  2.08s/it]"
          ]
        },
        {
          "name": "stdout",
          "output_type": "stream",
          "text": [
            "Epoch 23/40 - Average Loss: 0.015364627675378668\n",
            "Validation AUC: 0.7799744897959184\n"
          ]
        },
        {
          "name": "stderr",
          "output_type": "stream",
          "text": [
            "Epochs:  60%|██████    | 24/40 [00:48<00:32,  2.03s/it]"
          ]
        },
        {
          "name": "stdout",
          "output_type": "stream",
          "text": [
            "Epoch 24/40 - Average Loss: 0.015506440256053288\n",
            "Validation AUC: 0.7815688775510203\n"
          ]
        },
        {
          "name": "stderr",
          "output_type": "stream",
          "text": [
            "Epochs:  62%|██████▎   | 25/40 [00:50<00:29,  1.99s/it]"
          ]
        },
        {
          "name": "stdout",
          "output_type": "stream",
          "text": [
            "Epoch 25/40 - Average Loss: 0.015454071558148522\n",
            "Validation AUC: 0.7831632653061225\n"
          ]
        },
        {
          "name": "stderr",
          "output_type": "stream",
          "text": [
            "Epochs:  65%|██████▌   | 26/40 [00:51<00:27,  1.95s/it]"
          ]
        },
        {
          "name": "stdout",
          "output_type": "stream",
          "text": [
            "Epoch 26/40 - Average Loss: 0.015926951203785695\n",
            "Validation AUC: 0.7785395408163265\n"
          ]
        },
        {
          "name": "stderr",
          "output_type": "stream",
          "text": [
            "Epochs:  68%|██████▊   | 27/40 [00:53<00:25,  1.93s/it]"
          ]
        },
        {
          "name": "stdout",
          "output_type": "stream",
          "text": [
            "Epoch 27/40 - Average Loss: 0.01526881693712312\n",
            "Validation AUC: 0.776466836734694\n"
          ]
        },
        {
          "name": "stderr",
          "output_type": "stream",
          "text": [
            "Epochs:  70%|███████   | 28/40 [00:55<00:23,  1.92s/it]"
          ]
        },
        {
          "name": "stdout",
          "output_type": "stream",
          "text": [
            "Epoch 28/40 - Average Loss: 0.016650380775887343\n",
            "Validation AUC: 0.78125\n"
          ]
        },
        {
          "name": "stderr",
          "output_type": "stream",
          "text": [
            "Epochs:  72%|███████▎  | 29/40 [00:57<00:20,  1.89s/it]"
          ]
        },
        {
          "name": "stdout",
          "output_type": "stream",
          "text": [
            "Epoch 29/40 - Average Loss: 0.015666740373477397\n",
            "Validation AUC: 0.7825255102040816\n"
          ]
        },
        {
          "name": "stderr",
          "output_type": "stream",
          "text": [
            "Epochs:  75%|███████▌  | 30/40 [00:59<00:18,  1.86s/it]"
          ]
        },
        {
          "name": "stdout",
          "output_type": "stream",
          "text": [
            "Epoch 30/40 - Average Loss: 0.015298973167419818\n",
            "Validation AUC: 0.7809311224489796\n"
          ]
        },
        {
          "name": "stderr",
          "output_type": "stream",
          "text": [
            "Epochs:  78%|███████▊  | 31/40 [01:01<00:16,  1.85s/it]"
          ]
        },
        {
          "name": "stdout",
          "output_type": "stream",
          "text": [
            "Epoch 31/40 - Average Loss: 0.01591103294915936\n",
            "Validation AUC: 0.78125\n"
          ]
        },
        {
          "name": "stderr",
          "output_type": "stream",
          "text": [
            "Epochs:  80%|████████  | 32/40 [01:03<00:14,  1.84s/it]"
          ]
        },
        {
          "name": "stdout",
          "output_type": "stream",
          "text": [
            "Epoch 32/40 - Average Loss: 0.015296316964578536\n",
            "Validation AUC: 0.7793367346938775\n"
          ]
        },
        {
          "name": "stderr",
          "output_type": "stream",
          "text": [
            "Epochs:  82%|████████▎ | 33/40 [01:04<00:12,  1.83s/it]"
          ]
        },
        {
          "name": "stdout",
          "output_type": "stream",
          "text": [
            "Epoch 33/40 - Average Loss: 0.01573871091627805\n",
            "Validation AUC: 0.7802933673469388\n"
          ]
        },
        {
          "name": "stderr",
          "output_type": "stream",
          "text": [
            "Epochs:  85%|████████▌ | 34/40 [01:06<00:11,  1.84s/it]"
          ]
        },
        {
          "name": "stdout",
          "output_type": "stream",
          "text": [
            "Epoch 34/40 - Average Loss: 0.015698906542259767\n",
            "Validation AUC: 0.7809311224489797\n"
          ]
        },
        {
          "name": "stderr",
          "output_type": "stream",
          "text": [
            "Epochs:  88%|████████▊ | 35/40 [01:08<00:09,  1.86s/it]"
          ]
        },
        {
          "name": "stdout",
          "output_type": "stream",
          "text": [
            "Epoch 35/40 - Average Loss: 0.015391446139536432\n",
            "Validation AUC: 0.7809311224489796\n"
          ]
        },
        {
          "name": "stderr",
          "output_type": "stream",
          "text": [
            "Epochs:  90%|█████████ | 36/40 [01:10<00:07,  1.85s/it]"
          ]
        },
        {
          "name": "stdout",
          "output_type": "stream",
          "text": [
            "Epoch 36/40 - Average Loss: 0.015457555892377664\n",
            "Validation AUC: 0.78125\n"
          ]
        },
        {
          "name": "stderr",
          "output_type": "stream",
          "text": [
            "Epochs:  92%|█████████▎| 37/40 [01:12<00:05,  1.84s/it]"
          ]
        },
        {
          "name": "stdout",
          "output_type": "stream",
          "text": [
            "Epoch 37/40 - Average Loss: 0.01571205532283986\n",
            "Validation AUC: 0.7790178571428572\n"
          ]
        },
        {
          "name": "stderr",
          "output_type": "stream",
          "text": [
            "Epochs:  95%|█████████▌| 38/40 [01:14<00:03,  1.83s/it]"
          ]
        },
        {
          "name": "stdout",
          "output_type": "stream",
          "text": [
            "Epoch 38/40 - Average Loss: 0.015324722350543298\n",
            "Validation AUC: 0.7790178571428572\n"
          ]
        },
        {
          "name": "stderr",
          "output_type": "stream",
          "text": [
            "Epochs:  98%|█████████▊| 39/40 [01:15<00:01,  1.82s/it]"
          ]
        },
        {
          "name": "stdout",
          "output_type": "stream",
          "text": [
            "Epoch 39/40 - Average Loss: 0.015949370959560838\n",
            "Validation AUC: 0.7825255102040816\n"
          ]
        },
        {
          "name": "stderr",
          "output_type": "stream",
          "text": [
            "Epochs: 100%|██████████| 40/40 [01:17<00:00,  1.94s/it]"
          ]
        },
        {
          "name": "stdout",
          "output_type": "stream",
          "text": [
            "Epoch 40/40 - Average Loss: 0.015427154767924852\n",
            "Validation AUC: 0.7825255102040816\n"
          ]
        },
        {
          "name": "stderr",
          "output_type": "stream",
          "text": [
            "\n"
          ]
        }
      ],
      "source": [
        "num_epochs = 40\n",
        "from sklearn.metrics import classification_report, f1_score, roc_auc_score\n",
        "best_auc = 0.0\n",
        "# Training loop\n",
        "for epoch in tqdm(range(num_epochs), desc=\"Epochs\"):\n",
        "    resnet50.train()  # Set the model to training mode\n",
        "\n",
        "    epoch_loss = 0.0  # Accumulator for epoch loss\n",
        "    for images, labels in train_loader:\n",
        "        images = images.to(device, dtype=torch.float)\n",
        "        labels = labels.to(device)\n",
        "\n",
        "        # Forward pass\n",
        "        outputs = resnet50(images)\n",
        "        loss = criterion(outputs, labels)\n",
        "\n",
        "        # Backward pass and optimization\n",
        "        optimizer.zero_grad()\n",
        "        loss.backward()\n",
        "        optimizer.step()\n",
        "\n",
        "        # Accumulate the loss\n",
        "        epoch_loss += loss.item()\n",
        "\n",
        "    # Compute the average loss for the epoch\n",
        "    epoch_loss /= len(train_loader)\n",
        "    tqdm.write(f\"Epoch {epoch+1}/{num_epochs} - Average Loss: {epoch_loss}\")\n",
        "\n",
        "    scheduler.step()\n",
        "\n",
        "    # Validation loop\n",
        "    resnet50.eval()  # Set the model to evaluation mode\n",
        "\n",
        "    true_probabilities = []\n",
        "    predicted_probabilities = []\n",
        "\n",
        "    with torch.no_grad():\n",
        "        for images, labels in val_loader:\n",
        "            images = images.to(device, dtype=torch.float)\n",
        "            labels = labels.to(device)\n",
        "\n",
        "            # Forward pass\n",
        "            outputs = resnet50(images)\n",
        "            probabilities = torch.softmax(outputs, dim=1)\n",
        "\n",
        "            # Collect predicted probabilities and true labels\n",
        "            predicted_probabilities.extend(probabilities[:, 1].cpu().numpy())  # Assuming binary classification\n",
        "            true_probabilities.extend(labels.cpu().numpy())\n",
        "\n",
        "    # Compute the AUC\n",
        "    auc = roc_auc_score(true_probabilities, predicted_probabilities)\n",
        "    print(f\"Validation AUC: {auc}\")\n",
        "\n",
        "    # Check if current accuracy is better than the previous best accuracy\n",
        "    if auc > best_auc:\n",
        "        best_auc = auc\n",
        "        torch.save(resnet50.state_dict(), f\"resnet50_{best_auc:.4f}.pth\")  # Save the model with AUC in the filename\n",
        "        print(\"Saved\")"
      ]
    },
    {
      "cell_type": "markdown",
      "metadata": {
        "id": "ZqmZC8aQMsmS"
      },
      "source": [
        "###AdaGrad with L2 reg - ❌"
      ]
    },
    {
      "cell_type": "code",
      "execution_count": 27,
      "metadata": {
        "id": "j0yM_NlQL1if"
      },
      "outputs": [],
      "source": [
        "import torch.optim as optim\n",
        "optimizer = optim.Adagrad(resnet50.parameters(), lr=0.01)#, weight_decay=1e-4)"
      ]
    },
    {
      "cell_type": "code",
      "execution_count": 28,
      "metadata": {
        "colab": {
          "base_uri": "https://localhost:8080/"
        },
        "id": "oPtkwKjXSALs",
        "outputId": "8432b3d2-a159-4688-d00a-a19d1a8da411"
      },
      "outputs": [
        {
          "name": "stderr",
          "output_type": "stream",
          "text": [
            "Epochs:   0%|          | 0/40 [00:01<?, ?it/s]"
          ]
        },
        {
          "name": "stdout",
          "output_type": "stream",
          "text": [
            "Epoch 1/40 - Average Loss: 1.7121212784614828\n",
            "Validation AUC: 0.5653698979591837\n"
          ]
        },
        {
          "name": "stderr",
          "output_type": "stream",
          "text": [
            "\rEpochs:   2%|▎         | 1/40 [00:02<01:39,  2.56s/it]"
          ]
        },
        {
          "name": "stdout",
          "output_type": "stream",
          "text": [
            "Saved\n"
          ]
        },
        {
          "name": "stderr",
          "output_type": "stream",
          "text": [
            "Epochs:   2%|▎         | 1/40 [00:04<01:39,  2.56s/it]"
          ]
        },
        {
          "name": "stdout",
          "output_type": "stream",
          "text": [
            "Epoch 2/40 - Average Loss: 1.1882405115498438\n",
            "Validation AUC: 0.5959821428571429\n"
          ]
        },
        {
          "name": "stderr",
          "output_type": "stream",
          "text": [
            "\rEpochs:   5%|▌         | 2/40 [00:05<01:42,  2.69s/it]"
          ]
        },
        {
          "name": "stdout",
          "output_type": "stream",
          "text": [
            "Saved\n"
          ]
        },
        {
          "name": "stderr",
          "output_type": "stream",
          "text": [
            "Epochs:   5%|▌         | 2/40 [00:07<01:42,  2.69s/it]"
          ]
        },
        {
          "name": "stdout",
          "output_type": "stream",
          "text": [
            "Epoch 3/40 - Average Loss: 0.9303947256671058\n",
            "Validation AUC: 0.7551020408163266\n"
          ]
        },
        {
          "name": "stderr",
          "output_type": "stream",
          "text": [
            "\rEpochs:   8%|▊         | 3/40 [00:08<01:53,  3.05s/it]"
          ]
        },
        {
          "name": "stdout",
          "output_type": "stream",
          "text": [
            "Saved\n"
          ]
        },
        {
          "name": "stderr",
          "output_type": "stream",
          "text": [
            "Epochs:  10%|█         | 4/40 [00:11<01:37,  2.71s/it]"
          ]
        },
        {
          "name": "stdout",
          "output_type": "stream",
          "text": [
            "Epoch 4/40 - Average Loss: 0.7436023718780942\n",
            "Validation AUC: 0.642219387755102\n"
          ]
        },
        {
          "name": "stderr",
          "output_type": "stream",
          "text": [
            "Epochs:  12%|█▎        | 5/40 [00:13<01:25,  2.45s/it]"
          ]
        },
        {
          "name": "stdout",
          "output_type": "stream",
          "text": [
            "Epoch 5/40 - Average Loss: 0.729595939318339\n",
            "Validation AUC: 0.6613520408163265\n"
          ]
        },
        {
          "name": "stderr",
          "output_type": "stream",
          "text": [
            "Epochs:  12%|█▎        | 5/40 [00:14<01:25,  2.45s/it]"
          ]
        },
        {
          "name": "stdout",
          "output_type": "stream",
          "text": [
            "Epoch 6/40 - Average Loss: 0.7083308829201592\n",
            "Validation AUC: 0.7665816326530611\n"
          ]
        },
        {
          "name": "stderr",
          "output_type": "stream",
          "text": [
            "\rEpochs:  15%|█▌        | 6/40 [00:15<01:24,  2.49s/it]"
          ]
        },
        {
          "name": "stdout",
          "output_type": "stream",
          "text": [
            "Saved\n"
          ]
        },
        {
          "name": "stderr",
          "output_type": "stream",
          "text": [
            "Epochs:  18%|█▊        | 7/40 [00:17<01:16,  2.32s/it]"
          ]
        },
        {
          "name": "stdout",
          "output_type": "stream",
          "text": [
            "Epoch 7/40 - Average Loss: 0.7216365999645658\n",
            "Validation AUC: 0.7071109693877551\n"
          ]
        },
        {
          "name": "stderr",
          "output_type": "stream",
          "text": [
            "Epochs:  20%|██        | 8/40 [00:19<01:10,  2.20s/it]"
          ]
        },
        {
          "name": "stdout",
          "output_type": "stream",
          "text": [
            "Epoch 8/40 - Average Loss: 0.5493289861414168\n",
            "Validation AUC: 0.75\n"
          ]
        },
        {
          "name": "stderr",
          "output_type": "stream",
          "text": [
            "Epochs:  22%|██▎       | 9/40 [00:21<01:05,  2.13s/it]"
          ]
        },
        {
          "name": "stdout",
          "output_type": "stream",
          "text": [
            "Epoch 9/40 - Average Loss: 0.5085370391607285\n",
            "Validation AUC: 0.7318239795918368\n"
          ]
        },
        {
          "name": "stderr",
          "output_type": "stream",
          "text": [
            "Epochs:  25%|██▌       | 10/40 [00:23<01:03,  2.11s/it]"
          ]
        },
        {
          "name": "stdout",
          "output_type": "stream",
          "text": [
            "Epoch 10/40 - Average Loss: 0.4233457131518258\n",
            "Validation AUC: 0.7042410714285714\n"
          ]
        },
        {
          "name": "stderr",
          "output_type": "stream",
          "text": [
            "Epochs:  28%|██▊       | 11/40 [00:25<01:00,  2.08s/it]"
          ]
        },
        {
          "name": "stdout",
          "output_type": "stream",
          "text": [
            "Epoch 11/40 - Average Loss: 0.3777909990813997\n",
            "Validation AUC: 0.7366071428571429\n"
          ]
        },
        {
          "name": "stderr",
          "output_type": "stream",
          "text": [
            "Epochs:  30%|███       | 12/40 [00:27<00:57,  2.04s/it]"
          ]
        },
        {
          "name": "stdout",
          "output_type": "stream",
          "text": [
            "Epoch 12/40 - Average Loss: 0.3435763484901852\n",
            "Validation AUC: 0.6932397959183674\n"
          ]
        },
        {
          "name": "stderr",
          "output_type": "stream",
          "text": [
            "Epochs:  32%|███▎      | 13/40 [00:29<00:54,  2.01s/it]"
          ]
        },
        {
          "name": "stdout",
          "output_type": "stream",
          "text": [
            "Epoch 13/40 - Average Loss: 0.2651255552967389\n",
            "Validation AUC: 0.6938775510204082\n"
          ]
        },
        {
          "name": "stderr",
          "output_type": "stream",
          "text": [
            "Epochs:  35%|███▌      | 14/40 [00:31<00:51,  1.99s/it]"
          ]
        },
        {
          "name": "stdout",
          "output_type": "stream",
          "text": [
            "Epoch 14/40 - Average Loss: 0.21329489226142564\n",
            "Validation AUC: 0.7173150510204082\n"
          ]
        },
        {
          "name": "stderr",
          "output_type": "stream",
          "text": [
            "Epochs:  38%|███▊      | 15/40 [00:33<00:49,  1.98s/it]"
          ]
        },
        {
          "name": "stdout",
          "output_type": "stream",
          "text": [
            "Epoch 15/40 - Average Loss: 0.15350163645214504\n",
            "Validation AUC: 0.7377232142857142\n"
          ]
        },
        {
          "name": "stderr",
          "output_type": "stream",
          "text": [
            "Epochs:  40%|████      | 16/40 [00:35<00:47,  1.98s/it]"
          ]
        },
        {
          "name": "stdout",
          "output_type": "stream",
          "text": [
            "Epoch 16/40 - Average Loss: 0.14267724917994606\n",
            "Validation AUC: 0.696906887755102\n"
          ]
        },
        {
          "name": "stderr",
          "output_type": "stream",
          "text": [
            "Epochs:  42%|████▎     | 17/40 [00:37<00:46,  2.00s/it]"
          ]
        },
        {
          "name": "stdout",
          "output_type": "stream",
          "text": [
            "Epoch 17/40 - Average Loss: 0.1236606819762124\n",
            "Validation AUC: 0.7021683673469388\n"
          ]
        },
        {
          "name": "stderr",
          "output_type": "stream",
          "text": [
            "Epochs:  45%|████▌     | 18/40 [00:39<00:44,  2.00s/it]"
          ]
        },
        {
          "name": "stdout",
          "output_type": "stream",
          "text": [
            "Epoch 18/40 - Average Loss: 0.1301672582825025\n",
            "Validation AUC: 0.6989795918367347\n"
          ]
        },
        {
          "name": "stderr",
          "output_type": "stream",
          "text": [
            "Epochs:  48%|████▊     | 19/40 [00:41<00:41,  1.99s/it]"
          ]
        },
        {
          "name": "stdout",
          "output_type": "stream",
          "text": [
            "Epoch 19/40 - Average Loss: 0.10664572959972753\n",
            "Validation AUC: 0.7147640306122449\n"
          ]
        },
        {
          "name": "stderr",
          "output_type": "stream",
          "text": [
            "Epochs:  50%|█████     | 20/40 [00:43<00:39,  1.97s/it]"
          ]
        },
        {
          "name": "stdout",
          "output_type": "stream",
          "text": [
            "Epoch 20/40 - Average Loss: 0.07818232476711273\n",
            "Validation AUC: 0.6377551020408163\n"
          ]
        },
        {
          "name": "stderr",
          "output_type": "stream",
          "text": [
            "Epochs:  52%|█████▎    | 21/40 [00:45<00:37,  1.97s/it]"
          ]
        },
        {
          "name": "stdout",
          "output_type": "stream",
          "text": [
            "Epoch 21/40 - Average Loss: 0.10281835848258601\n",
            "Validation AUC: 0.6919642857142857\n"
          ]
        },
        {
          "name": "stderr",
          "output_type": "stream",
          "text": [
            "Epochs:  55%|█████▌    | 22/40 [00:47<00:35,  1.97s/it]"
          ]
        },
        {
          "name": "stdout",
          "output_type": "stream",
          "text": [
            "Epoch 22/40 - Average Loss: 0.09118753195636803\n",
            "Validation AUC: 0.6886160714285714\n"
          ]
        },
        {
          "name": "stderr",
          "output_type": "stream",
          "text": [
            "Epochs:  57%|█████▊    | 23/40 [00:49<00:33,  1.98s/it]"
          ]
        },
        {
          "name": "stdout",
          "output_type": "stream",
          "text": [
            "Epoch 23/40 - Average Loss: 0.0540239844057295\n",
            "Validation AUC: 0.6887755102040817\n"
          ]
        },
        {
          "name": "stderr",
          "output_type": "stream",
          "text": [
            "Epochs:  60%|██████    | 24/40 [00:51<00:32,  2.00s/it]"
          ]
        },
        {
          "name": "stdout",
          "output_type": "stream",
          "text": [
            "Epoch 24/40 - Average Loss: 0.061380356239775814\n",
            "Validation AUC: 0.7168367346938775\n"
          ]
        },
        {
          "name": "stderr",
          "output_type": "stream",
          "text": [
            "Epochs:  62%|██████▎   | 25/40 [00:53<00:29,  2.00s/it]"
          ]
        },
        {
          "name": "stdout",
          "output_type": "stream",
          "text": [
            "Epoch 25/40 - Average Loss: 0.08950176591881448\n",
            "Validation AUC: 0.7330994897959184\n"
          ]
        },
        {
          "name": "stderr",
          "output_type": "stream",
          "text": [
            "Epochs:  65%|██████▌   | 26/40 [00:55<00:27,  1.98s/it]"
          ]
        },
        {
          "name": "stdout",
          "output_type": "stream",
          "text": [
            "Epoch 26/40 - Average Loss: 0.07272260227344102\n",
            "Validation AUC: 0.6916454081632653\n"
          ]
        },
        {
          "name": "stderr",
          "output_type": "stream",
          "text": [
            "Epochs:  68%|██████▊   | 27/40 [00:57<00:25,  1.97s/it]"
          ]
        },
        {
          "name": "stdout",
          "output_type": "stream",
          "text": [
            "Epoch 27/40 - Average Loss: 0.06823032318303983\n",
            "Validation AUC: 0.7436224489795918\n"
          ]
        },
        {
          "name": "stderr",
          "output_type": "stream",
          "text": [
            "Epochs:  70%|███████   | 28/40 [00:59<00:23,  1.97s/it]"
          ]
        },
        {
          "name": "stdout",
          "output_type": "stream",
          "text": [
            "Epoch 28/40 - Average Loss: 0.08634297870513466\n",
            "Validation AUC: 0.6846301020408162\n"
          ]
        },
        {
          "name": "stderr",
          "output_type": "stream",
          "text": [
            "Epochs:  72%|███████▎  | 29/40 [01:01<00:21,  1.96s/it]"
          ]
        },
        {
          "name": "stdout",
          "output_type": "stream",
          "text": [
            "Epoch 29/40 - Average Loss: 0.04537510651991599\n",
            "Validation AUC: 0.6568877551020408\n"
          ]
        },
        {
          "name": "stderr",
          "output_type": "stream",
          "text": [
            "Epochs:  75%|███████▌  | 30/40 [01:03<00:19,  1.97s/it]"
          ]
        },
        {
          "name": "stdout",
          "output_type": "stream",
          "text": [
            "Epoch 30/40 - Average Loss: 0.052101462691401444\n",
            "Validation AUC: 0.6237244897959183\n"
          ]
        },
        {
          "name": "stderr",
          "output_type": "stream",
          "text": [
            "Epochs:  78%|███████▊  | 31/40 [01:05<00:18,  2.00s/it]"
          ]
        },
        {
          "name": "stdout",
          "output_type": "stream",
          "text": [
            "Epoch 31/40 - Average Loss: 0.04082259957471655\n",
            "Validation AUC: 0.6616709183673469\n"
          ]
        },
        {
          "name": "stderr",
          "output_type": "stream",
          "text": [
            "Epochs:  80%|████████  | 32/40 [01:07<00:15,  1.99s/it]"
          ]
        },
        {
          "name": "stdout",
          "output_type": "stream",
          "text": [
            "Epoch 32/40 - Average Loss: 0.052013075807028346\n",
            "Validation AUC: 0.6890943877551021\n"
          ]
        },
        {
          "name": "stderr",
          "output_type": "stream",
          "text": [
            "Epochs:  82%|████████▎ | 33/40 [01:09<00:13,  1.99s/it]"
          ]
        },
        {
          "name": "stdout",
          "output_type": "stream",
          "text": [
            "Epoch 33/40 - Average Loss: 0.047276974086546235\n",
            "Validation AUC: 0.6941964285714285\n"
          ]
        },
        {
          "name": "stderr",
          "output_type": "stream",
          "text": [
            "Epochs:  85%|████████▌ | 34/40 [01:10<00:11,  1.98s/it]"
          ]
        },
        {
          "name": "stdout",
          "output_type": "stream",
          "text": [
            "Epoch 34/40 - Average Loss: 0.05203561500335733\n",
            "Validation AUC: 0.6948341836734694\n"
          ]
        },
        {
          "name": "stderr",
          "output_type": "stream",
          "text": [
            "Epochs:  88%|████████▊ | 35/40 [01:12<00:09,  1.97s/it]"
          ]
        },
        {
          "name": "stdout",
          "output_type": "stream",
          "text": [
            "Epoch 35/40 - Average Loss: 0.03982804728568428\n",
            "Validation AUC: 0.6951530612244897\n"
          ]
        },
        {
          "name": "stderr",
          "output_type": "stream",
          "text": [
            "Epochs:  90%|█████████ | 36/40 [01:14<00:07,  1.97s/it]"
          ]
        },
        {
          "name": "stdout",
          "output_type": "stream",
          "text": [
            "Epoch 36/40 - Average Loss: 0.034342571161687374\n",
            "Validation AUC: 0.6753826530612245\n"
          ]
        },
        {
          "name": "stderr",
          "output_type": "stream",
          "text": [
            "Epochs:  92%|█████████▎| 37/40 [01:16<00:05,  1.99s/it]"
          ]
        },
        {
          "name": "stdout",
          "output_type": "stream",
          "text": [
            "Epoch 37/40 - Average Loss: 0.037908891591036484\n",
            "Validation AUC: 0.6897321428571428\n"
          ]
        },
        {
          "name": "stderr",
          "output_type": "stream",
          "text": [
            "Epochs:  95%|█████████▌| 38/40 [01:18<00:04,  2.01s/it]"
          ]
        },
        {
          "name": "stdout",
          "output_type": "stream",
          "text": [
            "Epoch 38/40 - Average Loss: 0.0344986958662048\n",
            "Validation AUC: 0.6852678571428572\n"
          ]
        },
        {
          "name": "stderr",
          "output_type": "stream",
          "text": [
            "Epochs:  98%|█████████▊| 39/40 [01:20<00:01,  1.99s/it]"
          ]
        },
        {
          "name": "stdout",
          "output_type": "stream",
          "text": [
            "Epoch 39/40 - Average Loss: 0.03545105261986868\n",
            "Validation AUC: 0.7110969387755102\n"
          ]
        },
        {
          "name": "stderr",
          "output_type": "stream",
          "text": [
            "Epochs: 100%|██████████| 40/40 [01:22<00:00,  2.07s/it]"
          ]
        },
        {
          "name": "stdout",
          "output_type": "stream",
          "text": [
            "Epoch 40/40 - Average Loss: 0.03145034502570828\n",
            "Validation AUC: 0.701530612244898\n"
          ]
        },
        {
          "name": "stderr",
          "output_type": "stream",
          "text": [
            "\n"
          ]
        }
      ],
      "source": [
        "num_epochs = 40\n",
        "from sklearn.metrics import classification_report, f1_score, roc_auc_score\n",
        "best_auc = 0.0\n",
        "# Training loop\n",
        "for epoch in tqdm(range(num_epochs), desc=\"Epochs\"):\n",
        "    resnet50.train()  # Set the model to training mode\n",
        "\n",
        "    epoch_loss = 0.0  # Accumulator for epoch loss\n",
        "    for images, labels in train_loader:\n",
        "        images = images.to(device, dtype=torch.float)\n",
        "        labels = labels.to(device)\n",
        "\n",
        "        # Forward pass\n",
        "        outputs = resnet50(images)\n",
        "        loss = criterion(outputs, labels)\n",
        "\n",
        "        # Backward pass and optimization\n",
        "        optimizer.zero_grad()\n",
        "        loss.backward()\n",
        "        optimizer.step()\n",
        "\n",
        "        # Accumulate the loss\n",
        "        epoch_loss += loss.item()\n",
        "\n",
        "    # Compute the average loss for the epoch\n",
        "    epoch_loss /= len(train_loader)\n",
        "    tqdm.write(f\"Epoch {epoch+1}/{num_epochs} - Average Loss: {epoch_loss}\")\n",
        "\n",
        "    # Validation loop\n",
        "    resnet50.eval()  # Set the model to evaluation mode\n",
        "\n",
        "    true_probabilities = []\n",
        "    predicted_probabilities = []\n",
        "\n",
        "    with torch.no_grad():\n",
        "        for images, labels in val_loader:\n",
        "            images = images.to(device, dtype=torch.float)\n",
        "            labels = labels.to(device)\n",
        "\n",
        "            # Forward pass\n",
        "            outputs = resnet50(images)\n",
        "            probabilities = torch.softmax(outputs, dim=1)\n",
        "\n",
        "            # Collect predicted probabilities and true labels\n",
        "            predicted_probabilities.extend(probabilities[:, 1].cpu().numpy())  # Assuming binary classification\n",
        "            true_probabilities.extend(labels.cpu().numpy())\n",
        "\n",
        "    # Compute the AUC\n",
        "    auc = roc_auc_score(true_probabilities, predicted_probabilities)\n",
        "    print(f\"Validation AUC: {auc}\")\n",
        "\n",
        "    # Check if current accuracy is better than the previous best accuracy\n",
        "    if auc > best_auc:\n",
        "        best_auc = auc\n",
        "        torch.save(resnet50.state_dict(), f\"resnet50_{best_auc:.4f}.pth\")  # Save the model with AUC in the filename\n",
        "        print(\"Saved\")"
      ]
    },
    {
      "cell_type": "markdown",
      "metadata": {
        "id": "gfniqrXBSO0l"
      },
      "source": [
        "###RMSProp with L2 - ❌"
      ]
    },
    {
      "cell_type": "code",
      "execution_count": 29,
      "metadata": {
        "id": "_wf9UhhYSRiQ"
      },
      "outputs": [],
      "source": [
        "optimizer = optim.RMSprop(resnet50.parameters(), lr=0.001)#, weight_decay=1e-5)"
      ]
    },
    {
      "cell_type": "code",
      "execution_count": 30,
      "metadata": {
        "colab": {
          "base_uri": "https://localhost:8080/"
        },
        "id": "WwUdNoV1STrc",
        "outputId": "02b9aebf-3356-4104-ed42-e8826a2f2889"
      },
      "outputs": [
        {
          "name": "stderr",
          "output_type": "stream",
          "text": [
            "Epochs:   0%|          | 0/40 [00:01<?, ?it/s]"
          ]
        },
        {
          "name": "stdout",
          "output_type": "stream",
          "text": [
            "Epoch 1/40 - Average Loss: 1.472257886495855\n",
            "Validation AUC: 0.5770089285714286\n"
          ]
        },
        {
          "name": "stderr",
          "output_type": "stream",
          "text": [
            "\rEpochs:   2%|▎         | 1/40 [00:02<01:38,  2.52s/it]"
          ]
        },
        {
          "name": "stdout",
          "output_type": "stream",
          "text": [
            "Saved\n"
          ]
        },
        {
          "name": "stderr",
          "output_type": "stream",
          "text": [
            "Epochs:   2%|▎         | 1/40 [00:04<01:38,  2.52s/it]"
          ]
        },
        {
          "name": "stdout",
          "output_type": "stream",
          "text": [
            "Epoch 2/40 - Average Loss: 0.9978978137175242\n",
            "Validation AUC: 0.6248405612244898\n"
          ]
        },
        {
          "name": "stderr",
          "output_type": "stream",
          "text": [
            "\rEpochs:   5%|▌         | 2/40 [00:05<01:37,  2.57s/it]"
          ]
        },
        {
          "name": "stdout",
          "output_type": "stream",
          "text": [
            "Saved\n"
          ]
        },
        {
          "name": "stderr",
          "output_type": "stream",
          "text": [
            "Epochs:   5%|▌         | 2/40 [00:06<01:37,  2.57s/it]"
          ]
        },
        {
          "name": "stdout",
          "output_type": "stream",
          "text": [
            "Epoch 3/40 - Average Loss: 0.9055871533022987\n",
            "Validation AUC: 0.6511479591836735\n"
          ]
        },
        {
          "name": "stderr",
          "output_type": "stream",
          "text": [
            "\rEpochs:   8%|▊         | 3/40 [00:07<01:39,  2.68s/it]"
          ]
        },
        {
          "name": "stdout",
          "output_type": "stream",
          "text": [
            "Saved\n"
          ]
        },
        {
          "name": "stderr",
          "output_type": "stream",
          "text": [
            "Epochs:   8%|▊         | 3/40 [00:09<01:39,  2.68s/it]"
          ]
        },
        {
          "name": "stdout",
          "output_type": "stream",
          "text": [
            "Epoch 4/40 - Average Loss: 0.8619385030534532\n",
            "Validation AUC: 0.6972257653061226\n"
          ]
        },
        {
          "name": "stderr",
          "output_type": "stream",
          "text": [
            "\rEpochs:  10%|█         | 4/40 [00:12<02:03,  3.43s/it]"
          ]
        },
        {
          "name": "stdout",
          "output_type": "stream",
          "text": [
            "Saved\n"
          ]
        },
        {
          "name": "stderr",
          "output_type": "stream",
          "text": [
            "Epochs:  12%|█▎        | 5/40 [00:14<01:42,  2.91s/it]"
          ]
        },
        {
          "name": "stdout",
          "output_type": "stream",
          "text": [
            "Epoch 5/40 - Average Loss: 0.7597777860032188\n",
            "Validation AUC: 0.6865433673469389\n"
          ]
        },
        {
          "name": "stderr",
          "output_type": "stream",
          "text": [
            "Epochs:  15%|█▌        | 6/40 [00:16<01:27,  2.57s/it]"
          ]
        },
        {
          "name": "stdout",
          "output_type": "stream",
          "text": [
            "Epoch 6/40 - Average Loss: 0.5871662646532059\n",
            "Validation AUC: 0.6747448979591837\n"
          ]
        },
        {
          "name": "stderr",
          "output_type": "stream",
          "text": [
            "Epochs:  18%|█▊        | 7/40 [00:18<01:17,  2.35s/it]"
          ]
        },
        {
          "name": "stdout",
          "output_type": "stream",
          "text": [
            "Epoch 7/40 - Average Loss: 0.5269962598880132\n",
            "Validation AUC: 0.6594387755102041\n"
          ]
        },
        {
          "name": "stderr",
          "output_type": "stream",
          "text": [
            "Epochs:  20%|██        | 8/40 [00:20<01:10,  2.22s/it]"
          ]
        },
        {
          "name": "stdout",
          "output_type": "stream",
          "text": [
            "Epoch 8/40 - Average Loss: 0.38209772523906493\n",
            "Validation AUC: 0.6403061224489796\n"
          ]
        },
        {
          "name": "stderr",
          "output_type": "stream",
          "text": [
            "Epochs:  22%|██▎       | 9/40 [00:22<01:06,  2.15s/it]"
          ]
        },
        {
          "name": "stdout",
          "output_type": "stream",
          "text": [
            "Epoch 9/40 - Average Loss: 0.30661532531181973\n",
            "Validation AUC: 0.6734693877551019\n"
          ]
        },
        {
          "name": "stderr",
          "output_type": "stream",
          "text": [
            "Epochs:  25%|██▌       | 10/40 [00:24<01:02,  2.08s/it]"
          ]
        },
        {
          "name": "stdout",
          "output_type": "stream",
          "text": [
            "Epoch 10/40 - Average Loss: 0.30995765493975747\n",
            "Validation AUC: 0.6594387755102041\n"
          ]
        },
        {
          "name": "stderr",
          "output_type": "stream",
          "text": [
            "Epochs:  28%|██▊       | 11/40 [00:26<00:58,  2.03s/it]"
          ]
        },
        {
          "name": "stdout",
          "output_type": "stream",
          "text": [
            "Epoch 11/40 - Average Loss: 0.24201300367712975\n",
            "Validation AUC: 0.6498724489795918\n"
          ]
        },
        {
          "name": "stderr",
          "output_type": "stream",
          "text": [
            "Epochs:  30%|███       | 12/40 [00:28<00:57,  2.05s/it]"
          ]
        },
        {
          "name": "stdout",
          "output_type": "stream",
          "text": [
            "Epoch 12/40 - Average Loss: 0.20965741698940596\n",
            "Validation AUC: 0.6278698979591837\n"
          ]
        },
        {
          "name": "stderr",
          "output_type": "stream",
          "text": [
            "Epochs:  32%|███▎      | 13/40 [00:30<00:54,  2.00s/it]"
          ]
        },
        {
          "name": "stdout",
          "output_type": "stream",
          "text": [
            "Epoch 13/40 - Average Loss: 0.2438213974237442\n",
            "Validation AUC: 0.6160714285714285\n"
          ]
        },
        {
          "name": "stderr",
          "output_type": "stream",
          "text": [
            "Epochs:  35%|███▌      | 14/40 [00:31<00:51,  1.97s/it]"
          ]
        },
        {
          "name": "stdout",
          "output_type": "stream",
          "text": [
            "Epoch 14/40 - Average Loss: 0.2551862278746234\n",
            "Validation AUC: 0.6599170918367347\n"
          ]
        },
        {
          "name": "stderr",
          "output_type": "stream",
          "text": [
            "Epochs:  38%|███▊      | 15/40 [00:33<00:49,  1.97s/it]"
          ]
        },
        {
          "name": "stdout",
          "output_type": "stream",
          "text": [
            "Epoch 15/40 - Average Loss: 0.18595228602902758\n",
            "Validation AUC: 0.6857461734693877\n"
          ]
        },
        {
          "name": "stderr",
          "output_type": "stream",
          "text": [
            "Epochs:  40%|████      | 16/40 [00:35<00:47,  1.98s/it]"
          ]
        },
        {
          "name": "stdout",
          "output_type": "stream",
          "text": [
            "Epoch 16/40 - Average Loss: 0.15396875308619606\n",
            "Validation AUC: 0.6771364795918366\n"
          ]
        },
        {
          "name": "stderr",
          "output_type": "stream",
          "text": [
            "Epochs:  42%|████▎     | 17/40 [00:37<00:45,  1.97s/it]"
          ]
        },
        {
          "name": "stdout",
          "output_type": "stream",
          "text": [
            "Epoch 17/40 - Average Loss: 0.1877460450761848\n",
            "Validation AUC: 0.6753826530612245\n"
          ]
        },
        {
          "name": "stderr",
          "output_type": "stream",
          "text": [
            "Epochs:  45%|████▌     | 18/40 [00:39<00:42,  1.95s/it]"
          ]
        },
        {
          "name": "stdout",
          "output_type": "stream",
          "text": [
            "Epoch 18/40 - Average Loss: 0.2114092753165298\n",
            "Validation AUC: 0.6524234693877551\n"
          ]
        },
        {
          "name": "stderr",
          "output_type": "stream",
          "text": [
            "Epochs:  48%|████▊     | 19/40 [00:41<00:40,  1.94s/it]"
          ]
        },
        {
          "name": "stdout",
          "output_type": "stream",
          "text": [
            "Epoch 19/40 - Average Loss: 0.13660173759692246\n",
            "Validation AUC: 0.6862244897959182\n"
          ]
        },
        {
          "name": "stderr",
          "output_type": "stream",
          "text": [
            "Epochs:  50%|█████     | 20/40 [00:43<00:38,  1.93s/it]"
          ]
        },
        {
          "name": "stdout",
          "output_type": "stream",
          "text": [
            "Epoch 20/40 - Average Loss: 0.11920413840562105\n",
            "Validation AUC: 0.6651785714285714\n"
          ]
        },
        {
          "name": "stderr",
          "output_type": "stream",
          "text": [
            "Epochs:  52%|█████▎    | 21/40 [00:45<00:36,  1.92s/it]"
          ]
        },
        {
          "name": "stdout",
          "output_type": "stream",
          "text": [
            "Epoch 21/40 - Average Loss: 0.09702013189800912\n",
            "Validation AUC: 0.6817602040816325\n"
          ]
        },
        {
          "name": "stderr",
          "output_type": "stream",
          "text": [
            "Epochs:  55%|█████▌    | 22/40 [00:47<00:34,  1.93s/it]"
          ]
        },
        {
          "name": "stdout",
          "output_type": "stream",
          "text": [
            "Epoch 22/40 - Average Loss: 0.07217827729052967\n",
            "Validation AUC: 0.6677295918367346\n"
          ]
        },
        {
          "name": "stderr",
          "output_type": "stream",
          "text": [
            "Epochs:  57%|█████▊    | 23/40 [00:49<00:33,  1.96s/it]"
          ]
        },
        {
          "name": "stdout",
          "output_type": "stream",
          "text": [
            "Epoch 23/40 - Average Loss: 0.0730606800255676\n",
            "Validation AUC: 0.6565688775510203\n"
          ]
        },
        {
          "name": "stderr",
          "output_type": "stream",
          "text": [
            "Epochs:  60%|██████    | 24/40 [00:51<00:31,  1.95s/it]"
          ]
        },
        {
          "name": "stdout",
          "output_type": "stream",
          "text": [
            "Epoch 24/40 - Average Loss: 0.07370344116093798\n",
            "Validation AUC: 0.6865433673469388\n"
          ]
        },
        {
          "name": "stderr",
          "output_type": "stream",
          "text": [
            "Epochs:  62%|██████▎   | 25/40 [00:53<00:29,  1.94s/it]"
          ]
        },
        {
          "name": "stdout",
          "output_type": "stream",
          "text": [
            "Epoch 25/40 - Average Loss: 0.10160602365309994\n",
            "Validation AUC: 0.6619897959183674\n"
          ]
        },
        {
          "name": "stderr",
          "output_type": "stream",
          "text": [
            "Epochs:  65%|██████▌   | 26/40 [00:55<00:26,  1.93s/it]"
          ]
        },
        {
          "name": "stdout",
          "output_type": "stream",
          "text": [
            "Epoch 26/40 - Average Loss: 0.07280013426983108\n",
            "Validation AUC: 0.6760204081632654\n"
          ]
        },
        {
          "name": "stderr",
          "output_type": "stream",
          "text": [
            "Epochs:  68%|██████▊   | 27/40 [00:57<00:24,  1.92s/it]"
          ]
        },
        {
          "name": "stdout",
          "output_type": "stream",
          "text": [
            "Epoch 27/40 - Average Loss: 0.07880147810404499\n",
            "Validation AUC: 0.6913265306122449\n"
          ]
        },
        {
          "name": "stderr",
          "output_type": "stream",
          "text": [
            "Epochs:  70%|███████   | 28/40 [00:59<00:22,  1.91s/it]"
          ]
        },
        {
          "name": "stdout",
          "output_type": "stream",
          "text": [
            "Epoch 28/40 - Average Loss: 0.1181589458655152\n",
            "Validation AUC: 0.6865433673469388\n"
          ]
        },
        {
          "name": "stderr",
          "output_type": "stream",
          "text": [
            "Epochs:  72%|███████▎  | 29/40 [01:00<00:21,  1.92s/it]"
          ]
        },
        {
          "name": "stdout",
          "output_type": "stream",
          "text": [
            "Epoch 29/40 - Average Loss: 0.17233905961943996\n",
            "Validation AUC: 0.6718749999999999\n"
          ]
        },
        {
          "name": "stderr",
          "output_type": "stream",
          "text": [
            "Epochs:  75%|███████▌  | 30/40 [01:02<00:19,  1.94s/it]"
          ]
        },
        {
          "name": "stdout",
          "output_type": "stream",
          "text": [
            "Epoch 30/40 - Average Loss: 0.1526820218294031\n",
            "Validation AUC: 0.6648596938775511\n"
          ]
        },
        {
          "name": "stderr",
          "output_type": "stream",
          "text": [
            "Epochs:  78%|███████▊  | 31/40 [01:04<00:17,  1.94s/it]"
          ]
        },
        {
          "name": "stdout",
          "output_type": "stream",
          "text": [
            "Epoch 31/40 - Average Loss: 0.06579494083093272\n",
            "Validation AUC: 0.677295918367347\n"
          ]
        },
        {
          "name": "stderr",
          "output_type": "stream",
          "text": [
            "Epochs:  80%|████████  | 32/40 [01:06<00:15,  1.93s/it]"
          ]
        },
        {
          "name": "stdout",
          "output_type": "stream",
          "text": [
            "Epoch 32/40 - Average Loss: 0.15602991776540875\n",
            "Validation AUC: 0.6846301020408163\n"
          ]
        },
        {
          "name": "stderr",
          "output_type": "stream",
          "text": [
            "Epochs:  82%|████████▎ | 33/40 [01:08<00:13,  1.92s/it]"
          ]
        },
        {
          "name": "stdout",
          "output_type": "stream",
          "text": [
            "Epoch 33/40 - Average Loss: 0.0842705174194028\n",
            "Validation AUC: 0.6769770408163266\n"
          ]
        },
        {
          "name": "stderr",
          "output_type": "stream",
          "text": [
            "Epochs:  85%|████████▌ | 34/40 [01:10<00:11,  1.92s/it]"
          ]
        },
        {
          "name": "stdout",
          "output_type": "stream",
          "text": [
            "Epoch 34/40 - Average Loss: 0.11845841163045003\n",
            "Validation AUC: 0.6808035714285714\n"
          ]
        },
        {
          "name": "stderr",
          "output_type": "stream",
          "text": [
            "Epochs:  88%|████████▊ | 35/40 [01:12<00:09,  1.91s/it]"
          ]
        },
        {
          "name": "stdout",
          "output_type": "stream",
          "text": [
            "Epoch 35/40 - Average Loss: 0.0936420554191702\n",
            "Validation AUC: 0.650829081632653\n"
          ]
        },
        {
          "name": "stderr",
          "output_type": "stream",
          "text": [
            "Epochs:  90%|█████████ | 36/40 [01:14<00:07,  1.92s/it]"
          ]
        },
        {
          "name": "stdout",
          "output_type": "stream",
          "text": [
            "Epoch 36/40 - Average Loss: 0.1728747254754934\n",
            "Validation AUC: 0.696109693877551\n"
          ]
        },
        {
          "name": "stderr",
          "output_type": "stream",
          "text": [
            "Epochs:  92%|█████████▎| 37/40 [01:16<00:05,  1.95s/it]"
          ]
        },
        {
          "name": "stdout",
          "output_type": "stream",
          "text": [
            "Epoch 37/40 - Average Loss: 0.13776122266426682\n",
            "Validation AUC: 0.6814413265306123\n"
          ]
        },
        {
          "name": "stderr",
          "output_type": "stream",
          "text": [
            "Epochs:  95%|█████████▌| 38/40 [01:18<00:03,  1.95s/it]"
          ]
        },
        {
          "name": "stdout",
          "output_type": "stream",
          "text": [
            "Epoch 38/40 - Average Loss: 0.0393452079475133\n",
            "Validation AUC: 0.6935586734693877\n"
          ]
        },
        {
          "name": "stderr",
          "output_type": "stream",
          "text": [
            "Epochs:  98%|█████████▊| 39/40 [01:20<00:01,  1.93s/it]"
          ]
        },
        {
          "name": "stdout",
          "output_type": "stream",
          "text": [
            "Epoch 39/40 - Average Loss: 0.06899645169162089\n",
            "Validation AUC: 0.6827168367346939\n"
          ]
        },
        {
          "name": "stderr",
          "output_type": "stream",
          "text": [
            "Epochs: 100%|██████████| 40/40 [01:22<00:00,  2.06s/it]"
          ]
        },
        {
          "name": "stdout",
          "output_type": "stream",
          "text": [
            "Epoch 40/40 - Average Loss: 0.031419607720130846\n",
            "Validation AUC: 0.6836734693877551\n"
          ]
        },
        {
          "name": "stderr",
          "output_type": "stream",
          "text": [
            "\n"
          ]
        }
      ],
      "source": [
        "num_epochs = 40\n",
        "from sklearn.metrics import classification_report, f1_score, roc_auc_score\n",
        "best_auc = 0.0\n",
        "# Training loop\n",
        "for epoch in tqdm(range(num_epochs), desc=\"Epochs\"):\n",
        "    resnet50.train()  # Set the model to training mode\n",
        "\n",
        "    epoch_loss = 0.0  # Accumulator for epoch loss\n",
        "    for images, labels in train_loader:\n",
        "        images = images.to(device, dtype=torch.float)\n",
        "        labels = labels.to(device)\n",
        "\n",
        "        # Forward pass\n",
        "        outputs = resnet50(images)\n",
        "        loss = criterion(outputs, labels)\n",
        "\n",
        "        # Backward pass and optimization\n",
        "        optimizer.zero_grad()\n",
        "        loss.backward()\n",
        "        optimizer.step()\n",
        "\n",
        "        # Accumulate the loss\n",
        "        epoch_loss += loss.item()\n",
        "\n",
        "    # Compute the average loss for the epoch\n",
        "    epoch_loss /= len(train_loader)\n",
        "    tqdm.write(f\"Epoch {epoch+1}/{num_epochs} - Average Loss: {epoch_loss}\")\n",
        "\n",
        "    # Validation loop\n",
        "    resnet50.eval()  # Set the model to evaluation mode\n",
        "\n",
        "    true_probabilities = []\n",
        "    predicted_probabilities = []\n",
        "\n",
        "    with torch.no_grad():\n",
        "        for images, labels in val_loader:\n",
        "            images = images.to(device, dtype=torch.float)\n",
        "            labels = labels.to(device)\n",
        "\n",
        "            # Forward pass\n",
        "            outputs = resnet50(images)\n",
        "            probabilities = torch.softmax(outputs, dim=1)\n",
        "\n",
        "            # Collect predicted probabilities and true labels\n",
        "            predicted_probabilities.extend(probabilities[:, 1].cpu().numpy())  # Assuming binary classification\n",
        "            true_probabilities.extend(labels.cpu().numpy())\n",
        "\n",
        "    # Compute the AUC\n",
        "    auc = roc_auc_score(true_probabilities, predicted_probabilities)\n",
        "    print(f\"Validation AUC: {auc}\")\n",
        "\n",
        "    # Check if current accuracy is better than the previous best accuracy\n",
        "    if auc > best_auc:\n",
        "        best_auc = auc\n",
        "        torch.save(resnet50.state_dict(), f\"resnet50_{best_auc:.4f}.pth\")  # Save the model with AUC in the filename\n",
        "        print(\"Saved\")"
      ]
    },
    {
      "cell_type": "markdown",
      "metadata": {
        "id": "t7hz8QuoUA4F"
      },
      "source": [
        "#Resnet101"
      ]
    },
    {
      "cell_type": "code",
      "execution_count": 31,
      "metadata": {
        "colab": {
          "base_uri": "https://localhost:8080/"
        },
        "id": "zys8_x09SUuX",
        "outputId": "1f783f0e-635d-4d55-8b9d-9443799bb6e0"
      },
      "outputs": [
        {
          "name": "stderr",
          "output_type": "stream",
          "text": [
            "Downloading: \"https://download.pytorch.org/models/resnet101-cd907fc2.pth\" to /root/.cache/torch/hub/checkpoints/resnet101-cd907fc2.pth\n",
            "100%|██████████| 171M/171M [00:02<00:00, 74.4MB/s]\n"
          ]
        }
      ],
      "source": [
        "# Define the device for training (CPU or GPU if available)\n",
        "device = torch.device(\"cuda\" if torch.cuda.is_available() else \"cpu\")\n",
        "\n",
        "# Load the pre-trained ResNet101 model\n",
        "resnet101 = models.resnet101(weights='ResNet101_Weights.DEFAULT')\n",
        "\n",
        "# Modify the first layer to accept single-channel grayscale images\n",
        "resnet101.conv1 = nn.Conv2d(1, 64, kernel_size=7, stride=2, padding=3, bias=False)\n",
        "\n",
        "# Modify the last fully connected layer for binary classification with softmax activation\n",
        "num_classes = 2  # 2 classes: 1 or 0\n",
        "resnet101.fc = nn.Sequential(\n",
        "    nn.Linear(resnet101.fc.in_features, num_classes)\n",
        ")"
      ]
    },
    {
      "cell_type": "code",
      "execution_count": 32,
      "metadata": {
        "id": "u3U_vxFEVKha"
      },
      "outputs": [],
      "source": [
        "# Move the model to the device\n",
        "resnet101 = resnet101.to(device)\n",
        "\n",
        "# Define the loss function (criterion)\n",
        "criterion = nn.CrossEntropyLoss()\n",
        "\n",
        "# Define the optimizer\n",
        "optimizer = torch.optim.Adam(resnet101.parameters(), lr=0.001)\n",
        "\n",
        "num_epochs = 40"
      ]
    },
    {
      "cell_type": "code",
      "execution_count": 33,
      "metadata": {
        "colab": {
          "base_uri": "https://localhost:8080/"
        },
        "id": "YDhUxfv0VNXT",
        "outputId": "02da99db-b7c7-4a0c-d26b-12adbab30ef6"
      },
      "outputs": [
        {
          "name": "stderr",
          "output_type": "stream",
          "text": [
            "Epochs:   0%|          | 0/40 [00:02<?, ?it/s]"
          ]
        },
        {
          "name": "stdout",
          "output_type": "stream",
          "text": [
            "Epoch 1/40 - Average Loss: 0.7082766029569838\n",
            "Validation AUC: 0.7133290816326531\n"
          ]
        },
        {
          "name": "stderr",
          "output_type": "stream",
          "text": [
            "\rEpochs:   2%|▎         | 1/40 [00:02<01:39,  2.56s/it]"
          ]
        },
        {
          "name": "stdout",
          "output_type": "stream",
          "text": [
            "Saved\n"
          ]
        },
        {
          "name": "stderr",
          "output_type": "stream",
          "text": [
            "Epochs:   5%|▌         | 2/40 [00:04<01:21,  2.15s/it]"
          ]
        },
        {
          "name": "stdout",
          "output_type": "stream",
          "text": [
            "Epoch 2/40 - Average Loss: 0.6015282703770531\n",
            "Validation AUC: 0.7005739795918368\n"
          ]
        },
        {
          "name": "stderr",
          "output_type": "stream",
          "text": [
            "Epochs:   8%|▊         | 3/40 [00:06<01:16,  2.08s/it]"
          ]
        },
        {
          "name": "stdout",
          "output_type": "stream",
          "text": [
            "Epoch 3/40 - Average Loss: 0.5215223696496751\n",
            "Validation AUC: 0.6916454081632654\n"
          ]
        },
        {
          "name": "stderr",
          "output_type": "stream",
          "text": [
            "Epochs:   8%|▊         | 3/40 [00:08<01:16,  2.08s/it]"
          ]
        },
        {
          "name": "stdout",
          "output_type": "stream",
          "text": [
            "Epoch 4/40 - Average Loss: 0.3742721875508626\n",
            "Validation AUC: 0.7793367346938775\n"
          ]
        },
        {
          "name": "stderr",
          "output_type": "stream",
          "text": [
            "\rEpochs:  10%|█         | 4/40 [00:09<01:22,  2.30s/it]"
          ]
        },
        {
          "name": "stdout",
          "output_type": "stream",
          "text": [
            "Saved\n"
          ]
        },
        {
          "name": "stderr",
          "output_type": "stream",
          "text": [
            "Epochs:  12%|█▎        | 5/40 [00:10<01:15,  2.14s/it]"
          ]
        },
        {
          "name": "stdout",
          "output_type": "stream",
          "text": [
            "Epoch 5/40 - Average Loss: 0.39737808373239303\n",
            "Validation AUC: 0.7551020408163265\n"
          ]
        },
        {
          "name": "stderr",
          "output_type": "stream",
          "text": [
            "Epochs:  12%|█▎        | 5/40 [00:12<01:15,  2.14s/it]"
          ]
        },
        {
          "name": "stdout",
          "output_type": "stream",
          "text": [
            "Epoch 6/40 - Average Loss: 0.3028826481766171\n",
            "Validation AUC: 0.7930484693877551\n"
          ]
        },
        {
          "name": "stderr",
          "output_type": "stream",
          "text": [
            "\rEpochs:  15%|█▌        | 6/40 [00:13<01:17,  2.28s/it]"
          ]
        },
        {
          "name": "stdout",
          "output_type": "stream",
          "text": [
            "Saved\n"
          ]
        },
        {
          "name": "stderr",
          "output_type": "stream",
          "text": [
            "Epochs:  18%|█▊        | 7/40 [00:15<01:10,  2.15s/it]"
          ]
        },
        {
          "name": "stdout",
          "output_type": "stream",
          "text": [
            "Epoch 7/40 - Average Loss: 0.2057160445385509\n",
            "Validation AUC: 0.7388392857142857\n"
          ]
        },
        {
          "name": "stderr",
          "output_type": "stream",
          "text": [
            "Epochs:  18%|█▊        | 7/40 [00:17<01:10,  2.15s/it]"
          ]
        },
        {
          "name": "stdout",
          "output_type": "stream",
          "text": [
            "Epoch 8/40 - Average Loss: 0.25109411403536797\n",
            "Validation AUC: 0.8191964285714286\n"
          ]
        },
        {
          "name": "stderr",
          "output_type": "stream",
          "text": [
            "\rEpochs:  20%|██        | 8/40 [00:17<01:09,  2.17s/it]"
          ]
        },
        {
          "name": "stdout",
          "output_type": "stream",
          "text": [
            "Saved\n"
          ]
        },
        {
          "name": "stderr",
          "output_type": "stream",
          "text": [
            "Epochs:  22%|██▎       | 9/40 [00:19<01:04,  2.09s/it]"
          ]
        },
        {
          "name": "stdout",
          "output_type": "stream",
          "text": [
            "Epoch 9/40 - Average Loss: 0.22016756898827022\n",
            "Validation AUC: 0.7126913265306122\n"
          ]
        },
        {
          "name": "stderr",
          "output_type": "stream",
          "text": [
            "Epochs:  25%|██▌       | 10/40 [00:21<01:02,  2.09s/it]"
          ]
        },
        {
          "name": "stdout",
          "output_type": "stream",
          "text": [
            "Epoch 10/40 - Average Loss: 0.17017855164077547\n",
            "Validation AUC: 0.8045280612244898\n"
          ]
        },
        {
          "name": "stderr",
          "output_type": "stream",
          "text": [
            "Epochs:  28%|██▊       | 11/40 [00:23<00:59,  2.05s/it]"
          ]
        },
        {
          "name": "stdout",
          "output_type": "stream",
          "text": [
            "Epoch 11/40 - Average Loss: 0.13826865620083278\n",
            "Validation AUC: 0.782844387755102\n"
          ]
        },
        {
          "name": "stderr",
          "output_type": "stream",
          "text": [
            "Epochs:  30%|███       | 12/40 [00:25<00:55,  1.98s/it]"
          ]
        },
        {
          "name": "stdout",
          "output_type": "stream",
          "text": [
            "Epoch 12/40 - Average Loss: 0.26378602037827176\n",
            "Validation AUC: 0.757015306122449\n"
          ]
        },
        {
          "name": "stderr",
          "output_type": "stream",
          "text": [
            "Epochs:  32%|███▎      | 13/40 [00:27<00:52,  1.93s/it]"
          ]
        },
        {
          "name": "stdout",
          "output_type": "stream",
          "text": [
            "Epoch 13/40 - Average Loss: 0.19135851247443092\n",
            "Validation AUC: 0.7346938775510203\n"
          ]
        },
        {
          "name": "stderr",
          "output_type": "stream",
          "text": [
            "Epochs:  35%|███▌      | 14/40 [00:29<00:49,  1.91s/it]"
          ]
        },
        {
          "name": "stdout",
          "output_type": "stream",
          "text": [
            "Epoch 14/40 - Average Loss: 0.20683971544106802\n",
            "Validation AUC: 0.7751913265306123\n"
          ]
        },
        {
          "name": "stderr",
          "output_type": "stream",
          "text": [
            "Epochs:  35%|███▌      | 14/40 [00:30<00:49,  1.91s/it]"
          ]
        },
        {
          "name": "stdout",
          "output_type": "stream",
          "text": [
            "Epoch 15/40 - Average Loss: 0.1623950410220358\n",
            "Validation AUC: 0.871811224489796\n"
          ]
        },
        {
          "name": "stderr",
          "output_type": "stream",
          "text": [
            "\rEpochs:  38%|███▊      | 15/40 [00:31<00:49,  2.00s/it]"
          ]
        },
        {
          "name": "stdout",
          "output_type": "stream",
          "text": [
            "Saved\n"
          ]
        },
        {
          "name": "stderr",
          "output_type": "stream",
          "text": [
            "Epochs:  40%|████      | 16/40 [00:33<00:47,  1.99s/it]"
          ]
        },
        {
          "name": "stdout",
          "output_type": "stream",
          "text": [
            "Epoch 16/40 - Average Loss: 0.10728854929200476\n",
            "Validation AUC: 0.8376913265306123\n"
          ]
        },
        {
          "name": "stderr",
          "output_type": "stream",
          "text": [
            "Epochs:  42%|████▎     | 17/40 [00:35<00:46,  2.02s/it]"
          ]
        },
        {
          "name": "stdout",
          "output_type": "stream",
          "text": [
            "Epoch 17/40 - Average Loss: 0.09089065001656611\n",
            "Validation AUC: 0.8600127551020408\n"
          ]
        },
        {
          "name": "stderr",
          "output_type": "stream",
          "text": [
            "Epochs:  42%|████▎     | 17/40 [00:37<00:46,  2.02s/it]"
          ]
        },
        {
          "name": "stdout",
          "output_type": "stream",
          "text": [
            "Epoch 18/40 - Average Loss: 0.06019701777646939\n",
            "Validation AUC: 0.8765943877551021\n"
          ]
        },
        {
          "name": "stderr",
          "output_type": "stream",
          "text": [
            "\rEpochs:  45%|████▌     | 18/40 [00:37<00:46,  2.12s/it]"
          ]
        },
        {
          "name": "stdout",
          "output_type": "stream",
          "text": [
            "Saved\n"
          ]
        },
        {
          "name": "stderr",
          "output_type": "stream",
          "text": [
            "Epochs:  48%|████▊     | 19/40 [00:39<00:42,  2.04s/it]"
          ]
        },
        {
          "name": "stdout",
          "output_type": "stream",
          "text": [
            "Epoch 19/40 - Average Loss: 0.07094873524167472\n",
            "Validation AUC: 0.8708545918367346\n"
          ]
        },
        {
          "name": "stderr",
          "output_type": "stream",
          "text": [
            "Epochs:  50%|█████     | 20/40 [00:41<00:39,  1.98s/it]"
          ]
        },
        {
          "name": "stdout",
          "output_type": "stream",
          "text": [
            "Epoch 20/40 - Average Loss: 0.056279734113357134\n",
            "Validation AUC: 0.8756377551020407\n"
          ]
        },
        {
          "name": "stderr",
          "output_type": "stream",
          "text": [
            "Epochs:  50%|█████     | 20/40 [00:43<00:39,  1.98s/it]"
          ]
        },
        {
          "name": "stdout",
          "output_type": "stream",
          "text": [
            "Epoch 21/40 - Average Loss: 0.036683099667748645\n",
            "Validation AUC: 0.8985969387755103\n"
          ]
        },
        {
          "name": "stderr",
          "output_type": "stream",
          "text": [
            "\rEpochs:  52%|█████▎    | 21/40 [00:43<00:38,  2.05s/it]"
          ]
        },
        {
          "name": "stdout",
          "output_type": "stream",
          "text": [
            "Saved\n"
          ]
        },
        {
          "name": "stderr",
          "output_type": "stream",
          "text": [
            "Epochs:  55%|█████▌    | 22/40 [00:45<00:37,  2.06s/it]"
          ]
        },
        {
          "name": "stdout",
          "output_type": "stream",
          "text": [
            "Epoch 22/40 - Average Loss: 0.03509842235750208\n",
            "Validation AUC: 0.8861607142857143\n"
          ]
        },
        {
          "name": "stderr",
          "output_type": "stream",
          "text": [
            "Epochs:  57%|█████▊    | 23/40 [00:47<00:34,  2.05s/it]"
          ]
        },
        {
          "name": "stdout",
          "output_type": "stream",
          "text": [
            "Epoch 23/40 - Average Loss: 0.02864111275024091\n",
            "Validation AUC: 0.8494897959183673\n"
          ]
        },
        {
          "name": "stderr",
          "output_type": "stream",
          "text": [
            "Epochs:  60%|██████    | 24/40 [00:49<00:32,  2.04s/it]"
          ]
        },
        {
          "name": "stdout",
          "output_type": "stream",
          "text": [
            "Epoch 24/40 - Average Loss: 0.09246004587556753\n",
            "Validation AUC: 0.7219387755102041\n"
          ]
        },
        {
          "name": "stderr",
          "output_type": "stream",
          "text": [
            "Epochs:  62%|██████▎   | 25/40 [00:51<00:29,  1.98s/it]"
          ]
        },
        {
          "name": "stdout",
          "output_type": "stream",
          "text": [
            "Epoch 25/40 - Average Loss: 0.19461039919406176\n",
            "Validation AUC: 0.7729591836734694\n"
          ]
        },
        {
          "name": "stderr",
          "output_type": "stream",
          "text": [
            "Epochs:  65%|██████▌   | 26/40 [00:53<00:27,  1.93s/it]"
          ]
        },
        {
          "name": "stdout",
          "output_type": "stream",
          "text": [
            "Epoch 26/40 - Average Loss: 0.13707284153335625\n",
            "Validation AUC: 0.8335459183673469\n"
          ]
        },
        {
          "name": "stderr",
          "output_type": "stream",
          "text": [
            "Epochs:  68%|██████▊   | 27/40 [00:55<00:24,  1.90s/it]"
          ]
        },
        {
          "name": "stdout",
          "output_type": "stream",
          "text": [
            "Epoch 27/40 - Average Loss: 0.11584677857657273\n",
            "Validation AUC: 0.8316326530612245\n"
          ]
        },
        {
          "name": "stderr",
          "output_type": "stream",
          "text": [
            "Epochs:  70%|███████   | 28/40 [00:56<00:22,  1.88s/it]"
          ]
        },
        {
          "name": "stdout",
          "output_type": "stream",
          "text": [
            "Epoch 28/40 - Average Loss: 0.1201984361331496\n",
            "Validation AUC: 0.8737244897959184\n"
          ]
        },
        {
          "name": "stderr",
          "output_type": "stream",
          "text": [
            "Epochs:  72%|███████▎  | 29/40 [00:58<00:20,  1.87s/it]"
          ]
        },
        {
          "name": "stdout",
          "output_type": "stream",
          "text": [
            "Epoch 29/40 - Average Loss: 0.13636857002145714\n",
            "Validation AUC: 0.8718112244897959\n"
          ]
        },
        {
          "name": "stderr",
          "output_type": "stream",
          "text": [
            "Epochs:  75%|███████▌  | 30/40 [01:00<00:19,  1.92s/it]"
          ]
        },
        {
          "name": "stdout",
          "output_type": "stream",
          "text": [
            "Epoch 30/40 - Average Loss: 0.08816123122556342\n",
            "Validation AUC: 0.8632015306122449\n"
          ]
        },
        {
          "name": "stderr",
          "output_type": "stream",
          "text": [
            "Epochs:  78%|███████▊  | 31/40 [01:02<00:17,  1.97s/it]"
          ]
        },
        {
          "name": "stdout",
          "output_type": "stream",
          "text": [
            "Epoch 31/40 - Average Loss: 0.10650379666023785\n",
            "Validation AUC: 0.8191964285714284\n"
          ]
        },
        {
          "name": "stderr",
          "output_type": "stream",
          "text": [
            "Epochs:  80%|████████  | 32/40 [01:04<00:15,  1.94s/it]"
          ]
        },
        {
          "name": "stdout",
          "output_type": "stream",
          "text": [
            "Epoch 32/40 - Average Loss: 0.12008588424780303\n",
            "Validation AUC: 0.8266900510204082\n"
          ]
        },
        {
          "name": "stderr",
          "output_type": "stream",
          "text": [
            "Epochs:  82%|████████▎ | 33/40 [01:06<00:13,  1.91s/it]"
          ]
        },
        {
          "name": "stdout",
          "output_type": "stream",
          "text": [
            "Epoch 33/40 - Average Loss: 0.0983991301101115\n",
            "Validation AUC: 0.8571428571428572\n"
          ]
        },
        {
          "name": "stderr",
          "output_type": "stream",
          "text": [
            "Epochs:  85%|████████▌ | 34/40 [01:08<00:11,  1.89s/it]"
          ]
        },
        {
          "name": "stdout",
          "output_type": "stream",
          "text": [
            "Epoch 34/40 - Average Loss: 0.09754408598463568\n",
            "Validation AUC: 0.8252551020408163\n"
          ]
        },
        {
          "name": "stderr",
          "output_type": "stream",
          "text": [
            "Epochs:  88%|████████▊ | 35/40 [01:10<00:09,  1.88s/it]"
          ]
        },
        {
          "name": "stdout",
          "output_type": "stream",
          "text": [
            "Epoch 35/40 - Average Loss: 0.04352296213619411\n",
            "Validation AUC: 0.8137755102040816\n"
          ]
        },
        {
          "name": "stderr",
          "output_type": "stream",
          "text": [
            "Epochs:  90%|█████████ | 36/40 [01:12<00:07,  1.89s/it]"
          ]
        },
        {
          "name": "stdout",
          "output_type": "stream",
          "text": [
            "Epoch 36/40 - Average Loss: 0.07633870475304623\n",
            "Validation AUC: 0.8533163265306122\n"
          ]
        },
        {
          "name": "stderr",
          "output_type": "stream",
          "text": [
            "Epochs:  90%|█████████ | 36/40 [01:14<00:07,  1.89s/it]"
          ]
        },
        {
          "name": "stdout",
          "output_type": "stream",
          "text": [
            "Epoch 37/40 - Average Loss: 0.12815161718107346\n"
          ]
        },
        {
          "name": "stderr",
          "output_type": "stream",
          "text": [
            "\rEpochs:  92%|█████████▎| 37/40 [01:14<00:06,  2.07s/it]"
          ]
        },
        {
          "name": "stdout",
          "output_type": "stream",
          "text": [
            "Validation AUC: 0.7949617346938774\n"
          ]
        },
        {
          "name": "stderr",
          "output_type": "stream",
          "text": [
            "Epochs:  95%|█████████▌| 38/40 [01:17<00:04,  2.18s/it]"
          ]
        },
        {
          "name": "stdout",
          "output_type": "stream",
          "text": [
            "Epoch 38/40 - Average Loss: 0.12047055529223548\n",
            "Validation AUC: 0.8478954081632654\n"
          ]
        },
        {
          "name": "stderr",
          "output_type": "stream",
          "text": [
            "Epochs:  98%|█████████▊| 39/40 [01:19<00:02,  2.10s/it]"
          ]
        },
        {
          "name": "stdout",
          "output_type": "stream",
          "text": [
            "Epoch 39/40 - Average Loss: 0.11847552667475408\n",
            "Validation AUC: 0.8128188775510204\n"
          ]
        },
        {
          "name": "stderr",
          "output_type": "stream",
          "text": [
            "Epochs: 100%|██████████| 40/40 [01:20<00:00,  2.02s/it]"
          ]
        },
        {
          "name": "stdout",
          "output_type": "stream",
          "text": [
            "Epoch 40/40 - Average Loss: 0.12672050116169783\n",
            "Validation AUC: 0.7946428571428571\n"
          ]
        },
        {
          "name": "stderr",
          "output_type": "stream",
          "text": [
            "\n"
          ]
        }
      ],
      "source": [
        "from sklearn.metrics import classification_report, f1_score, roc_auc_score\n",
        "best_auc = 0.0\n",
        "# Training loop\n",
        "for epoch in tqdm(range(num_epochs), desc=\"Epochs\"):\n",
        "    resnet101.train()  # Set the model to training mode\n",
        "\n",
        "    epoch_loss = 0.0  # Accumulator for epoch loss\n",
        "    for images, labels in train_loader:\n",
        "        images = images.to(device, dtype=torch.float)\n",
        "        labels = labels.to(device)\n",
        "\n",
        "        # Forward pass\n",
        "        outputs = resnet101(images)\n",
        "        loss = criterion(outputs, labels)\n",
        "\n",
        "        # Backward pass and optimization\n",
        "        optimizer.zero_grad()\n",
        "        loss.backward()\n",
        "        optimizer.step()\n",
        "\n",
        "        # Accumulate the loss\n",
        "        epoch_loss += loss.item()\n",
        "\n",
        "    # Compute the average loss for the epoch\n",
        "    epoch_loss /= len(train_loader)\n",
        "    tqdm.write(f\"Epoch {epoch+1}/{num_epochs} - Average Loss: {epoch_loss}\")\n",
        "\n",
        "    # Validation loop\n",
        "    resnet101.eval()  # Set the model to evaluation mode\n",
        "\n",
        "    true_probabilities = []\n",
        "    predicted_probabilities = []\n",
        "\n",
        "    with torch.no_grad():\n",
        "        for images, labels in val_loader:\n",
        "            images = images.to(device, dtype=torch.float)\n",
        "            labels = labels.to(device)\n",
        "\n",
        "            # Forward pass\n",
        "            outputs = resnet101(images)\n",
        "            probabilities = torch.softmax(outputs, dim=1)\n",
        "\n",
        "            # Collect predicted probabilities and true labels\n",
        "            predicted_probabilities.extend(probabilities[:, 1].cpu().numpy())  # Assuming binary classification\n",
        "            true_probabilities.extend(labels.cpu().numpy())\n",
        "\n",
        "    # Compute the AUC\n",
        "    auc = roc_auc_score(true_probabilities, predicted_probabilities)\n",
        "    print(f\"Validation AUC: {auc}\")\n",
        "\n",
        "    # Check if current accuracy is better than the previous best accuracy\n",
        "    if auc > best_auc:\n",
        "        best_auc = auc\n",
        "        torch.save(resnet101.state_dict(), f\"resnet101_{best_auc:.4f}.pth\")  # Save the model with AUC in the filename\n",
        "        print(\"Saved\")"
      ]
    },
    {
      "cell_type": "code",
      "execution_count": null,
      "metadata": {
        "id": "Ie28LiM5VQqv"
      },
      "outputs": [],
      "source": []
    }
  ],
  "metadata": {
    "accelerator": "GPU",
    "colab": {
      "gpuType": "T4",
      "provenance": []
    },
    "kernelspec": {
      "display_name": "Python 3",
      "name": "python3"
    },
    "language_info": {
      "codemirror_mode": {
        "name": "ipython",
        "version": 3
      },
      "file_extension": ".py",
      "mimetype": "text/x-python",
      "name": "python",
      "nbconvert_exporter": "python",
      "pygments_lexer": "ipython3",
      "version": "3.9.12"
    },
    "vscode": {
      "interpreter": {
        "hash": "31f2aee4e71d21fbe5cf8b01ff0e069b9275f58929596ceb00d14d90e3e16cd6"
      }
    }
  },
  "nbformat": 4,
  "nbformat_minor": 0
}
