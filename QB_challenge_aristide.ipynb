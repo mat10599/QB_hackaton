{
  "nbformat": 4,
  "nbformat_minor": 0,
  "metadata": {
    "colab": {
      "provenance": [],
      "toc_visible": true,
      "mount_file_id": "1AD0uE7YUgPl7fLUmj8upwzZEuSs6JnFY",
      "authorship_tag": "ABX9TyOWZXZCo5DKLqSl7NgaX/jZ",
      "include_colab_link": true
    },
    "kernelspec": {
      "name": "python3",
      "display_name": "Python 3"
    },
    "language_info": {
      "name": "python"
    }
  },
  "cells": [
    {
      "cell_type": "markdown",
      "metadata": {
        "id": "view-in-github",
        "colab_type": "text"
      },
      "source": [
        "<a href=\"https://colab.research.google.com/github/mat10599/QB_hackaton/blob/main/QB_challenge_aristide.ipynb\" target=\"_parent\"><img src=\"https://colab.research.google.com/assets/colab-badge.svg\" alt=\"Open In Colab\"/></a>"
      ]
    },
    {
      "cell_type": "code",
      "execution_count": 1,
      "metadata": {
        "id": "K8_VQN423hBr"
      },
      "outputs": [],
      "source": [
        "import tensorflow as tf\n",
        "import scipy.optimize\n",
        "import scipy\n",
        "import pandas as pd\n",
        "from tensorflow import keras\n",
        "import os\n",
        "import random\n",
        "from PIL import Image\n",
        "import numpy as np\n",
        "from sklearn.model_selection import train_test_split\n",
        "from tensorflow import keras\n",
        "from tensorflow.keras.preprocessing.image import ImageDataGenerator\n",
        "from tensorflow.keras import layers\n",
        "from tensorflow.keras.models import Sequential\n",
        "from tensorflow.keras.layers import Conv2D, MaxPooling2D, Flatten, Dense, Dropout\n",
        "from tensorflow.keras.preprocessing.image import ImageDataGenerator\n",
        "from tensorflow.keras.applications import VGG16\n",
        "from tensorflow.keras.applications import EfficientNetB0\n",
        "\n"
      ]
    },
    {
      "cell_type": "code",
      "source": [
        "from google.colab import drive\n",
        "drive.mount('/content/drive')"
      ],
      "metadata": {
        "colab": {
          "base_uri": "https://localhost:8080/"
        },
        "id": "SVCOt9kl3vHT",
        "outputId": "0cb87eeb-d58b-4e4b-e1d6-64347bfc2d52"
      },
      "execution_count": 2,
      "outputs": [
        {
          "output_type": "stream",
          "name": "stdout",
          "text": [
            "Drive already mounted at /content/drive; to attempt to forcibly remount, call drive.mount(\"/content/drive\", force_remount=True).\n"
          ]
        }
      ]
    },
    {
      "cell_type": "code",
      "source": [
        "# Load the data\n",
        "df = pd.read_csv('drive/MyDrive/data/train_data/metadata.csv')\n",
        "df[\"path\"] = \"drive/MyDrive/data/train_data/\" + df[\"path\"] + \".tif\"\n",
        "df.head()"
      ],
      "metadata": {
        "colab": {
          "base_uri": "https://localhost:8080/",
          "height": 206
        },
        "id": "qolF1YnT5DV1",
        "outputId": "f8e46468-33b2-4c87-9dd8-ac2167cb34e0"
      },
      "execution_count": 7,
      "outputs": [
        {
          "output_type": "execute_result",
          "data": {
            "text/plain": [
              "       date id_coord plume    set        lat         lon  coord_x  coord_y  \\\n",
              "0  20230223  id_6675   yes  train  31.528750   74.330625       24       47   \n",
              "1  20230103  id_2542   yes  train  35.538000  112.524000       42       37   \n",
              "2  20230301  id_6546   yes  train  21.060000   84.936667       58       15   \n",
              "3  20230225  id_6084   yes  train  26.756667   80.973333       28       62   \n",
              "4  20230105  id_2012   yes  train  34.800000   40.770000       59       44   \n",
              "\n",
              "                                                path  \n",
              "0  drive/MyDrive/data/train_data/images/plume/202...  \n",
              "1  drive/MyDrive/data/train_data/images/plume/202...  \n",
              "2  drive/MyDrive/data/train_data/images/plume/202...  \n",
              "3  drive/MyDrive/data/train_data/images/plume/202...  \n",
              "4  drive/MyDrive/data/train_data/images/plume/202...  "
            ],
            "text/html": [
              "\n",
              "  <div id=\"df-8639eada-4d43-46e8-8435-db78cba030b7\" class=\"colab-df-container\">\n",
              "    <div>\n",
              "<style scoped>\n",
              "    .dataframe tbody tr th:only-of-type {\n",
              "        vertical-align: middle;\n",
              "    }\n",
              "\n",
              "    .dataframe tbody tr th {\n",
              "        vertical-align: top;\n",
              "    }\n",
              "\n",
              "    .dataframe thead th {\n",
              "        text-align: right;\n",
              "    }\n",
              "</style>\n",
              "<table border=\"1\" class=\"dataframe\">\n",
              "  <thead>\n",
              "    <tr style=\"text-align: right;\">\n",
              "      <th></th>\n",
              "      <th>date</th>\n",
              "      <th>id_coord</th>\n",
              "      <th>plume</th>\n",
              "      <th>set</th>\n",
              "      <th>lat</th>\n",
              "      <th>lon</th>\n",
              "      <th>coord_x</th>\n",
              "      <th>coord_y</th>\n",
              "      <th>path</th>\n",
              "    </tr>\n",
              "  </thead>\n",
              "  <tbody>\n",
              "    <tr>\n",
              "      <th>0</th>\n",
              "      <td>20230223</td>\n",
              "      <td>id_6675</td>\n",
              "      <td>yes</td>\n",
              "      <td>train</td>\n",
              "      <td>31.528750</td>\n",
              "      <td>74.330625</td>\n",
              "      <td>24</td>\n",
              "      <td>47</td>\n",
              "      <td>drive/MyDrive/data/train_data/images/plume/202...</td>\n",
              "    </tr>\n",
              "    <tr>\n",
              "      <th>1</th>\n",
              "      <td>20230103</td>\n",
              "      <td>id_2542</td>\n",
              "      <td>yes</td>\n",
              "      <td>train</td>\n",
              "      <td>35.538000</td>\n",
              "      <td>112.524000</td>\n",
              "      <td>42</td>\n",
              "      <td>37</td>\n",
              "      <td>drive/MyDrive/data/train_data/images/plume/202...</td>\n",
              "    </tr>\n",
              "    <tr>\n",
              "      <th>2</th>\n",
              "      <td>20230301</td>\n",
              "      <td>id_6546</td>\n",
              "      <td>yes</td>\n",
              "      <td>train</td>\n",
              "      <td>21.060000</td>\n",
              "      <td>84.936667</td>\n",
              "      <td>58</td>\n",
              "      <td>15</td>\n",
              "      <td>drive/MyDrive/data/train_data/images/plume/202...</td>\n",
              "    </tr>\n",
              "    <tr>\n",
              "      <th>3</th>\n",
              "      <td>20230225</td>\n",
              "      <td>id_6084</td>\n",
              "      <td>yes</td>\n",
              "      <td>train</td>\n",
              "      <td>26.756667</td>\n",
              "      <td>80.973333</td>\n",
              "      <td>28</td>\n",
              "      <td>62</td>\n",
              "      <td>drive/MyDrive/data/train_data/images/plume/202...</td>\n",
              "    </tr>\n",
              "    <tr>\n",
              "      <th>4</th>\n",
              "      <td>20230105</td>\n",
              "      <td>id_2012</td>\n",
              "      <td>yes</td>\n",
              "      <td>train</td>\n",
              "      <td>34.800000</td>\n",
              "      <td>40.770000</td>\n",
              "      <td>59</td>\n",
              "      <td>44</td>\n",
              "      <td>drive/MyDrive/data/train_data/images/plume/202...</td>\n",
              "    </tr>\n",
              "  </tbody>\n",
              "</table>\n",
              "</div>\n",
              "    <div class=\"colab-df-buttons\">\n",
              "\n",
              "  <div class=\"colab-df-container\">\n",
              "    <button class=\"colab-df-convert\" onclick=\"convertToInteractive('df-8639eada-4d43-46e8-8435-db78cba030b7')\"\n",
              "            title=\"Convert this dataframe to an interactive table.\"\n",
              "            style=\"display:none;\">\n",
              "\n",
              "  <svg xmlns=\"http://www.w3.org/2000/svg\" height=\"24px\" viewBox=\"0 -960 960 960\">\n",
              "    <path d=\"M120-120v-720h720v720H120Zm60-500h600v-160H180v160Zm220 220h160v-160H400v160Zm0 220h160v-160H400v160ZM180-400h160v-160H180v160Zm440 0h160v-160H620v160ZM180-180h160v-160H180v160Zm440 0h160v-160H620v160Z\"/>\n",
              "  </svg>\n",
              "    </button>\n",
              "\n",
              "  <style>\n",
              "    .colab-df-container {\n",
              "      display:flex;\n",
              "      gap: 12px;\n",
              "    }\n",
              "\n",
              "    .colab-df-convert {\n",
              "      background-color: #E8F0FE;\n",
              "      border: none;\n",
              "      border-radius: 50%;\n",
              "      cursor: pointer;\n",
              "      display: none;\n",
              "      fill: #1967D2;\n",
              "      height: 32px;\n",
              "      padding: 0 0 0 0;\n",
              "      width: 32px;\n",
              "    }\n",
              "\n",
              "    .colab-df-convert:hover {\n",
              "      background-color: #E2EBFA;\n",
              "      box-shadow: 0px 1px 2px rgba(60, 64, 67, 0.3), 0px 1px 3px 1px rgba(60, 64, 67, 0.15);\n",
              "      fill: #174EA6;\n",
              "    }\n",
              "\n",
              "    .colab-df-buttons div {\n",
              "      margin-bottom: 4px;\n",
              "    }\n",
              "\n",
              "    [theme=dark] .colab-df-convert {\n",
              "      background-color: #3B4455;\n",
              "      fill: #D2E3FC;\n",
              "    }\n",
              "\n",
              "    [theme=dark] .colab-df-convert:hover {\n",
              "      background-color: #434B5C;\n",
              "      box-shadow: 0px 1px 3px 1px rgba(0, 0, 0, 0.15);\n",
              "      filter: drop-shadow(0px 1px 2px rgba(0, 0, 0, 0.3));\n",
              "      fill: #FFFFFF;\n",
              "    }\n",
              "  </style>\n",
              "\n",
              "    <script>\n",
              "      const buttonEl =\n",
              "        document.querySelector('#df-8639eada-4d43-46e8-8435-db78cba030b7 button.colab-df-convert');\n",
              "      buttonEl.style.display =\n",
              "        google.colab.kernel.accessAllowed ? 'block' : 'none';\n",
              "\n",
              "      async function convertToInteractive(key) {\n",
              "        const element = document.querySelector('#df-8639eada-4d43-46e8-8435-db78cba030b7');\n",
              "        const dataTable =\n",
              "          await google.colab.kernel.invokeFunction('convertToInteractive',\n",
              "                                                    [key], {});\n",
              "        if (!dataTable) return;\n",
              "\n",
              "        const docLinkHtml = 'Like what you see? Visit the ' +\n",
              "          '<a target=\"_blank\" href=https://colab.research.google.com/notebooks/data_table.ipynb>data table notebook</a>'\n",
              "          + ' to learn more about interactive tables.';\n",
              "        element.innerHTML = '';\n",
              "        dataTable['output_type'] = 'display_data';\n",
              "        await google.colab.output.renderOutput(dataTable, element);\n",
              "        const docLink = document.createElement('div');\n",
              "        docLink.innerHTML = docLinkHtml;\n",
              "        element.appendChild(docLink);\n",
              "      }\n",
              "    </script>\n",
              "  </div>\n",
              "\n",
              "\n",
              "<div id=\"df-a0f96052-2d07-431c-b3e9-e7fc0056c2f6\">\n",
              "  <button class=\"colab-df-quickchart\" onclick=\"quickchart('df-a0f96052-2d07-431c-b3e9-e7fc0056c2f6')\"\n",
              "            title=\"Suggest charts.\"\n",
              "            style=\"display:none;\">\n",
              "\n",
              "<svg xmlns=\"http://www.w3.org/2000/svg\" height=\"24px\"viewBox=\"0 0 24 24\"\n",
              "     width=\"24px\">\n",
              "    <g>\n",
              "        <path d=\"M19 3H5c-1.1 0-2 .9-2 2v14c0 1.1.9 2 2 2h14c1.1 0 2-.9 2-2V5c0-1.1-.9-2-2-2zM9 17H7v-7h2v7zm4 0h-2V7h2v10zm4 0h-2v-4h2v4z\"/>\n",
              "    </g>\n",
              "</svg>\n",
              "  </button>\n",
              "\n",
              "<style>\n",
              "  .colab-df-quickchart {\n",
              "      --bg-color: #E8F0FE;\n",
              "      --fill-color: #1967D2;\n",
              "      --hover-bg-color: #E2EBFA;\n",
              "      --hover-fill-color: #174EA6;\n",
              "      --disabled-fill-color: #AAA;\n",
              "      --disabled-bg-color: #DDD;\n",
              "  }\n",
              "\n",
              "  [theme=dark] .colab-df-quickchart {\n",
              "      --bg-color: #3B4455;\n",
              "      --fill-color: #D2E3FC;\n",
              "      --hover-bg-color: #434B5C;\n",
              "      --hover-fill-color: #FFFFFF;\n",
              "      --disabled-bg-color: #3B4455;\n",
              "      --disabled-fill-color: #666;\n",
              "  }\n",
              "\n",
              "  .colab-df-quickchart {\n",
              "    background-color: var(--bg-color);\n",
              "    border: none;\n",
              "    border-radius: 50%;\n",
              "    cursor: pointer;\n",
              "    display: none;\n",
              "    fill: var(--fill-color);\n",
              "    height: 32px;\n",
              "    padding: 0;\n",
              "    width: 32px;\n",
              "  }\n",
              "\n",
              "  .colab-df-quickchart:hover {\n",
              "    background-color: var(--hover-bg-color);\n",
              "    box-shadow: 0 1px 2px rgba(60, 64, 67, 0.3), 0 1px 3px 1px rgba(60, 64, 67, 0.15);\n",
              "    fill: var(--button-hover-fill-color);\n",
              "  }\n",
              "\n",
              "  .colab-df-quickchart-complete:disabled,\n",
              "  .colab-df-quickchart-complete:disabled:hover {\n",
              "    background-color: var(--disabled-bg-color);\n",
              "    fill: var(--disabled-fill-color);\n",
              "    box-shadow: none;\n",
              "  }\n",
              "\n",
              "  .colab-df-spinner {\n",
              "    border: 2px solid var(--fill-color);\n",
              "    border-color: transparent;\n",
              "    border-bottom-color: var(--fill-color);\n",
              "    animation:\n",
              "      spin 1s steps(1) infinite;\n",
              "  }\n",
              "\n",
              "  @keyframes spin {\n",
              "    0% {\n",
              "      border-color: transparent;\n",
              "      border-bottom-color: var(--fill-color);\n",
              "      border-left-color: var(--fill-color);\n",
              "    }\n",
              "    20% {\n",
              "      border-color: transparent;\n",
              "      border-left-color: var(--fill-color);\n",
              "      border-top-color: var(--fill-color);\n",
              "    }\n",
              "    30% {\n",
              "      border-color: transparent;\n",
              "      border-left-color: var(--fill-color);\n",
              "      border-top-color: var(--fill-color);\n",
              "      border-right-color: var(--fill-color);\n",
              "    }\n",
              "    40% {\n",
              "      border-color: transparent;\n",
              "      border-right-color: var(--fill-color);\n",
              "      border-top-color: var(--fill-color);\n",
              "    }\n",
              "    60% {\n",
              "      border-color: transparent;\n",
              "      border-right-color: var(--fill-color);\n",
              "    }\n",
              "    80% {\n",
              "      border-color: transparent;\n",
              "      border-right-color: var(--fill-color);\n",
              "      border-bottom-color: var(--fill-color);\n",
              "    }\n",
              "    90% {\n",
              "      border-color: transparent;\n",
              "      border-bottom-color: var(--fill-color);\n",
              "    }\n",
              "  }\n",
              "</style>\n",
              "\n",
              "  <script>\n",
              "    async function quickchart(key) {\n",
              "      const quickchartButtonEl =\n",
              "        document.querySelector('#' + key + ' button');\n",
              "      quickchartButtonEl.disabled = true;  // To prevent multiple clicks.\n",
              "      quickchartButtonEl.classList.add('colab-df-spinner');\n",
              "      try {\n",
              "        const charts = await google.colab.kernel.invokeFunction(\n",
              "            'suggestCharts', [key], {});\n",
              "      } catch (error) {\n",
              "        console.error('Error during call to suggestCharts:', error);\n",
              "      }\n",
              "      quickchartButtonEl.classList.remove('colab-df-spinner');\n",
              "      quickchartButtonEl.classList.add('colab-df-quickchart-complete');\n",
              "    }\n",
              "    (() => {\n",
              "      let quickchartButtonEl =\n",
              "        document.querySelector('#df-a0f96052-2d07-431c-b3e9-e7fc0056c2f6 button');\n",
              "      quickchartButtonEl.style.display =\n",
              "        google.colab.kernel.accessAllowed ? 'block' : 'none';\n",
              "    })();\n",
              "  </script>\n",
              "</div>\n",
              "    </div>\n",
              "  </div>\n"
            ]
          },
          "metadata": {},
          "execution_count": 7
        }
      ]
    },
    {
      "cell_type": "code",
      "source": [
        "# Split the data\n",
        "train_df, valid_df = train_test_split(df, test_size=0.3, random_state=42)\n",
        "val_df, test_df = train_test_split(valid_df, test_size=0.5, random_state=42)"
      ],
      "metadata": {
        "id": "G9UeITE85h-J"
      },
      "execution_count": 8,
      "outputs": []
    },
    {
      "cell_type": "markdown",
      "source": [
        "## CNN de Base"
      ],
      "metadata": {
        "id": "jyTMTnbUaBGy"
      }
    },
    {
      "cell_type": "markdown",
      "source": [
        "### preprocess"
      ],
      "metadata": {
        "id": "nScTeJ_naWmI"
      }
    },
    {
      "cell_type": "code",
      "source": [
        "# Split the data\n",
        "image_height = 224\n",
        "image_width = 224\n",
        "batch_size = 32\n",
        "num_epochs = 15\n",
        "\n",
        "\n",
        "train_df, valid_df = train_test_split(df, test_size=0.3, random_state=42)\n",
        "val_df, test_df = train_test_split(valid_df, test_size=0.5, random_state=42)\n",
        "# Load and preprocess images\n",
        "train_images = []\n",
        "train_labels = []\n",
        "\n",
        "for index, row in train_df.iterrows():\n",
        "    image = Image.open(row['path'])\n",
        "    image = image.resize((image_height, image_width))\n",
        "    image = np.array(image) / 255.0  # Rescale pixel values to [0, 1]\n",
        "    train_images.append(image)\n",
        "    train_labels.append(row['plume'])\n",
        "\n",
        "train_images = np.array(train_images)\n",
        "train_labels = np.array(train_labels)\n",
        "\n",
        "validation_images = []\n",
        "validation_labels = []\n",
        "\n",
        "for index, row in val_df.iterrows():\n",
        "    image = Image.open(row['path'])\n",
        "    image = image.resize((image_height, image_width))\n",
        "    image = np.array(image) / 255.0  # Rescale pixel values to [0, 1]\n",
        "    validation_images.append(image)\n",
        "    validation_labels.append(row['plume'])\n",
        "\n",
        "validation_images = np.array(validation_images)\n",
        "validation_labels = np.array(validation_labels)\n",
        "\n",
        "test_images = []  # Load and preprocess test images similarly\n",
        "test_labels = []\n",
        "\n",
        "for index, row in test_df.iterrows():\n",
        "    image = Image.open(row['path'])\n",
        "    image = image.resize((image_height, image_width))\n",
        "    image = np.array(image) / 255.0  # Rescale pixel values to [0, 1]\n",
        "    test_images.append(image)\n",
        "    test_labels.append(row['plume'])\n",
        "\n",
        "test_images = np.array(test_images)\n",
        "test_labels = np.array(test_labels)\n",
        "\n",
        "# Convert string labels to numerical format in your data frames\n",
        "train_df['plume'] = train_df['plume'].map({'yes': 1, 'no': 0})\n",
        "val_df['plume'] = val_df['plume'].map({'yes': 1, 'no': 0})\n",
        "test_df['plume'] = test_df['plume'].map({'yes': 1, 'no': 0})\n",
        "\n",
        "# Now convert the labels to NumPy arrays\n",
        "train_labels = np.array(train_df['plume'])\n",
        "validation_labels = np.array(val_df['plume'])\n",
        "test_labels = np.array(test_df['plume'])\n",
        "\n",
        "# Create an instance of the ImageDataGenerator\n",
        "traindatagen = ImageDataGenerator(\n",
        "    rotation_range=20,\n",
        "    width_shift_range=0.2,\n",
        "    height_shift_range=0.2,\n",
        "    shear_range=0.2,\n",
        "    zoom_range=0.2,\n",
        "    horizontal_flip=True,\n",
        "    vertical_flip=True,\n",
        "    # preprocessing_function=upscale_image,\n",
        ")\n",
        "\n",
        "valdatagen = ImageDataGenerator(\n",
        ")\n",
        "\n",
        "train_images = train_images.reshape(train_images.shape + (1,))\n",
        "train_datagen = traindatagen.flow(train_images, train_labels, batch_size=batch_size)\n",
        "validation_images = validation_images.reshape(validation_images.shape + (1,))\n",
        "validation_datagen = valdatagen.flow(validation_images, validation_labels, batch_size=batch_size)\n",
        "test_images = test_images.reshape(test_images.shape + (1,))\n",
        "test_datagen = valdatagen.flow(test_images, test_labels, batch_size=batch_size)"
      ],
      "metadata": {
        "id": "gKcy9axstIra"
      },
      "execution_count": 130,
      "outputs": []
    },
    {
      "cell_type": "markdown",
      "source": [
        "### model"
      ],
      "metadata": {
        "id": "2Vy_cJ95aM-h"
      }
    },
    {
      "cell_type": "code",
      "source": [
        "# Define the CNN model\n",
        "model = Sequential()\n",
        "\n",
        "# Convolutional layers\n",
        "model.add(Conv2D(32, (3, 3), activation='relu', input_shape=(image_height, image_width, 1)))\n",
        "model.add(MaxPooling2D(2, 2))\n",
        "\n",
        "model.add(Conv2D(64, (3, 3), activation='relu'))\n",
        "model.add(MaxPooling2D(2, 2))\n",
        "\n",
        "model.add(Conv2D(128, (3, 3), activation='relu'))\n",
        "model.add(MaxPooling2D(2, 2))\n",
        "\n",
        "# Flatten the feature maps\n",
        "model.add(Flatten())\n",
        "\n",
        "# Dense layers\n",
        "model.add(Dense(128, activation='relu'))\n",
        "model.add(Dropout(0.5))\n",
        "\n",
        "# Output layer\n",
        "model.add(Dense(1, activation='sigmoid'))\n",
        "\n",
        "# Compile the model\n",
        "model.compile(optimizer='adam', loss='binary_crossentropy', metrics=['AUC'])\n",
        "\n",
        "# Train the model\n",
        "epochs = 15  # Adjust the number of training epochs as needed\n",
        "model.fit(train_datagen, validation_data=validation_datagen, epochs=epochs)\n",
        "\n",
        "# Evaluate the model\n",
        "test_loss, test_accuracy = model.evaluate(test_datagen)\n",
        "print(\"Test accuracy:\", test_accuracy)"
      ],
      "metadata": {
        "colab": {
          "base_uri": "https://localhost:8080/"
        },
        "id": "uDdKdt-274iV",
        "outputId": "1aa9cd9e-427c-438e-c6a8-b1e85c6ab514"
      },
      "execution_count": 29,
      "outputs": [
        {
          "output_type": "stream",
          "name": "stdout",
          "text": [
            "Epoch 1/15\n",
            "16/16 [==============================] - 43s 3s/step - loss: 0.8047 - auc: 0.4781 - val_loss: 0.7124 - val_auc: 0.7472\n",
            "Epoch 2/15\n",
            "16/16 [==============================] - 39s 2s/step - loss: 0.6881 - auc: 0.5669 - val_loss: 0.6895 - val_auc: 0.8610\n",
            "Epoch 3/15\n",
            "16/16 [==============================] - 40s 2s/step - loss: 0.6693 - auc: 0.6793 - val_loss: 0.6887 - val_auc: 0.8190\n",
            "Epoch 4/15\n",
            "16/16 [==============================] - 41s 3s/step - loss: 0.6712 - auc: 0.6691 - val_loss: 0.7020 - val_auc: 0.8590\n",
            "Epoch 5/15\n",
            "16/16 [==============================] - 41s 3s/step - loss: 0.6702 - auc: 0.6840 - val_loss: 0.7154 - val_auc: 0.8303\n",
            "Epoch 6/15\n",
            "16/16 [==============================] - 39s 2s/step - loss: 0.6455 - auc: 0.7764 - val_loss: 0.6513 - val_auc: 0.9159\n",
            "Epoch 7/15\n",
            "16/16 [==============================] - 39s 2s/step - loss: 0.6345 - auc: 0.7772 - val_loss: 0.6512 - val_auc: 0.8933\n",
            "Epoch 8/15\n",
            "16/16 [==============================] - 40s 2s/step - loss: 0.6255 - auc: 0.7937 - val_loss: 0.6891 - val_auc: 0.8779\n",
            "Epoch 9/15\n",
            "16/16 [==============================] - 43s 3s/step - loss: 0.5931 - auc: 0.8139 - val_loss: 0.7629 - val_auc: 0.8692\n",
            "Epoch 10/15\n",
            "16/16 [==============================] - 38s 2s/step - loss: 0.6447 - auc: 0.7051 - val_loss: 0.6100 - val_auc: 0.8944\n",
            "Epoch 11/15\n",
            "16/16 [==============================] - 38s 2s/step - loss: 0.6220 - auc: 0.7706 - val_loss: 0.6299 - val_auc: 0.8728\n",
            "Epoch 12/15\n",
            "16/16 [==============================] - 39s 2s/step - loss: 0.6139 - auc: 0.7728 - val_loss: 0.6170 - val_auc: 0.8564\n",
            "Epoch 13/15\n",
            "16/16 [==============================] - 41s 2s/step - loss: 0.5372 - auc: 0.8199 - val_loss: 0.4505 - val_auc: 0.8923\n",
            "Epoch 14/15\n",
            "16/16 [==============================] - 40s 2s/step - loss: 0.5152 - auc: 0.8299 - val_loss: 0.4951 - val_auc: 0.9256\n",
            "Epoch 15/15\n",
            "16/16 [==============================] - 43s 3s/step - loss: 0.5222 - auc: 0.8401 - val_loss: 0.5483 - val_auc: 0.8867\n",
            "4/4 [==============================] - 2s 398ms/step - loss: 0.6727 - auc: 0.8145\n",
            "Test accuracy: 0.8145161271095276\n"
          ]
        }
      ]
    },
    {
      "cell_type": "markdown",
      "source": [
        "## EfficientNet"
      ],
      "metadata": {
        "id": "7Iy1exSKEa7m"
      }
    },
    {
      "cell_type": "code",
      "source": [
        "# Split the data\n",
        "image_height = 224\n",
        "image_width = 224\n",
        "batch_size = 32\n",
        "num_epochs = 10\n",
        "\n",
        "\n",
        "train_df, valid_df = train_test_split(df, test_size=0.3, random_state=42)\n",
        "val_df, test_df = train_test_split(valid_df, test_size=0.5, random_state=42)\n",
        "# Load and preprocess images\n",
        "train_images = []\n",
        "train_labels = []\n",
        "\n",
        "for index, row in train_df.iterrows():\n",
        "    image = Image.open(row['path'])\n",
        "    image = image.convert('RGB')  # Convert the image to RGB format (3 channels)\n",
        "    image = image.resize((image_height, image_width))\n",
        "    image = np.array(image) / 255.0  # Rescale pixel values to [0, 1]\n",
        "    train_images.append(image)\n",
        "    train_labels.append(row['plume'])\n",
        "\n",
        "train_images = np.array(train_images)\n",
        "train_labels = np.array(train_labels)\n",
        "\n",
        "validation_images = []\n",
        "validation_labels = []\n",
        "\n",
        "for index, row in val_df.iterrows():\n",
        "    image = Image.open(row['path'])\n",
        "    image = image.convert('RGB')  # Convert the image to RGB format (3 channels)\n",
        "    image = image.resize((image_height, image_width))\n",
        "    image = np.array(image) / 255.0  # Rescale pixel values to [0, 1]\n",
        "    validation_images.append(image)\n",
        "    validation_labels.append(row['plume'])\n",
        "\n",
        "validation_images = np.array(validation_images)\n",
        "validation_labels = np.array(validation_labels)\n",
        "\n",
        "test_images = []  # Load and preprocess test images similarly\n",
        "test_labels = []\n",
        "\n",
        "for index, row in test_df.iterrows():\n",
        "    image = Image.open(row['path'])\n",
        "    image = image.convert('RGB')  # Convert the image to RGB format (3 channels)\n",
        "    image = image.resize((image_height, image_width))\n",
        "    image = np.array(image) / 255.0  # Rescale pixel values to [0, 1]\n",
        "    test_images.append(image)\n",
        "    test_labels.append(row['plume'])\n",
        "\n",
        "test_images = np.array(test_images)\n",
        "test_labels = np.array(test_labels)\n",
        "\n",
        "# Convert string labels to numerical format in your data frames\n",
        "train_df['plume'] = train_df['plume'].map({'yes': 1, 'no': 0})\n",
        "val_df['plume'] = val_df['plume'].map({'yes': 1, 'no': 0})\n",
        "test_df['plume'] = test_df['plume'].map({'yes': 1, 'no': 0})\n",
        "\n",
        "# Now convert the labels to NumPy arrays\n",
        "train_labels = np.array(train_df['plume'])\n",
        "validation_labels = np.array(val_df['plume'])\n",
        "test_labels = np.array(test_df['plume'])\n",
        "\n",
        "# Create an instance of the ImageDataGenerator\n",
        "traindatagen = ImageDataGenerator(\n",
        "    rotation_range=20,\n",
        "    width_shift_range=0.2,\n",
        "    height_shift_range=0.2,\n",
        "    shear_range=0.2,\n",
        "    zoom_range=0.2,\n",
        "    horizontal_flip=True,\n",
        "    vertical_flip=True,\n",
        "    # preprocessing_function=upscale_image,\n",
        ")\n",
        "\n",
        "valdatagen = ImageDataGenerator(\n",
        ")\n",
        "\n",
        "# train_images = train_images.reshape(train_images.shape + (1,))\n",
        "train_datagen = traindatagen.flow(train_images, train_labels, batch_size=batch_size)\n",
        "# validation_images = validation_images.reshape(validation_images.shape + (1,))\n",
        "validation_datagen = valdatagen.flow(validation_images, validation_labels, batch_size=batch_size)\n",
        "# test_images = test_images.reshape(test_images.shape + (1,))\n",
        "test_datagen = valdatagen.flow(test_images, test_labels, batch_size=batch_size)"
      ],
      "metadata": {
        "id": "ai0J0GrjEjja"
      },
      "execution_count": 157,
      "outputs": []
    },
    {
      "cell_type": "code",
      "source": [
        "def build_model():\n",
        "    inputs = layers.Input(shape=(224, 224, 3))\n",
        "    model = EfficientNetB0(include_top=False, input_tensor=inputs, weights=\"imagenet\")\n",
        "\n",
        "    # Freeze the pretrained weights\n",
        "    model.trainable = False\n",
        "\n",
        "    # Rebuild top\n",
        "    x = layers.GlobalAveragePooling2D(name=\"avg_pool\")(model.output)\n",
        "    # x = layers.BatchNormalization()(x)\n",
        "\n",
        "    top_dropout_rate = 0.2\n",
        "    x = layers.Dropout(top_dropout_rate, name=\"top_dropout\")(x)\n",
        "    outputs = layers.Dense(1, activation=\"sigmoid\", name=\"pred\")(x)\n",
        "\n",
        "    # Compile\n",
        "    model = tf.keras.Model(inputs, outputs, name=\"EfficientNet\")\n",
        "    optimizer = tf.keras.optimizers.Adam(learning_rate=1e-2)\n",
        "    model.compile(\n",
        "        optimizer=optimizer, loss=\"binary_crossentropy\", metrics=[\"AUC\"]\n",
        "    )\n",
        "    return model\n",
        "\n",
        "model = build_model()\n",
        "\n",
        "epochs = 10\n",
        "hist = model.fit(train_datagen, epochs=epochs, validation_data=validation_datagen, verbose=2)"
      ],
      "metadata": {
        "colab": {
          "base_uri": "https://localhost:8080/",
          "height": 616
        },
        "id": "brWVPHGQFOJD",
        "outputId": "180db454-9dc4-4361-b129-a376a3de1a41"
      },
      "execution_count": 161,
      "outputs": [
        {
          "output_type": "stream",
          "name": "stdout",
          "text": [
            "Epoch 1/10\n",
            "10/10 - 42s - loss: 0.7014 - auc: 0.4633 - val_loss: 0.6830 - val_auc: 0.5000 - 42s/epoch - 4s/step\n",
            "Epoch 2/10\n",
            "10/10 - 31s - loss: 0.7099 - auc: 0.4368 - val_loss: 0.7193 - val_auc: 0.5513 - 31s/epoch - 3s/step\n",
            "Epoch 3/10\n",
            "10/10 - 32s - loss: 0.6939 - auc: 0.5028 - val_loss: 0.6909 - val_auc: 0.5344 - 32s/epoch - 3s/step\n",
            "Epoch 4/10\n",
            "10/10 - 34s - loss: 0.6948 - auc: 0.5025 - val_loss: 0.7012 - val_auc: 0.5262 - 34s/epoch - 3s/step\n",
            "Epoch 5/10\n",
            "10/10 - 32s - loss: 0.6974 - auc: 0.4824 - val_loss: 0.7085 - val_auc: 0.4831 - 32s/epoch - 3s/step\n",
            "Epoch 6/10\n",
            "10/10 - 30s - loss: 0.6921 - auc: 0.5190 - val_loss: 0.6982 - val_auc: 0.4903 - 30s/epoch - 3s/step\n",
            "Epoch 7/10\n",
            "10/10 - 32s - loss: 0.6993 - auc: 0.4739 - val_loss: 0.7237 - val_auc: 0.5200 - 32s/epoch - 3s/step\n",
            "Epoch 8/10\n"
          ]
        },
        {
          "output_type": "error",
          "ename": "KeyboardInterrupt",
          "evalue": "ignored",
          "traceback": [
            "\u001b[0;31m---------------------------------------------------------------------------\u001b[0m",
            "\u001b[0;31mKeyboardInterrupt\u001b[0m                         Traceback (most recent call last)",
            "\u001b[0;32m<ipython-input-161-13a0da718b1e>\u001b[0m in \u001b[0;36m<cell line: 27>\u001b[0;34m()\u001b[0m\n\u001b[1;32m     25\u001b[0m \u001b[0;34m\u001b[0m\u001b[0m\n\u001b[1;32m     26\u001b[0m \u001b[0mepochs\u001b[0m \u001b[0;34m=\u001b[0m \u001b[0;36m10\u001b[0m\u001b[0;34m\u001b[0m\u001b[0;34m\u001b[0m\u001b[0m\n\u001b[0;32m---> 27\u001b[0;31m \u001b[0mhist\u001b[0m \u001b[0;34m=\u001b[0m \u001b[0mmodel\u001b[0m\u001b[0;34m.\u001b[0m\u001b[0mfit\u001b[0m\u001b[0;34m(\u001b[0m\u001b[0mtrain_datagen\u001b[0m\u001b[0;34m,\u001b[0m \u001b[0mepochs\u001b[0m\u001b[0;34m=\u001b[0m\u001b[0mepochs\u001b[0m\u001b[0;34m,\u001b[0m \u001b[0mvalidation_data\u001b[0m\u001b[0;34m=\u001b[0m\u001b[0mvalidation_datagen\u001b[0m\u001b[0;34m,\u001b[0m \u001b[0mverbose\u001b[0m\u001b[0;34m=\u001b[0m\u001b[0;36m2\u001b[0m\u001b[0;34m)\u001b[0m\u001b[0;34m\u001b[0m\u001b[0;34m\u001b[0m\u001b[0m\n\u001b[0m",
            "\u001b[0;32m/usr/local/lib/python3.10/dist-packages/keras/src/utils/traceback_utils.py\u001b[0m in \u001b[0;36merror_handler\u001b[0;34m(*args, **kwargs)\u001b[0m\n\u001b[1;32m     63\u001b[0m         \u001b[0mfiltered_tb\u001b[0m \u001b[0;34m=\u001b[0m \u001b[0;32mNone\u001b[0m\u001b[0;34m\u001b[0m\u001b[0;34m\u001b[0m\u001b[0m\n\u001b[1;32m     64\u001b[0m         \u001b[0;32mtry\u001b[0m\u001b[0;34m:\u001b[0m\u001b[0;34m\u001b[0m\u001b[0;34m\u001b[0m\u001b[0m\n\u001b[0;32m---> 65\u001b[0;31m             \u001b[0;32mreturn\u001b[0m \u001b[0mfn\u001b[0m\u001b[0;34m(\u001b[0m\u001b[0;34m*\u001b[0m\u001b[0margs\u001b[0m\u001b[0;34m,\u001b[0m \u001b[0;34m**\u001b[0m\u001b[0mkwargs\u001b[0m\u001b[0;34m)\u001b[0m\u001b[0;34m\u001b[0m\u001b[0;34m\u001b[0m\u001b[0m\n\u001b[0m\u001b[1;32m     66\u001b[0m         \u001b[0;32mexcept\u001b[0m \u001b[0mException\u001b[0m \u001b[0;32mas\u001b[0m \u001b[0me\u001b[0m\u001b[0;34m:\u001b[0m\u001b[0;34m\u001b[0m\u001b[0;34m\u001b[0m\u001b[0m\n\u001b[1;32m     67\u001b[0m             \u001b[0mfiltered_tb\u001b[0m \u001b[0;34m=\u001b[0m \u001b[0m_process_traceback_frames\u001b[0m\u001b[0;34m(\u001b[0m\u001b[0me\u001b[0m\u001b[0;34m.\u001b[0m\u001b[0m__traceback__\u001b[0m\u001b[0;34m)\u001b[0m\u001b[0;34m\u001b[0m\u001b[0;34m\u001b[0m\u001b[0m\n",
            "\u001b[0;32m/usr/local/lib/python3.10/dist-packages/keras/src/engine/training.py\u001b[0m in \u001b[0;36mfit\u001b[0;34m(self, x, y, batch_size, epochs, verbose, callbacks, validation_split, validation_data, shuffle, class_weight, sample_weight, initial_epoch, steps_per_epoch, validation_steps, validation_batch_size, validation_freq, max_queue_size, workers, use_multiprocessing)\u001b[0m\n\u001b[1;32m   1740\u001b[0m                         ):\n\u001b[1;32m   1741\u001b[0m                             \u001b[0mcallbacks\u001b[0m\u001b[0;34m.\u001b[0m\u001b[0mon_train_batch_begin\u001b[0m\u001b[0;34m(\u001b[0m\u001b[0mstep\u001b[0m\u001b[0;34m)\u001b[0m\u001b[0;34m\u001b[0m\u001b[0;34m\u001b[0m\u001b[0m\n\u001b[0;32m-> 1742\u001b[0;31m                             \u001b[0mtmp_logs\u001b[0m \u001b[0;34m=\u001b[0m \u001b[0mself\u001b[0m\u001b[0;34m.\u001b[0m\u001b[0mtrain_function\u001b[0m\u001b[0;34m(\u001b[0m\u001b[0miterator\u001b[0m\u001b[0;34m)\u001b[0m\u001b[0;34m\u001b[0m\u001b[0;34m\u001b[0m\u001b[0m\n\u001b[0m\u001b[1;32m   1743\u001b[0m                             \u001b[0;32mif\u001b[0m \u001b[0mdata_handler\u001b[0m\u001b[0;34m.\u001b[0m\u001b[0mshould_sync\u001b[0m\u001b[0;34m:\u001b[0m\u001b[0;34m\u001b[0m\u001b[0;34m\u001b[0m\u001b[0m\n\u001b[1;32m   1744\u001b[0m                                 \u001b[0mcontext\u001b[0m\u001b[0;34m.\u001b[0m\u001b[0masync_wait\u001b[0m\u001b[0;34m(\u001b[0m\u001b[0;34m)\u001b[0m\u001b[0;34m\u001b[0m\u001b[0;34m\u001b[0m\u001b[0m\n",
            "\u001b[0;32m/usr/local/lib/python3.10/dist-packages/tensorflow/python/util/traceback_utils.py\u001b[0m in \u001b[0;36merror_handler\u001b[0;34m(*args, **kwargs)\u001b[0m\n\u001b[1;32m    148\u001b[0m     \u001b[0mfiltered_tb\u001b[0m \u001b[0;34m=\u001b[0m \u001b[0;32mNone\u001b[0m\u001b[0;34m\u001b[0m\u001b[0;34m\u001b[0m\u001b[0m\n\u001b[1;32m    149\u001b[0m     \u001b[0;32mtry\u001b[0m\u001b[0;34m:\u001b[0m\u001b[0;34m\u001b[0m\u001b[0;34m\u001b[0m\u001b[0m\n\u001b[0;32m--> 150\u001b[0;31m       \u001b[0;32mreturn\u001b[0m \u001b[0mfn\u001b[0m\u001b[0;34m(\u001b[0m\u001b[0;34m*\u001b[0m\u001b[0margs\u001b[0m\u001b[0;34m,\u001b[0m \u001b[0;34m**\u001b[0m\u001b[0mkwargs\u001b[0m\u001b[0;34m)\u001b[0m\u001b[0;34m\u001b[0m\u001b[0;34m\u001b[0m\u001b[0m\n\u001b[0m\u001b[1;32m    151\u001b[0m     \u001b[0;32mexcept\u001b[0m \u001b[0mException\u001b[0m \u001b[0;32mas\u001b[0m \u001b[0me\u001b[0m\u001b[0;34m:\u001b[0m\u001b[0;34m\u001b[0m\u001b[0;34m\u001b[0m\u001b[0m\n\u001b[1;32m    152\u001b[0m       \u001b[0mfiltered_tb\u001b[0m \u001b[0;34m=\u001b[0m \u001b[0m_process_traceback_frames\u001b[0m\u001b[0;34m(\u001b[0m\u001b[0me\u001b[0m\u001b[0;34m.\u001b[0m\u001b[0m__traceback__\u001b[0m\u001b[0;34m)\u001b[0m\u001b[0;34m\u001b[0m\u001b[0;34m\u001b[0m\u001b[0m\n",
            "\u001b[0;32m/usr/local/lib/python3.10/dist-packages/tensorflow/python/eager/polymorphic_function/polymorphic_function.py\u001b[0m in \u001b[0;36m__call__\u001b[0;34m(self, *args, **kwds)\u001b[0m\n\u001b[1;32m    823\u001b[0m \u001b[0;34m\u001b[0m\u001b[0m\n\u001b[1;32m    824\u001b[0m       \u001b[0;32mwith\u001b[0m \u001b[0mOptionalXlaContext\u001b[0m\u001b[0;34m(\u001b[0m\u001b[0mself\u001b[0m\u001b[0;34m.\u001b[0m\u001b[0m_jit_compile\u001b[0m\u001b[0;34m)\u001b[0m\u001b[0;34m:\u001b[0m\u001b[0;34m\u001b[0m\u001b[0;34m\u001b[0m\u001b[0m\n\u001b[0;32m--> 825\u001b[0;31m         \u001b[0mresult\u001b[0m \u001b[0;34m=\u001b[0m \u001b[0mself\u001b[0m\u001b[0;34m.\u001b[0m\u001b[0m_call\u001b[0m\u001b[0;34m(\u001b[0m\u001b[0;34m*\u001b[0m\u001b[0margs\u001b[0m\u001b[0;34m,\u001b[0m \u001b[0;34m**\u001b[0m\u001b[0mkwds\u001b[0m\u001b[0;34m)\u001b[0m\u001b[0;34m\u001b[0m\u001b[0;34m\u001b[0m\u001b[0m\n\u001b[0m\u001b[1;32m    826\u001b[0m \u001b[0;34m\u001b[0m\u001b[0m\n\u001b[1;32m    827\u001b[0m       \u001b[0mnew_tracing_count\u001b[0m \u001b[0;34m=\u001b[0m \u001b[0mself\u001b[0m\u001b[0;34m.\u001b[0m\u001b[0mexperimental_get_tracing_count\u001b[0m\u001b[0;34m(\u001b[0m\u001b[0;34m)\u001b[0m\u001b[0;34m\u001b[0m\u001b[0;34m\u001b[0m\u001b[0m\n",
            "\u001b[0;32m/usr/local/lib/python3.10/dist-packages/tensorflow/python/eager/polymorphic_function/polymorphic_function.py\u001b[0m in \u001b[0;36m_call\u001b[0;34m(self, *args, **kwds)\u001b[0m\n\u001b[1;32m    855\u001b[0m       \u001b[0;31m# In this case we have created variables on the first call, so we run the\u001b[0m\u001b[0;34m\u001b[0m\u001b[0;34m\u001b[0m\u001b[0m\n\u001b[1;32m    856\u001b[0m       \u001b[0;31m# defunned version which is guaranteed to never create variables.\u001b[0m\u001b[0;34m\u001b[0m\u001b[0;34m\u001b[0m\u001b[0m\n\u001b[0;32m--> 857\u001b[0;31m       \u001b[0;32mreturn\u001b[0m \u001b[0mself\u001b[0m\u001b[0;34m.\u001b[0m\u001b[0m_no_variable_creation_fn\u001b[0m\u001b[0;34m(\u001b[0m\u001b[0;34m*\u001b[0m\u001b[0margs\u001b[0m\u001b[0;34m,\u001b[0m \u001b[0;34m**\u001b[0m\u001b[0mkwds\u001b[0m\u001b[0;34m)\u001b[0m  \u001b[0;31m# pylint: disable=not-callable\u001b[0m\u001b[0;34m\u001b[0m\u001b[0;34m\u001b[0m\u001b[0m\n\u001b[0m\u001b[1;32m    858\u001b[0m     \u001b[0;32melif\u001b[0m \u001b[0mself\u001b[0m\u001b[0;34m.\u001b[0m\u001b[0m_variable_creation_fn\u001b[0m \u001b[0;32mis\u001b[0m \u001b[0;32mnot\u001b[0m \u001b[0;32mNone\u001b[0m\u001b[0;34m:\u001b[0m\u001b[0;34m\u001b[0m\u001b[0;34m\u001b[0m\u001b[0m\n\u001b[1;32m    859\u001b[0m       \u001b[0;31m# Release the lock early so that multiple threads can perform the call\u001b[0m\u001b[0;34m\u001b[0m\u001b[0;34m\u001b[0m\u001b[0m\n",
            "\u001b[0;32m/usr/local/lib/python3.10/dist-packages/tensorflow/python/eager/polymorphic_function/tracing_compiler.py\u001b[0m in \u001b[0;36m__call__\u001b[0;34m(self, *args, **kwargs)\u001b[0m\n\u001b[1;32m    146\u001b[0m       (concrete_function,\n\u001b[1;32m    147\u001b[0m        filtered_flat_args) = self._maybe_define_function(args, kwargs)\n\u001b[0;32m--> 148\u001b[0;31m     return concrete_function._call_flat(\n\u001b[0m\u001b[1;32m    149\u001b[0m         filtered_flat_args, captured_inputs=concrete_function.captured_inputs)  # pylint: disable=protected-access\n\u001b[1;32m    150\u001b[0m \u001b[0;34m\u001b[0m\u001b[0m\n",
            "\u001b[0;32m/usr/local/lib/python3.10/dist-packages/tensorflow/python/eager/polymorphic_function/monomorphic_function.py\u001b[0m in \u001b[0;36m_call_flat\u001b[0;34m(self, args, captured_inputs)\u001b[0m\n\u001b[1;32m   1347\u001b[0m         and executing_eagerly):\n\u001b[1;32m   1348\u001b[0m       \u001b[0;31m# No tape is watching; skip to running the function.\u001b[0m\u001b[0;34m\u001b[0m\u001b[0;34m\u001b[0m\u001b[0m\n\u001b[0;32m-> 1349\u001b[0;31m       \u001b[0;32mreturn\u001b[0m \u001b[0mself\u001b[0m\u001b[0;34m.\u001b[0m\u001b[0m_build_call_outputs\u001b[0m\u001b[0;34m(\u001b[0m\u001b[0mself\u001b[0m\u001b[0;34m.\u001b[0m\u001b[0m_inference_function\u001b[0m\u001b[0;34m(\u001b[0m\u001b[0;34m*\u001b[0m\u001b[0margs\u001b[0m\u001b[0;34m)\u001b[0m\u001b[0;34m)\u001b[0m\u001b[0;34m\u001b[0m\u001b[0;34m\u001b[0m\u001b[0m\n\u001b[0m\u001b[1;32m   1350\u001b[0m     forward_backward = self._select_forward_and_backward_functions(\n\u001b[1;32m   1351\u001b[0m         \u001b[0margs\u001b[0m\u001b[0;34m,\u001b[0m\u001b[0;34m\u001b[0m\u001b[0;34m\u001b[0m\u001b[0m\n",
            "\u001b[0;32m/usr/local/lib/python3.10/dist-packages/tensorflow/python/eager/polymorphic_function/atomic_function.py\u001b[0m in \u001b[0;36m__call__\u001b[0;34m(self, *args)\u001b[0m\n\u001b[1;32m    194\u001b[0m         \u001b[0;32mwith\u001b[0m \u001b[0mrecord\u001b[0m\u001b[0;34m.\u001b[0m\u001b[0mstop_recording\u001b[0m\u001b[0;34m(\u001b[0m\u001b[0;34m)\u001b[0m\u001b[0;34m:\u001b[0m\u001b[0;34m\u001b[0m\u001b[0;34m\u001b[0m\u001b[0m\n\u001b[1;32m    195\u001b[0m           \u001b[0;32mif\u001b[0m \u001b[0mself\u001b[0m\u001b[0;34m.\u001b[0m\u001b[0m_bound_context\u001b[0m\u001b[0;34m.\u001b[0m\u001b[0mexecuting_eagerly\u001b[0m\u001b[0;34m(\u001b[0m\u001b[0;34m)\u001b[0m\u001b[0;34m:\u001b[0m\u001b[0;34m\u001b[0m\u001b[0;34m\u001b[0m\u001b[0m\n\u001b[0;32m--> 196\u001b[0;31m             outputs = self._bound_context.call_function(\n\u001b[0m\u001b[1;32m    197\u001b[0m                 \u001b[0mself\u001b[0m\u001b[0;34m.\u001b[0m\u001b[0mname\u001b[0m\u001b[0;34m,\u001b[0m\u001b[0;34m\u001b[0m\u001b[0;34m\u001b[0m\u001b[0m\n\u001b[1;32m    198\u001b[0m                 \u001b[0mlist\u001b[0m\u001b[0;34m(\u001b[0m\u001b[0margs\u001b[0m\u001b[0;34m)\u001b[0m\u001b[0;34m,\u001b[0m\u001b[0;34m\u001b[0m\u001b[0;34m\u001b[0m\u001b[0m\n",
            "\u001b[0;32m/usr/local/lib/python3.10/dist-packages/tensorflow/python/eager/context.py\u001b[0m in \u001b[0;36mcall_function\u001b[0;34m(self, name, tensor_inputs, num_outputs)\u001b[0m\n\u001b[1;32m   1455\u001b[0m     \u001b[0mcancellation_context\u001b[0m \u001b[0;34m=\u001b[0m \u001b[0mcancellation\u001b[0m\u001b[0;34m.\u001b[0m\u001b[0mcontext\u001b[0m\u001b[0;34m(\u001b[0m\u001b[0;34m)\u001b[0m\u001b[0;34m\u001b[0m\u001b[0;34m\u001b[0m\u001b[0m\n\u001b[1;32m   1456\u001b[0m     \u001b[0;32mif\u001b[0m \u001b[0mcancellation_context\u001b[0m \u001b[0;32mis\u001b[0m \u001b[0;32mNone\u001b[0m\u001b[0;34m:\u001b[0m\u001b[0;34m\u001b[0m\u001b[0;34m\u001b[0m\u001b[0m\n\u001b[0;32m-> 1457\u001b[0;31m       outputs = execute.execute(\n\u001b[0m\u001b[1;32m   1458\u001b[0m           \u001b[0mname\u001b[0m\u001b[0;34m.\u001b[0m\u001b[0mdecode\u001b[0m\u001b[0;34m(\u001b[0m\u001b[0;34m\"utf-8\"\u001b[0m\u001b[0;34m)\u001b[0m\u001b[0;34m,\u001b[0m\u001b[0;34m\u001b[0m\u001b[0;34m\u001b[0m\u001b[0m\n\u001b[1;32m   1459\u001b[0m           \u001b[0mnum_outputs\u001b[0m\u001b[0;34m=\u001b[0m\u001b[0mnum_outputs\u001b[0m\u001b[0;34m,\u001b[0m\u001b[0;34m\u001b[0m\u001b[0;34m\u001b[0m\u001b[0m\n",
            "\u001b[0;32m/usr/local/lib/python3.10/dist-packages/tensorflow/python/eager/execute.py\u001b[0m in \u001b[0;36mquick_execute\u001b[0;34m(op_name, num_outputs, inputs, attrs, ctx, name)\u001b[0m\n\u001b[1;32m     51\u001b[0m   \u001b[0;32mtry\u001b[0m\u001b[0;34m:\u001b[0m\u001b[0;34m\u001b[0m\u001b[0;34m\u001b[0m\u001b[0m\n\u001b[1;32m     52\u001b[0m     \u001b[0mctx\u001b[0m\u001b[0;34m.\u001b[0m\u001b[0mensure_initialized\u001b[0m\u001b[0;34m(\u001b[0m\u001b[0;34m)\u001b[0m\u001b[0;34m\u001b[0m\u001b[0;34m\u001b[0m\u001b[0m\n\u001b[0;32m---> 53\u001b[0;31m     tensors = pywrap_tfe.TFE_Py_Execute(ctx._handle, device_name, op_name,\n\u001b[0m\u001b[1;32m     54\u001b[0m                                         inputs, attrs, num_outputs)\n\u001b[1;32m     55\u001b[0m   \u001b[0;32mexcept\u001b[0m \u001b[0mcore\u001b[0m\u001b[0;34m.\u001b[0m\u001b[0m_NotOkStatusException\u001b[0m \u001b[0;32mas\u001b[0m \u001b[0me\u001b[0m\u001b[0;34m:\u001b[0m\u001b[0;34m\u001b[0m\u001b[0;34m\u001b[0m\u001b[0m\n",
            "\u001b[0;31mKeyboardInterrupt\u001b[0m: "
          ]
        }
      ]
    },
    {
      "cell_type": "code",
      "source": [
        "test_loss, test_accuracy = model.evaluate(test_images, test_labels)\n",
        "model.save('EfficientNet1.h5')"
      ],
      "metadata": {
        "id": "l4Qmgdn6GecW"
      },
      "execution_count": null,
      "outputs": []
    },
    {
      "cell_type": "markdown",
      "source": [
        "## VGG"
      ],
      "metadata": {
        "id": "Zv6WItLSA9DK"
      }
    },
    {
      "cell_type": "code",
      "source": [
        "# Split the data\n",
        "image_height = 224\n",
        "image_width = 224\n",
        "batch_size = 32\n",
        "num_epochs = 10\n",
        "\n",
        "\n",
        "train_df, valid_df = train_test_split(df, test_size=0.3, random_state=42)\n",
        "val_df, test_df = train_test_split(valid_df, test_size=0.5, random_state=42)\n",
        "# Load and preprocess images\n",
        "train_images = []\n",
        "train_labels = []\n",
        "\n",
        "for index, row in train_df.iterrows():\n",
        "    image = Image.open(row['path'])\n",
        "    image = image.convert('RGB')  # Convert the image to RGB format (3 channels)\n",
        "    image = image.resize((image_height, image_width))\n",
        "    image = np.array(image) / 255.0  # Rescale pixel values to [0, 1]\n",
        "    train_images.append(image)\n",
        "    train_labels.append(row['plume'])\n",
        "\n",
        "train_images = np.array(train_images)\n",
        "train_labels = np.array(train_labels)\n",
        "\n",
        "validation_images = []\n",
        "validation_labels = []\n",
        "\n",
        "for index, row in val_df.iterrows():\n",
        "    image = Image.open(row['path'])\n",
        "    image = image.convert('RGB')  # Convert the image to RGB format (3 channels)\n",
        "    image = image.resize((image_height, image_width))\n",
        "    image = np.array(image) / 255.0  # Rescale pixel values to [0, 1]\n",
        "    validation_images.append(image)\n",
        "    validation_labels.append(row['plume'])\n",
        "\n",
        "validation_images = np.array(validation_images)\n",
        "validation_labels = np.array(validation_labels)\n",
        "\n",
        "test_images = []  # Load and preprocess test images similarly\n",
        "test_labels = []\n",
        "\n",
        "for index, row in test_df.iterrows():\n",
        "    image = Image.open(row['path'])\n",
        "    image = image.convert('RGB')  # Convert the image to RGB format (3 channels)\n",
        "    image = image.resize((image_height, image_width))\n",
        "    image = np.array(image) / 255.0  # Rescale pixel values to [0, 1]\n",
        "    test_images.append(image)\n",
        "    test_labels.append(row['plume'])\n",
        "\n",
        "test_images = np.array(test_images)\n",
        "test_labels = np.array(test_labels)\n",
        "\n",
        "# Convert string labels to numerical format in your data frames\n",
        "train_df['plume'] = train_df['plume'].map({'yes': 1, 'no': 0})\n",
        "val_df['plume'] = val_df['plume'].map({'yes': 1, 'no': 0})\n",
        "test_df['plume'] = test_df['plume'].map({'yes': 1, 'no': 0})\n",
        "\n",
        "# Now convert the labels to NumPy arrays\n",
        "train_labels = np.array(train_df['plume'])\n",
        "validation_labels = np.array(val_df['plume'])\n",
        "test_labels = np.array(test_df['plume'])\n",
        "\n",
        "# Create an instance of the ImageDataGenerator\n",
        "traindatagen = ImageDataGenerator(\n",
        "    rotation_range=20,\n",
        "    width_shift_range=0.2,\n",
        "    height_shift_range=0.2,\n",
        "    shear_range=0.2,\n",
        "    zoom_range=0.2,\n",
        "    horizontal_flip=True,\n",
        "    vertical_flip=True,\n",
        "    # preprocessing_function=upscale_image,\n",
        ")\n",
        "\n",
        "valdatagen = ImageDataGenerator(\n",
        ")\n",
        "\n",
        "# train_images = train_images.reshape(train_images.shape + (1,))\n",
        "train_datagen = traindatagen.flow(train_images, train_labels, batch_size=batch_size)\n",
        "# validation_images = validation_images.reshape(validation_images.shape + (1,))\n",
        "validation_datagen = valdatagen.flow(validation_images, validation_labels, batch_size=batch_size)\n",
        "# test_images = test_images.reshape(test_images.shape + (1,))\n",
        "test_datagen = valdatagen.flow(test_images, test_labels, batch_size=batch_size)"
      ],
      "metadata": {
        "id": "BRv1B2VEA6bw"
      },
      "execution_count": null,
      "outputs": []
    },
    {
      "cell_type": "code",
      "source": [
        "# Load the pre-trained EfficientNetB0 model\n",
        "pretrained_model = VGG16(weights='imagenet', include_top=False, input_shape=(224, 224, 3))\n",
        "\n",
        "model = Sequential()\n",
        "model.add(pretrained_model)\n",
        "model.add(Flatten())\n",
        "model.add(Dense(256, activation='relu'))\n",
        "model.add(Dense(1, activation='sigmoid'))\n",
        "\n",
        "# Freeze the pre-trained layers for fine-tuning\n",
        "for layer in pretrained_model.layers:\n",
        "    layer.trainable = False\n",
        "\n",
        "\n",
        "model.compile(optimizer='adam', loss='binary_crossentropy', metrics=['AUC'])\n",
        "\n",
        "history = model.fit(train_datagen,\n",
        "                    validation_data=validation_datagen,\n",
        "                    epochs=num_epochs)\n",
        "\n",
        "test_loss, test_accuracy = model.evaluate(test_images, test_labels)"
      ],
      "metadata": {
        "colab": {
          "base_uri": "https://localhost:8080/"
        },
        "id": "3wgYnBPqvRNm",
        "outputId": "2c12baf0-dfda-4419-a32b-01c8349d8f83"
      },
      "execution_count": 134,
      "outputs": [
        {
          "output_type": "stream",
          "name": "stdout",
          "text": [
            "Epoch 1/10\n",
            "10/10 [==============================] - 240s 24s/step - loss: 2.5856 - auc: 0.5409 - val_loss: 3.1383 - val_auc: 0.6149\n",
            "Epoch 2/10\n",
            "10/10 [==============================] - 238s 24s/step - loss: 1.1069 - auc: 0.6702 - val_loss: 0.7945 - val_auc: 0.7579\n",
            "Epoch 3/10\n",
            "10/10 [==============================] - 281s 29s/step - loss: 0.7921 - auc: 0.7197 - val_loss: 0.6496 - val_auc: 0.7882\n",
            "Epoch 4/10\n",
            "10/10 [==============================] - 277s 28s/step - loss: 0.6656 - auc: 0.7652 - val_loss: 0.5135 - val_auc: 0.8210\n",
            "Epoch 5/10\n",
            "10/10 [==============================] - 237s 24s/step - loss: 0.7075 - auc: 0.7305 - val_loss: 1.1844 - val_auc: 0.8426\n",
            "Epoch 6/10\n",
            "10/10 [==============================] - 279s 29s/step - loss: 0.8177 - auc: 0.6892 - val_loss: 0.7768 - val_auc: 0.8354\n",
            "Epoch 7/10\n",
            "10/10 [==============================] - 286s 29s/step - loss: 0.5526 - auc: 0.8141 - val_loss: 0.5396 - val_auc: 0.8369\n",
            "Epoch 8/10\n",
            "10/10 [==============================] - 298s 31s/step - loss: 0.6142 - auc: 0.7807 - val_loss: 0.4549 - val_auc: 0.8544\n",
            "Epoch 9/10\n",
            "10/10 [==============================] - 257s 26s/step - loss: 0.5299 - auc: 0.8171 - val_loss: 0.6474 - val_auc: 0.8667\n",
            "Epoch 10/10\n",
            "10/10 [==============================] - 298s 31s/step - loss: 0.5402 - auc: 0.8142 - val_loss: 0.8141 - val_auc: 0.8882\n",
            "3/3 [==============================] - 47s 11s/step - loss: 0.8739 - auc: 0.8150\n"
          ]
        }
      ]
    },
    {
      "cell_type": "code",
      "source": [
        "model.save(\"VGG1.h5\")"
      ],
      "metadata": {
        "colab": {
          "base_uri": "https://localhost:8080/"
        },
        "id": "TA5d2INM9EKR",
        "outputId": "6baffb4e-39a3-4e59-b2a5-7d86be628c9f"
      },
      "execution_count": 146,
      "outputs": [
        {
          "output_type": "stream",
          "name": "stderr",
          "text": [
            "/usr/local/lib/python3.10/dist-packages/keras/src/engine/training.py:3000: UserWarning: You are saving your model as an HDF5 file via `model.save()`. This file format is considered legacy. We recommend using instead the native Keras format, e.g. `model.save('my_model.keras')`.\n",
            "  saving_api.save_model(\n"
          ]
        }
      ]
    },
    {
      "cell_type": "markdown",
      "source": [
        "## MobileNet\n"
      ],
      "metadata": {
        "id": "qneSQPaRXh3K"
      }
    },
    {
      "cell_type": "markdown",
      "source": [
        "### preprocess"
      ],
      "metadata": {
        "id": "t-ovvGlkaZiC"
      }
    },
    {
      "cell_type": "code",
      "source": [
        "# Split the data\n",
        "image_height = 224\n",
        "image_width = 224\n",
        "batch_size = 32\n",
        "num_epochs = 10\n",
        "\n",
        "\n",
        "train_df, valid_df = train_test_split(df, test_size=0.3, random_state=42)\n",
        "val_df, test_df = train_test_split(valid_df, test_size=0.5, random_state=42)\n",
        "# Load and preprocess images\n",
        "train_images = []\n",
        "train_labels = []\n",
        "\n",
        "for index, row in train_df.iterrows():\n",
        "    image = Image.open(row['path'])\n",
        "    image = image.convert('RGB')  # Convert the image to RGB format (3 channels)\n",
        "    image = image.resize((image_height, image_width))\n",
        "    image = np.array(image) / 255.0  # Rescale pixel values to [0, 1]\n",
        "    train_images.append(image)\n",
        "    train_labels.append(row['plume'])\n",
        "\n",
        "train_images = np.array(train_images)\n",
        "train_labels = np.array(train_labels)\n",
        "\n",
        "validation_images = []\n",
        "validation_labels = []\n",
        "\n",
        "for index, row in val_df.iterrows():\n",
        "    image = Image.open(row['path'])\n",
        "    image = image.convert('RGB')  # Convert the image to RGB format (3 channels)\n",
        "    image = image.resize((image_height, image_width))\n",
        "    image = np.array(image) / 255.0  # Rescale pixel values to [0, 1]\n",
        "    validation_images.append(image)\n",
        "    validation_labels.append(row['plume'])\n",
        "\n",
        "validation_images = np.array(validation_images)\n",
        "validation_labels = np.array(validation_labels)\n",
        "\n",
        "test_images = []  # Load and preprocess test images similarly\n",
        "test_labels = []\n",
        "\n",
        "for index, row in test_df.iterrows():\n",
        "    image = Image.open(row['path'])\n",
        "    image = image.convert('RGB')  # Convert the image to RGB format (3 channels)\n",
        "    image = image.resize((image_height, image_width))\n",
        "    image = np.array(image) / 255.0  # Rescale pixel values to [0, 1]\n",
        "    test_images.append(image)\n",
        "    test_labels.append(row['plume'])\n",
        "\n",
        "test_images = np.array(test_images)\n",
        "test_labels = np.array(test_labels)\n",
        "\n",
        "# Convert string labels to numerical format in your data frames\n",
        "train_df['plume'] = train_df['plume'].map({'yes': 1, 'no': 0})\n",
        "val_df['plume'] = val_df['plume'].map({'yes': 1, 'no': 0})\n",
        "test_df['plume'] = test_df['plume'].map({'yes': 1, 'no': 0})\n",
        "\n",
        "# Now convert the labels to NumPy arrays\n",
        "train_labels = np.array(train_df['plume'])\n",
        "validation_labels = np.array(val_df['plume'])\n",
        "test_labels = np.array(test_df['plume'])\n",
        "\n",
        "# Create an instance of the ImageDataGenerator\n",
        "traindatagen = ImageDataGenerator(\n",
        "    rotation_range=20,\n",
        "    width_shift_range=0.2,\n",
        "    height_shift_range=0.2,\n",
        "    shear_range=0.2,\n",
        "    zoom_range=0.2,\n",
        "    horizontal_flip=True,\n",
        "    vertical_flip=True,\n",
        "    # preprocessing_function=upscale_image,\n",
        ")\n",
        "\n",
        "valdatagen = ImageDataGenerator(\n",
        ")\n",
        "\n",
        "# train_images = train_images.reshape(train_images.shape + (1,))\n",
        "train_datagen = traindatagen.flow(train_images, train_labels, batch_size=batch_size)\n",
        "# validation_images = validation_images.reshape(validation_images.shape + (1,))\n",
        "validation_datagen = valdatagen.flow(validation_images, validation_labels, batch_size=batch_size)\n",
        "# test_images = test_images.reshape(test_images.shape + (1,))\n",
        "test_datagen = valdatagen.flow(test_images, test_labels, batch_size=batch_size)"
      ],
      "metadata": {
        "id": "Ssi-WiOiZ87M"
      },
      "execution_count": 162,
      "outputs": []
    },
    {
      "cell_type": "markdown",
      "source": [
        "### model"
      ],
      "metadata": {
        "id": "ljGgPhrLrC7Y"
      }
    },
    {
      "cell_type": "code",
      "source": [
        "from tensorflow.keras.applications import MobileNetV2\n",
        "from tensorflow.keras.losses import binary_crossentropy\n",
        "\n",
        "base_model = MobileNetV2(weights='imagenet', include_top=False, input_shape=(224, 224, 3))\n",
        "\n",
        "# x = base_model.output\n",
        "# x = GlobalAveragePooling2D()(x)\n",
        "# x = Dense(256, activation='relu')(x)\n",
        "# predictions = Dense(1, activation='sigmoid')(x)\n",
        "# model = Model(inputs=base_model.input, outputs=predictions)\n",
        "\n",
        "\n",
        "model = tf.keras.Sequential()\n",
        "model.add(base_model)\n",
        "model.add(tf.keras.layers.GlobalAveragePooling2D())\n",
        "model.add(tf.keras.layers.Dense(256, activation='relu'))\n",
        "model.add(tf.keras.layers.Dropout(0.2))\n",
        "model.add(tf.keras.layers.Dense(256, activation='relu'))\n",
        "model.add(tf.keras.layers.Dropout(0.2))\n",
        "model.add(tf.keras.layers.Dense(1, activation='sigmoid'))\n",
        "\n",
        "\n",
        "\n",
        "for layer in base_model.layers:\n",
        "    layer.trainable = False\n",
        "\n",
        "\n",
        "model.compile(optimizer=Adam(learning_rate=0.001), loss=binary_crossentropy, metrics=['AUC'])\n",
        "\n",
        "# for layer in base_model.layers:\n",
        "#     layer.trainable = True\n",
        "\n",
        "# # It's good to use a smaller learning rate for fine-tuning\n",
        "\n",
        "# model.compile(optimizer=Adam(lr=0.0001), loss='categorical_crossentropy', metrics=['accuracy'])\n",
        "\n",
        "early_stopper = tf.keras.callbacks.EarlyStopping(monitor = 'val_auc',\n",
        "                                                 mode = 'max',\n",
        "                                                 min_delta = 0.005,\n",
        "                                                 patience = 10,\n",
        "                                                 verbose = 1,\n",
        "                                                 restore_best_weights = True)\n",
        "\n",
        "model.fit(train_datagen, epochs=20, validation_data=validation_datagen, callbacks=[early_stopper])"
      ],
      "metadata": {
        "colab": {
          "base_uri": "https://localhost:8080/"
        },
        "id": "TOqeoudnVAKT",
        "outputId": "2ab1a595-9c8d-4ead-c025-2c2eba29ef72"
      },
      "execution_count": 165,
      "outputs": [
        {
          "output_type": "stream",
          "name": "stdout",
          "text": [
            "Epoch 1/20\n",
            "10/10 [==============================] - 26s 2s/step - loss: 0.9443 - auc: 0.4761 - val_loss: 0.6443 - val_auc: 0.6938\n",
            "Epoch 2/20\n",
            "10/10 [==============================] - 25s 2s/step - loss: 0.6364 - auc: 0.6758 - val_loss: 0.6688 - val_auc: 0.7728\n",
            "Epoch 3/20\n",
            "10/10 [==============================] - 17s 2s/step - loss: 0.6634 - auc: 0.6609 - val_loss: 0.5748 - val_auc: 0.7482\n",
            "Epoch 4/20\n",
            "10/10 [==============================] - 30s 3s/step - loss: 0.5835 - auc: 0.7592 - val_loss: 0.6173 - val_auc: 0.7826\n",
            "Epoch 5/20\n",
            "10/10 [==============================] - 26s 3s/step - loss: 0.5695 - auc: 0.7752 - val_loss: 0.7672 - val_auc: 0.7764\n",
            "Epoch 6/20\n",
            "10/10 [==============================] - 19s 2s/step - loss: 0.6174 - auc: 0.7239 - val_loss: 0.6392 - val_auc: 0.7651\n",
            "Epoch 7/20\n",
            "10/10 [==============================] - 20s 2s/step - loss: 0.6079 - auc: 0.7342 - val_loss: 0.5683 - val_auc: 0.7462\n",
            "Epoch 8/20\n",
            "10/10 [==============================] - 18s 2s/step - loss: 0.6062 - auc: 0.7404 - val_loss: 0.7449 - val_auc: 0.7938\n",
            "Epoch 9/20\n",
            "10/10 [==============================] - 17s 2s/step - loss: 0.5735 - auc: 0.7941 - val_loss: 0.6720 - val_auc: 0.7805\n",
            "Epoch 10/20\n",
            "10/10 [==============================] - 20s 2s/step - loss: 0.5843 - auc: 0.7709 - val_loss: 0.6106 - val_auc: 0.7867\n",
            "Epoch 11/20\n",
            "10/10 [==============================] - 17s 2s/step - loss: 0.5582 - auc: 0.7869 - val_loss: 0.6878 - val_auc: 0.7851\n",
            "Epoch 12/20\n",
            "10/10 [==============================] - 17s 2s/step - loss: 0.5754 - auc: 0.7686 - val_loss: 0.6586 - val_auc: 0.7923\n",
            "Epoch 13/20\n",
            "10/10 [==============================] - 18s 2s/step - loss: 0.5722 - auc: 0.7736 - val_loss: 0.5368 - val_auc: 0.7990\n",
            "Epoch 14/20\n",
            "10/10 [==============================] - 17s 2s/step - loss: 0.5453 - auc: 0.7965 - val_loss: 0.6103 - val_auc: 0.8103\n",
            "Epoch 15/20\n",
            "10/10 [==============================] - 18s 2s/step - loss: 0.5168 - auc: 0.8265 - val_loss: 0.5618 - val_auc: 0.7867\n",
            "Epoch 16/20\n",
            "10/10 [==============================] - 26s 3s/step - loss: 0.5156 - auc: 0.8183 - val_loss: 0.6312 - val_auc: 0.7974\n",
            "Epoch 17/20\n",
            "10/10 [==============================] - 26s 3s/step - loss: 0.5325 - auc: 0.8109 - val_loss: 0.6525 - val_auc: 0.7841\n",
            "Epoch 18/20\n",
            "10/10 [==============================] - 22s 2s/step - loss: 0.5196 - auc: 0.8208 - val_loss: 0.6738 - val_auc: 0.7887\n",
            "Epoch 19/20\n",
            "10/10 [==============================] - 18s 2s/step - loss: 0.4865 - auc: 0.8492 - val_loss: 0.6235 - val_auc: 0.8072\n",
            "Epoch 20/20\n",
            "10/10 [==============================] - 21s 2s/step - loss: 0.4993 - auc: 0.8380 - val_loss: 0.5451 - val_auc: 0.8015\n"
          ]
        },
        {
          "output_type": "execute_result",
          "data": {
            "text/plain": [
              "<keras.src.callbacks.History at 0x7d89b2ed8130>"
            ]
          },
          "metadata": {},
          "execution_count": 165
        }
      ]
    },
    {
      "cell_type": "code",
      "source": [
        "# model.save('MobileNet1.h5')\n",
        "test_loss, test_accuracy = model.evaluate(test_datagen)\n",
        "print(f\"Test accuracy: {test_accuracy:.2f}\")"
      ],
      "metadata": {
        "colab": {
          "base_uri": "https://localhost:8080/"
        },
        "id": "Qaq4CJlIrZLj",
        "outputId": "09b76abe-c0f0-4485-af8e-589e34755569"
      },
      "execution_count": 166,
      "outputs": [
        {
          "output_type": "stream",
          "name": "stdout",
          "text": [
            "3/3 [==============================] - 2s 529ms/step - loss: 0.5328 - auc: 0.8046\n",
            "Test accuracy: 0.80\n"
          ]
        }
      ]
    },
    {
      "cell_type": "code",
      "source": [
        "sample_batch, sample_labels = next(validation_datagen)\n",
        "sample_batch, sample_labels = next(train_datagen)\n",
        "\n",
        "data_type = sample_batch.dtype\n",
        "\n",
        "# Print the data type\n",
        "print(\"Data type of the batch:\", data_type)"
      ],
      "metadata": {
        "colab": {
          "base_uri": "https://localhost:8080/"
        },
        "id": "51Aq7TKqhIfA",
        "outputId": "1974ceeb-801e-4c32-a41c-0439eec3dda1"
      },
      "execution_count": 140,
      "outputs": [
        {
          "output_type": "stream",
          "name": "stdout",
          "text": [
            "Data type of the batch: float32\n"
          ]
        }
      ]
    },
    {
      "cell_type": "markdown",
      "source": [
        "## RESNET\n",
        "\n",
        "\n"
      ],
      "metadata": {
        "id": "V-oUV8UPOa6A"
      }
    },
    {
      "cell_type": "code",
      "source": [
        "train_labels.dtype"
      ],
      "metadata": {
        "colab": {
          "base_uri": "https://localhost:8080/"
        },
        "id": "0ETH1e28l83W",
        "outputId": "b302b7ec-b2e5-434f-91e0-0b3ddafdf006"
      },
      "execution_count": 141,
      "outputs": [
        {
          "output_type": "execute_result",
          "data": {
            "text/plain": [
              "dtype('int64')"
            ]
          },
          "metadata": {},
          "execution_count": 141
        }
      ]
    },
    {
      "cell_type": "code",
      "source": [
        "# Split the data\n",
        "image_height = 224\n",
        "image_width = 224\n",
        "batch_size = 32\n",
        "num_epochs = 10\n",
        "\n",
        "\n",
        "train_df, valid_df = train_test_split(df, test_size=0.3, random_state=42)\n",
        "val_df, test_df = train_test_split(valid_df, test_size=0.5, random_state=42)\n",
        "# Load and preprocess images\n",
        "train_images = []\n",
        "train_labels = []\n",
        "\n",
        "for index, row in train_df.iterrows():\n",
        "    image = Image.open(row['path'])\n",
        "    image = image.convert('RGB')  # Convert the image to RGB format (3 channels)\n",
        "    image = image.resize((image_height, image_width))\n",
        "    image = np.array(image) / 255.0  # Rescale pixel values to [0, 1]\n",
        "    train_images.append(image)\n",
        "    train_labels.append(row['plume'])\n",
        "\n",
        "train_images = np.array(train_images)\n",
        "train_labels = np.array(train_labels)\n",
        "\n",
        "validation_images = []\n",
        "validation_labels = []\n",
        "\n",
        "for index, row in val_df.iterrows():\n",
        "    image = Image.open(row['path'])\n",
        "    image = image.convert('RGB')  # Convert the image to RGB format (3 channels)\n",
        "    image = image.resize((image_height, image_width))\n",
        "    image = np.array(image) / 255.0  # Rescale pixel values to [0, 1]\n",
        "    validation_images.append(image)\n",
        "    validation_labels.append(row['plume'])\n",
        "\n",
        "validation_images = np.array(validation_images)\n",
        "validation_labels = np.array(validation_labels)\n",
        "\n",
        "test_images = []  # Load and preprocess test images similarly\n",
        "test_labels = []\n",
        "\n",
        "for index, row in test_df.iterrows():\n",
        "    image = Image.open(row['path'])\n",
        "    image = image.convert('RGB')  # Convert the image to RGB format (3 channels)\n",
        "    image = image.resize((image_height, image_width))\n",
        "    image = np.array(image) / 255.0  # Rescale pixel values to [0, 1]\n",
        "    test_images.append(image)\n",
        "    test_labels.append(row['plume'])\n",
        "\n",
        "test_images = np.array(test_images)\n",
        "test_labels = np.array(test_labels)\n",
        "\n",
        "# Convert string labels to numerical format in your data frames\n",
        "train_df['plume'] = train_df['plume'].map({'yes': 1, 'no': 0})\n",
        "val_df['plume'] = val_df['plume'].map({'yes': 1, 'no': 0})\n",
        "test_df['plume'] = test_df['plume'].map({'yes': 1, 'no': 0})\n",
        "\n",
        "# Now convert the labels to NumPy arrays\n",
        "train_labels = np.array(train_df['plume'])\n",
        "validation_labels = np.array(val_df['plume'])\n",
        "test_labels = np.array(test_df['plume'])\n",
        "\n",
        "# Create an instance of the ImageDataGenerator\n",
        "traindatagen = ImageDataGenerator(\n",
        "    rotation_range=20,\n",
        "    width_shift_range=0.2,\n",
        "    height_shift_range=0.2,\n",
        "    shear_range=0.2,\n",
        "    zoom_range=0.2,\n",
        "    horizontal_flip=True,\n",
        "    vertical_flip=True,\n",
        "    # preprocessing_function=upscale_image,\n",
        ")\n",
        "\n",
        "valdatagen = ImageDataGenerator(\n",
        ")\n",
        "\n",
        "# train_images = train_images.reshape(train_images.shape + (1,))\n",
        "train_datagen = traindatagen.flow(train_images, train_labels, batch_size=batch_size)\n",
        "# validation_images = validation_images.reshape(validation_images.shape + (1,))\n",
        "validation_datagen = valdatagen.flow(validation_images, validation_labels, batch_size=batch_size)\n",
        "# test_images = test_images.reshape(test_images.shape + (1,))\n",
        "test_datagen = valdatagen.flow(test_images, test_labels, batch_size=batch_size)"
      ],
      "metadata": {
        "id": "jwR2e_08OkUa"
      },
      "execution_count": 167,
      "outputs": []
    },
    {
      "cell_type": "code",
      "source": [
        "from tensorflow.keras.applications import ResNet50\n",
        "from tensorflow.keras.layers import GlobalAveragePooling2D, Dense\n",
        "from tensorflow.keras.models import Model\n",
        "\n",
        "# Load the pre-trained ResNet50 model\n",
        "base_model = ResNet50(weights='imagenet', include_top=False, input_shape=(224, 224, 3))\n",
        "\n",
        "# Freeze the layers of the base model\n",
        "for layer in base_model.layers:\n",
        "    layer.trainable = False\n",
        "\n",
        "x = base_model.output\n",
        "\n",
        "# Apply GlobalAveragePooling2D layer once\n",
        "x = GlobalAveragePooling2D()(x)\n",
        "\n",
        "# Add your fully connected layers\n",
        "# x = Dense(1024, activation='relu')(x)\n",
        "x = Dense(512, activation='relu')(x)\n",
        "\n",
        "# Create the output layer for binary classification (1 neuron, sigmoid activation)\n",
        "predictions = Dense(1, activation='sigmoid')(x)\n",
        "\n",
        "# Create the final model\n",
        "model = Model(inputs=base_model.input, outputs=predictions)\n",
        "\n",
        "model.compile(optimizer=Adam(learning_rate=0.001), loss=binary_crossentropy, metrics=['AUC'])\n",
        "\n",
        "# for layer in base_model.layers:\n",
        "#     layer.trainable = True\n",
        "\n",
        "# # It's good to use a smaller learning rate for fine-tuning\n",
        "\n",
        "# model.compile(optimizer=Adam(lr=0.0001), loss='categorical_crossentropy', metrics=['accuracy'])\n",
        "\n",
        "early_stopper = tf.keras.callbacks.EarlyStopping(monitor = 'val_auc',\n",
        "                                                 mode = 'max',\n",
        "                                                 min_delta = 0.005,\n",
        "                                                 patience = 10,\n",
        "                                                 verbose = 1,\n",
        "                                                 restore_best_weights = True)\n",
        "\n",
        "model.fit(train_datagen, epochs=20, validation_data=validation_datagen, callbacks=[early_stopper])\n",
        "\n"
      ],
      "metadata": {
        "colab": {
          "base_uri": "https://localhost:8080/"
        },
        "id": "sahoHPjmOlow",
        "outputId": "ce1f4a5c-d921-45c9-e99a-bb86be9d214c"
      },
      "execution_count": null,
      "outputs": [
        {
          "output_type": "stream",
          "name": "stdout",
          "text": [
            "Epoch 1/20\n"
          ]
        },
        {
          "output_type": "stream",
          "name": "stderr",
          "text": [
            "Exception ignored in: <function WeakKeyDictionary.__init__.<locals>.remove at 0x7d89d9facb80>\n",
            "Traceback (most recent call last):\n",
            "  File \"/usr/lib/python3.10/weakref.py\", line 370, in remove\n",
            "    def remove(k, selfref=ref(self)):\n",
            "KeyboardInterrupt: \n"
          ]
        },
        {
          "output_type": "stream",
          "name": "stdout",
          "text": [
            "10/10 [==============================] - 192s 9s/step - loss: 1.0047 - auc: 0.5456 - val_loss: 0.7121 - val_auc: 0.7000\n",
            "Epoch 2/20\n",
            "10/10 [==============================] - 88s 9s/step - loss: 0.7351 - auc: 0.5509 - val_loss: 0.8295 - val_auc: 0.6954\n",
            "Epoch 3/20\n",
            "10/10 [==============================] - 87s 9s/step - loss: 0.6948 - auc: 0.5497 - val_loss: 0.7262 - val_auc: 0.6744\n",
            "Epoch 4/20\n",
            " 5/10 [==============>...............] - ETA: 28s - loss: 0.7153 - auc: 0.5679"
          ]
        }
      ]
    },
    {
      "cell_type": "code",
      "source": [
        "train_images.shape"
      ],
      "metadata": {
        "colab": {
          "base_uri": "https://localhost:8080/"
        },
        "id": "1jyOGGwORiJZ",
        "outputId": "5d61328b-d5db-4402-fccb-95c85f8dde0d"
      },
      "execution_count": 170,
      "outputs": [
        {
          "output_type": "execute_result",
          "data": {
            "text/plain": [
              "(301, 224, 224, 3)"
            ]
          },
          "metadata": {},
          "execution_count": 170
        }
      ]
    }
  ]
}